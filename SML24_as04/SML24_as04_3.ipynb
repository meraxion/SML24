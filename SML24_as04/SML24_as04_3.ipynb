{
 "cells": [
  {
   "cell_type": "markdown",
   "metadata": {
    "editable": false,
    "slideshow": {
     "slide_type": ""
    },
    "tags": []
   },
   "source": [
    "1. **Restart the kernel** (in the menubar, select Kernel$\\rightarrow$Restart)\n",
    "2. **Run all cells** (in the menubar, select Cell$\\rightarrow$Run All).\n",
    "3. __Use the__ `Validate` __button in the Assignments tab before submitting__.\n",
    "\n",
    "__Include comments, derivations, explanations, graphs, etc.__ \n",
    "\n",
    "You __work in groups__ (= 3 people). __Write the full name and S/U-number of all team members!__"
   ]
  },
  {
   "cell_type": "raw",
   "metadata": {
    "editable": true,
    "slideshow": {
     "slide_type": ""
    },
    "tags": []
   },
   "source": [
    "GROUP NUMBER (brightspace): \n",
    "* Student 1 name, S/U-number:\n",
    "* Student 2 name, S/U-number:\n",
    "* Student 3 name, S/U-number:"
   ]
  },
  {
   "cell_type": "markdown",
   "metadata": {
    "editable": true,
    "slideshow": {
     "slide_type": ""
    },
    "tags": []
   },
   "source": [
    "---"
   ]
  },
  {
   "cell_type": "markdown",
   "metadata": {
    "deletable": false,
    "editable": false,
    "nbgrader": {
     "cell_type": "markdown",
     "checksum": "44361ac6123000e46e50e187c06f2642",
     "grade": false,
     "grade_id": "cell-d54b63afa7b264a2",
     "locked": true,
     "schema_version": 3,
     "solution": false,
     "task": false
    }
   },
   "source": [
    "# Assignment 4 (Statistical Machine Learning 2024)\n",
    "# **Deadline: 21 December 2024**\n",
    "\n",
    "## Instructions\n",
    "* Fill in any place that says `YOUR CODE HERE` or `YOUR ANSWER HERE` __including comments, derivations, explanations, graphs, etc.__ \n",
    "Elements and/or intermediate steps required to derive the answer have to be in the report. If an exercise requires coding, explain briefly what the code does (in comments). All figures should have titles (descriptions), axis labels, and legends.\n",
    "* __Please use LaTeX to write down equations/derivations/other math__! How to do that in Markdown cells can be found [here](https://www.fabriziomusacchio.com/blog/2021-08-10-How_to_use_LaTeX_in_Markdown/), a starting point for various symbols is [here](https://www.overleaf.com/learn/latex/Mathematical_expressions).\n",
    "* Please do __not add new cells__ to the notebook, try to write the answers only in the provided cells. Before you turn the assignment in, make sure everything runs as expected.\n",
    "* __Use the variable names given in the exercises__, do not assign your own variable names. \n",
    "* __Only one team member needs to upload the solutions__. This can be done under the Assignments tab, where you fetched the assignments, and where you can also validate your submissions. Please do not change the filenames of the individual Jupyter notebooks.\n",
    "\n",
    "For any problems or questions regarding the assignments, ask during the tutorial or send an email to charlotte.cambiervannooten@ru.nl and janneke.verbeek@ru.nl .\n",
    "\n",
    "## Introduction\n",
    "Assignment 4 consists of:\n",
    "1. Bayesian inference in binary response problem (50 points);\n",
    "2. The EM algorithm for doping detection (50 points)__;\n",
    "3. __Gibbs sampling and Metropolis-Hastings (50 points)__;\n",
    "4. State-Space models (50 points).\n",
    "\n",
    "## Libraries\n",
    "\n",
    "Please __avoid installing new packages__, unless really necessary."
   ]
  },
  {
   "cell_type": "code",
   "execution_count": null,
   "metadata": {
    "deletable": false,
    "editable": false,
    "nbgrader": {
     "cell_type": "code",
     "checksum": "d5fe4ff310f7bba46f462811a1f5f7e3",
     "grade": false,
     "grade_id": "cell-8377ce1c032fab37",
     "locked": true,
     "schema_version": 3,
     "solution": false,
     "task": false
    }
   },
   "outputs": [],
   "source": [
    "import IPython\n",
    "assert IPython.version_info[0] >= 3, \"Your version of IPython is too old, please update it to at least version 3.\"\n",
    "\n",
    "import random\n",
    "import numpy as np\n",
    "import matplotlib.pyplot as plt\n",
    "from scipy.stats import multivariate_normal\n",
    "\n",
    "# Set fixed random seed for reproducibility\n",
    "np.random.seed(2022)"
   ]
  },
  {
   "cell_type": "markdown",
   "metadata": {
    "deletable": false,
    "editable": false,
    "nbgrader": {
     "cell_type": "markdown",
     "checksum": "95ea83d57aaf76a807c1658ff7c09724",
     "grade": false,
     "grade_id": "cell-23e5fc8826fbf8a4",
     "locked": true,
     "schema_version": 3,
     "solution": false,
     "task": false
    }
   },
   "source": [
    "## Gibbs sampling and Metropolis-Hastings (50 points)\n",
    "Exact inference is often not tractable in real-world probabilistic models. By *exact*, we mean that the likelihood and posterior are available in closed form (as an analytical expression). For example, recall *Gaussian processes regression*: we have a Gaussian process prior and a Gaussian likelihood that conveniently result in a Gaussian process posterior. It is, however, not the case when we want to use Gaussian processes for classification. We have a Gaussian process prior, yet, the likelihood has to be, for example, sigmoid (logistic) or cumulative normal (probit). Such a prior and likelihood will not give us the Gaussian process posterior anymore. Thus, some other methods would have to be used for this purpose, such as *Laplace approximation*, *Expectation Propagation*, or *Markov Chain Monte Carlo methods*. In particular, for the Gaussian processes classification problem, one could use **Gibbs sampling**. In this exercise we will avoid some cumbersome derivations related to more complex problems (such as GP classification) and implement Gibbs sampling and Metropolis-Hastings for toy problems to illustrate the intuition behind the algorithms. \n",
    "### Gibbs sampler\n",
    "Consider a two-dimensional Gaussian distribution $\\boldsymbol{x}\\sim N(\\boldsymbol{\\mu}, \\boldsymbol{\\Sigma})$ with parameters \n",
    "\\begin{equation}\n",
    "\\boldsymbol{\\mu}=\n",
    "\\begin{bmatrix}\n",
    "1\\\\\n",
    "2\n",
    "\\end{bmatrix}\\quad\n",
    "\\boldsymbol{\\Sigma}=\\begin{bmatrix}\n",
    "1&0.8\\\\\n",
    "0.8&2\n",
    "\\end{bmatrix}\n",
    "\\end{equation}\n",
    "1. Write down the relevant conditional densities for sampling from a 2D Gaussian, write down the iterations of the Gibbs sampler for sampling from a 2D Gaussian. "
   ]
  },
  {
   "cell_type": "markdown",
   "metadata": {
    "deletable": false,
    "nbgrader": {
     "cell_type": "markdown",
     "checksum": "40797b82ca3e65c21d7a0a069e9ce57e",
     "grade": true,
     "grade_id": "cell-90751e235edc05c3",
     "locked": false,
     "points": 5,
     "schema_version": 3,
     "solution": true,
     "task": false
    }
   },
   "source": [
    "YOUR ANSWER HERE"
   ]
  },
  {
   "cell_type": "markdown",
   "metadata": {
    "deletable": false,
    "editable": false,
    "nbgrader": {
     "cell_type": "markdown",
     "checksum": "1d7c79d4005aa62be61750a24ec8a44b",
     "grade": false,
     "grade_id": "cell-fabcfd7440210369",
     "locked": true,
     "schema_version": 3,
     "solution": false,
     "task": false
    }
   },
   "source": [
    "2. Implement the Gibbs sampler. Start with an initial guess $[-1.5, 4]^{T}$. Plot the Gaussian contours along with the initial guess after 2, 5, and 100 full cycles of the Gibbs sampler. "
   ]
  },
  {
   "cell_type": "markdown",
   "metadata": {
    "deletable": false,
    "editable": false,
    "nbgrader": {
     "cell_type": "markdown",
     "checksum": "9b3000e2eed00e40a31fe43315695c3d",
     "grade": false,
     "grade_id": "cell-f5c52c3e7a4ec72d",
     "locked": true,
     "schema_version": 3,
     "solution": false,
     "task": false
    }
   },
   "source": [
    "First, create a function that plots the contours, the initial guess, and the generated samples. "
   ]
  },
  {
   "cell_type": "code",
   "execution_count": null,
   "metadata": {
    "deletable": false,
    "nbgrader": {
     "cell_type": "code",
     "checksum": "f13ebe121debdf058522744f0642f5a2",
     "grade": true,
     "grade_id": "cell-018a6a9dba99f5d6",
     "locked": false,
     "points": 5,
     "schema_version": 3,
     "solution": true,
     "task": false
    }
   },
   "outputs": [],
   "source": [
    "def gauss_contour(mu, sigma, init_guess, samples=[], title='Initial guess'):\n",
    "    \"\"\"\n",
    "    Function to plot Gaussian contours and initial guess.\n",
    "\n",
    "    Parameters\n",
    "    ----------\n",
    "    mu : (2,) np.ndarray\n",
    "        The mean.\n",
    "    sigma : (2,2) np.ndarray\n",
    "        The covariance.\n",
    "    init_guess : (2,) np.ndarray\n",
    "        The array containing the initial guess.\n",
    "    samples : (T,2) np.ndarray\n",
    "        The array containing the generated samples.\n",
    "    title : The title of the plot.\n",
    "\n",
    "    Returns\n",
    "    -------\n",
    "    \"\"\"\n",
    "    # YOUR CODE HERE\n",
    "    raise NotImplementedError()"
   ]
  },
  {
   "cell_type": "markdown",
   "metadata": {
    "deletable": false,
    "editable": false,
    "nbgrader": {
     "cell_type": "markdown",
     "checksum": "947a3f0ab828c0e831a0b067862c6f5b",
     "grade": false,
     "grade_id": "cell-b6e2227530375bf1",
     "locked": true,
     "schema_version": 3,
     "solution": false,
     "task": false
    }
   },
   "source": [
    "Implement the Gibbs sampler."
   ]
  },
  {
   "cell_type": "code",
   "execution_count": null,
   "metadata": {
    "deletable": false,
    "nbgrader": {
     "cell_type": "code",
     "checksum": "8ebb748a4773c06fea45d1e800edfbdf",
     "grade": true,
     "grade_id": "cell-71b1b1a3ce786c32",
     "locked": false,
     "points": 5,
     "schema_version": 3,
     "solution": true,
     "task": false
    }
   },
   "outputs": [],
   "source": [
    "def Gibbs(mu, sigma, init_guess, T):\n",
    "    \"\"\"\n",
    "    Function to plot Gaussian contours and initial guess.\n",
    "\n",
    "    Parameters\n",
    "    ----------\n",
    "    mu : (2,) np.ndarray\n",
    "        The mean.\n",
    "    sigma : (2,2) np.ndarray\n",
    "        The covariance.\n",
    "    init_guess : (2,) np.ndarray\n",
    "        The array containing the initial guess.\n",
    "    T : integer\n",
    "        The number of samples to generate.\n",
    "\n",
    "    Returns\n",
    "    -------\n",
    "    The samples generated.\n",
    "    \"\"\"\n",
    "    # YOUR CODE HERE\n",
    "    raise NotImplementedError()"
   ]
  },
  {
   "cell_type": "markdown",
   "metadata": {
    "deletable": false,
    "editable": false,
    "nbgrader": {
     "cell_type": "markdown",
     "checksum": "c7feb00bde31dcbd1cf653ed037ff512",
     "grade": false,
     "grade_id": "cell-a7bf0cdefc06da6b",
     "locked": true,
     "schema_version": 3,
     "solution": false,
     "task": false
    }
   },
   "source": [
    "Run the Gibbs sampler and plot the results."
   ]
  },
  {
   "cell_type": "code",
   "execution_count": null,
   "metadata": {
    "deletable": false,
    "nbgrader": {
     "cell_type": "code",
     "checksum": "5b33073c8c42ed38033e79ca2c5906e6",
     "grade": true,
     "grade_id": "cell-9a313d7e326e3e20",
     "locked": false,
     "points": 3,
     "schema_version": 3,
     "solution": true,
     "task": false
    }
   },
   "outputs": [],
   "source": [
    "\"\"\"\n",
    "Define the initial guess, the mean, the covariance, and run the Gibbs sampler.\n",
    "\"\"\"\n",
    "# YOUR CODE HERE\n",
    "raise NotImplementedError()"
   ]
  },
  {
   "cell_type": "markdown",
   "metadata": {
    "deletable": false,
    "editable": false,
    "nbgrader": {
     "cell_type": "markdown",
     "checksum": "8321583c80753856066964f6e9f7d786",
     "grade": false,
     "grade_id": "cell-3d9fd72dc2f45949",
     "locked": true,
     "schema_version": 3,
     "solution": false,
     "task": false
    }
   },
   "source": [
    "3. Compute the sample mean and sample covariance after 50, 100, 500, and 1000 samples."
   ]
  },
  {
   "cell_type": "code",
   "execution_count": null,
   "metadata": {
    "deletable": false,
    "nbgrader": {
     "cell_type": "code",
     "checksum": "bd8ddcaa97ced9df1bbc2652005c2cd7",
     "grade": true,
     "grade_id": "cell-68db8b97860c4073",
     "locked": false,
     "points": 3,
     "schema_version": 3,
     "solution": true,
     "task": false
    }
   },
   "outputs": [],
   "source": [
    "\"\"\"\n",
    "Compute the sample mean and covariance.\n",
    "\"\"\"\n",
    "# YOUR CODE HERE\n",
    "raise NotImplementedError()"
   ]
  },
  {
   "cell_type": "markdown",
   "metadata": {
    "deletable": false,
    "editable": false,
    "nbgrader": {
     "cell_type": "markdown",
     "checksum": "f6987f9e75a61c6779a98df5e4ab53e6",
     "grade": false,
     "grade_id": "cell-cdcc6edd849dbeee",
     "locked": true,
     "schema_version": 3,
     "solution": false,
     "task": false
    }
   },
   "source": [
    "Comment on the results."
   ]
  },
  {
   "cell_type": "markdown",
   "metadata": {
    "deletable": false,
    "nbgrader": {
     "cell_type": "markdown",
     "checksum": "96a3c29414c5265ae593ed0d29d54758",
     "grade": true,
     "grade_id": "cell-157f8e51035c9ab1",
     "locked": false,
     "points": 4,
     "schema_version": 3,
     "solution": true,
     "task": false
    }
   },
   "source": [
    "YOUR ANSWER HERE"
   ]
  },
  {
   "cell_type": "markdown",
   "metadata": {
    "deletable": false,
    "editable": false,
    "nbgrader": {
     "cell_type": "markdown",
     "checksum": "74ed774d5cf64d2bb47ee121f22a2849",
     "grade": false,
     "grade_id": "cell-15349eb9916f3ccf",
     "locked": true,
     "schema_version": 3,
     "solution": false,
     "task": false
    }
   },
   "source": [
    "### Metropolis-Hastings\n",
    "Here, we will continue working with bivariate Gaussian distribution. However, we will set up the problem differently. Assume now that the correlation parameter $\\rho$ is unknown (while the mean and variances remain known):\n",
    "\\begin{equation}\n",
    "\\boldsymbol{\\mu}=\n",
    "\\begin{bmatrix}\n",
    "0\\\\\n",
    "0\n",
    "\\end{bmatrix}\\,\\,\\,\\,\\,\\,\\,\\,\\,\\,\n",
    "\\boldsymbol{\\Sigma}=\\begin{bmatrix}\n",
    "1&\\rho\\\\\n",
    "\\rho&1\n",
    "\\end{bmatrix}\n",
    "\\end{equation}\n",
    "The likelihood function follows\n",
    "\\begin{equation}\n",
    "p(x_{1}^{1:N}, x_{2}^{1:N}|\\rho)=\\prod_{i=1}^{N}\\frac{1}{2\\pi\\sqrt{1-\\rho^{2}}}\\exp\\left(-\\frac{1}{2(1-\\rho^{2})}[(x_{1}^{i})^{2}-2\\rho x_{1}^{i}x_{2}^{i}+(x_{2}^{i})^{2}] \\right),\n",
    "\\label{eq:likelihood}\n",
    "\\tag{1}\n",
    "\\end{equation}\n",
    "where index $i$ represents the $i^{th}$ observation. Further, we want to specify an uninformative prior on our covariance matrix. It is common to take the Jeffreys prior (https://en.wikipedia.org/wiki/Jeffreys_prior). In our case, it will become\n",
    "\\begin{equation}\n",
    "p(\\rho)=\\frac{1}{|\\Sigma^{3/2}|}=\\frac{1}{\\begin{vmatrix} 1&\\rho\\\\\n",
    "\t\\rho&1\\end{vmatrix}^{3/2}}=1/(1-\\rho^{2})^{3/2}.\n",
    "\\label{eq:jeffrey}\n",
    "\\tag{2}\n",
    "\\end{equation}\n",
    "If you use Bayes's rule for finding the posterior of $p(\\rho)$ you will realize that it is not of any known form. So further we will infer $p(\\rho|x_{1}^{1:N}, x_{2}^{1:N})$ using the Metropolis-Hastings algorithm.\n",
    "For this exercise, generate $N=1000$ data points from multivariate normal with the parameters:\n",
    "\\begin{equation}\n",
    "\\boldsymbol{\\mu}=\n",
    "\\begin{bmatrix}\n",
    "0\\\\\n",
    "0\n",
    "\\end{bmatrix}\\,\\,\\,\\,\\,\\,\\,\\,\\,\\,\n",
    "\\boldsymbol{\\Sigma}=\\begin{bmatrix}\n",
    "1&0.4\\\\\n",
    "0.4&1\n",
    "\\end{bmatrix},\n",
    "\\end{equation}\n",
    "so we know the ground thruth $\\rho=0.4$. \n",
    "1. In this exercise we will implement the Metropolis-Hastings algorithm. Let us first specify the proposal distribution:\n",
    "\\begin{equation}\n",
    "\\rho^{cand}\\sim Uniform(\\rho^{k-1}-0.07, \\rho^{k-1}+ 0.07), \n",
    "\\end{equation}\n",
    "where $k$ is the interation of the Metropolis-Hastings algorithm. Comment on this proposal distribution (is it symmetric? does that help?). Write down the formula for the Metropolis-Hastings acceptance function using this proposal distribution. Comment on the role of acceptance function in this algorithm."
   ]
  },
  {
   "cell_type": "markdown",
   "metadata": {
    "deletable": false,
    "nbgrader": {
     "cell_type": "markdown",
     "checksum": "4cfb360e58af56167b7a36af3994458e",
     "grade": true,
     "grade_id": "cell-b232d1baf34303f6",
     "locked": false,
     "points": 5,
     "schema_version": 3,
     "solution": true,
     "task": false
    }
   },
   "source": [
    "YOUR ANSWER HERE"
   ]
  },
  {
   "cell_type": "markdown",
   "metadata": {
    "deletable": false,
    "editable": false,
    "nbgrader": {
     "cell_type": "markdown",
     "checksum": "8cf037e63a3a440c8765d99b0a391fdd",
     "grade": false,
     "grade_id": "cell-82cf656946c3cd65",
     "locked": true,
     "schema_version": 3,
     "solution": false,
     "task": false
    }
   },
   "source": [
    "2. Implement the Metropolis-Hastings algorithm for this problem and the proposal function defined above.\n",
    "\n",
    "    **Note:** We added the functions `log_joint_probability` and `acceptance_function` to help you with the implementation, but their use is optional."
   ]
  },
  {
   "cell_type": "code",
   "execution_count": null,
   "metadata": {
    "deletable": false,
    "nbgrader": {
     "cell_type": "code",
     "checksum": "b6052068c13f03743c4db706cf035296",
     "grade": true,
     "grade_id": "cell-a13dca0840f06f08",
     "locked": false,
     "points": 2,
     "schema_version": 3,
     "solution": true,
     "task": false
    }
   },
   "outputs": [],
   "source": [
    "def log_joint_probability(X, rho):\n",
    "    \"\"\"\n",
    "    Calculates log of joint probability.\n",
    "\n",
    "    Parameters\n",
    "    ----------\n",
    "    X : (N, 2) np.ndarray\n",
    "        Data points.\n",
    "    rho : float\n",
    "        Correlation parameter.\n",
    "\n",
    "    Returns\n",
    "    -------\n",
    "    log-probability of X and rho\n",
    "    \"\"\"\n",
    "    # YOUR CODE HERE\n",
    "    raise NotImplementedError()"
   ]
  },
  {
   "cell_type": "code",
   "execution_count": null,
   "metadata": {
    "deletable": false,
    "nbgrader": {
     "cell_type": "code",
     "checksum": "1363653fd045254297c357817ead8c2a",
     "grade": true,
     "grade_id": "cell-4b982bec6bfc32da",
     "locked": false,
     "points": 3,
     "schema_version": 3,
     "solution": true,
     "task": false
    }
   },
   "outputs": [],
   "source": [
    "def acceptance_function(X, rho_candidate, rho_current):\n",
    "    \"\"\"\n",
    "    Computes acceptance probability of a candidate.\n",
    "\n",
    "    Parameters\n",
    "    ----------\n",
    "    X : (N, 2) np.ndarray\n",
    "        Data points.\n",
    "    rho_candidate : float\n",
    "        Candidate sample.\n",
    "    rho_current : float\n",
    "        Current sample.\n",
    "\n",
    "    Returns\n",
    "    -------\n",
    "    Value of acceptance function for given rho_candidate and rho_current.\n",
    "    \"\"\"\n",
    "    # YOUR CODE HERE\n",
    "    raise NotImplementedError()"
   ]
  },
  {
   "cell_type": "code",
   "execution_count": null,
   "metadata": {
    "deletable": false,
    "nbgrader": {
     "cell_type": "code",
     "checksum": "c67c957f1da5c8b1a7b6e5db1dc68650",
     "grade": true,
     "grade_id": "cell-99df2702f308adf7",
     "locked": false,
     "points": 5,
     "schema_version": 3,
     "solution": true,
     "task": false
    }
   },
   "outputs": [],
   "source": [
    "def metropolis_hastings(X, half_interval_len, T):\n",
    "    \"\"\"\n",
    "    Metropolis-Hastings sampling implementation and plotting of the results.\n",
    "\n",
    "    Parameters\n",
    "    ----------\n",
    "    X : (N, 2) np.ndarray\n",
    "        Data points.\n",
    "    half_interval_len : float\n",
    "        Half interval length for the proposal uniform distribution centered around the current state.\n",
    "    T : integer\n",
    "        Number of iterations.\n",
    "\n",
    "    Returns\n",
    "    -------\n",
    "    Accepted samples.\n",
    "    \"\"\"\n",
    "    # YOUR CODE HERE\n",
    "    raise NotImplementedError()"
   ]
  },
  {
   "cell_type": "markdown",
   "metadata": {
    "deletable": false,
    "editable": false,
    "nbgrader": {
     "cell_type": "markdown",
     "checksum": "beb662435814e3b0916bfc4ba5c1a01d",
     "grade": false,
     "grade_id": "cell-a12ff48ef269f847",
     "locked": true,
     "schema_version": 3,
     "solution": false,
     "task": false
    }
   },
   "source": [
    "Run Metropolis-Hastings for 10000 iterations. You can use the initial value of $\\rho^{0}=0$. After sampling $\\rho$ 10000 times report the acceptance rate, the mean, and the standard deviation of the samples. Plot the trace plot for $\\rho$ (i.e., value $\\rho^{k}$ at each iteration of the algorithm). Plot the histogram of the posterior distribution of $\\rho$ based on the samples in the chain."
   ]
  },
  {
   "cell_type": "code",
   "execution_count": null,
   "metadata": {
    "deletable": false,
    "nbgrader": {
     "cell_type": "code",
     "checksum": "a794c82ccb3837e87770a951902da3ff",
     "grade": true,
     "grade_id": "cell-9cbc802d902fadec",
     "locked": false,
     "points": 5,
     "schema_version": 3,
     "solution": true,
     "task": false
    }
   },
   "outputs": [],
   "source": [
    "\"\"\"\n",
    "Run Metropolis-Hastings and report the acceptance rate, the mean and the standard deviation.\n",
    "Plot the trace plot and the histogram.\n",
    "\"\"\"\n",
    "# YOUR CODE HERE\n",
    "raise NotImplementedError()"
   ]
  },
  {
   "cell_type": "markdown",
   "metadata": {
    "deletable": false,
    "editable": false,
    "nbgrader": {
     "cell_type": "markdown",
     "checksum": "7f1e8e9624c1af7b82384743cdbc96ed",
     "grade": false,
     "grade_id": "cell-a4081fc24ffc7e16",
     "locked": true,
     "schema_version": 3,
     "solution": false,
     "task": false
    }
   },
   "source": [
    "3. Try changing the proposal distribution to \n",
    "\\begin{equation}\n",
    "\\rho^{cand}\\sim Uniform(\\rho^{k-1}-0.01, \\rho^{k-1}+ 0.01), \n",
    "\\end{equation}\n",
    "and \n",
    "\\begin{equation}\n",
    "\\rho^{cand}\\sim Uniform(\\rho^{k-1}-0.3, \\rho^{k-1}+ 0.3).\n",
    "\\end{equation}\n",
    "Run Metropolis-Hastings with the new proposal distributions. Once again, report the acceptance rate, the mean and the standard deviation. Plot the trace plot and the histogram."
   ]
  },
  {
   "cell_type": "code",
   "execution_count": null,
   "metadata": {
    "deletable": false,
    "nbgrader": {
     "cell_type": "code",
     "checksum": "baada63ede1f9185b0cddcf25408634f",
     "grade": true,
     "grade_id": "cell-37729b8a1be794f6",
     "locked": false,
     "points": 3,
     "schema_version": 3,
     "solution": true,
     "task": false
    }
   },
   "outputs": [],
   "source": [
    "\"\"\"\n",
    "Run Metropolis-Hastings with the new proposal distributions.\n",
    "Once again, report the acceptance rate, the mean and the standard deviation. Plot the trace plot and the histogram.\n",
    "\"\"\"\n",
    "# YOUR CODE HERE\n",
    "raise NotImplementedError()"
   ]
  },
  {
   "cell_type": "markdown",
   "metadata": {
    "deletable": false,
    "editable": false,
    "nbgrader": {
     "cell_type": "markdown",
     "checksum": "3db3727a6045d28f28e447cec8b1fb01",
     "grade": false,
     "grade_id": "cell-43e03ae792013fe5",
     "locked": true,
     "schema_version": 3,
     "solution": false,
     "task": false
    }
   },
   "source": [
    "Comment on how changing the proposal distribution changes your results."
   ]
  },
  {
   "cell_type": "markdown",
   "metadata": {
    "deletable": false,
    "nbgrader": {
     "cell_type": "markdown",
     "checksum": "32e926f2b855fa548a56017b96ea4f07",
     "grade": true,
     "grade_id": "cell-9a2d04df8e9390ee",
     "locked": false,
     "points": 2,
     "schema_version": 3,
     "solution": true,
     "task": false
    }
   },
   "source": [
    "YOUR ANSWER HERE"
   ]
  }
 ],
 "metadata": {
  "kernelspec": {
   "display_name": "Python 3 (ipykernel)",
   "language": "python",
   "name": "python3"
  },
  "language_info": {
   "codemirror_mode": {
    "name": "ipython",
    "version": 3
   },
   "file_extension": ".py",
   "mimetype": "text/x-python",
   "name": "python",
   "nbconvert_exporter": "python",
   "pygments_lexer": "ipython3",
   "version": "3.10.9"
  }
 },
 "nbformat": 4,
 "nbformat_minor": 4
}
