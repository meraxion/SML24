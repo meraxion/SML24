{
 "cells": [
  {
   "cell_type": "markdown",
   "metadata": {
    "editable": false,
    "slideshow": {
     "slide_type": ""
    },
    "tags": []
   },
   "source": [
    "1. **Restart the kernel** (in the menubar, select Kernel$\\rightarrow$Restart)\n",
    "2. **Run all cells** (in the menubar, select Cell$\\rightarrow$Run All).\n",
    "3. __Use the__ `Validate` __button in the Assignments tab before submitting__.\n",
    "\n",
    "__Include comments, derivations, explanations, graphs, etc.__ \n",
    "\n",
    "You __work in groups__ (= 3 people). __Write the full name and S/U-number of all team members!__"
   ]
  },
  {
   "cell_type": "raw",
   "metadata": {
    "editable": true,
    "slideshow": {
     "slide_type": ""
    },
    "tags": []
   },
   "source": [
    "GROUP NUMBER (brightspace): \n",
    "* Student 1 name, S/U-number:\n",
    "* Student 2 name, S/U-number:\n",
    "* Student 3 name, S/U-number:"
   ]
  },
  {
   "cell_type": "markdown",
   "metadata": {
    "editable": true,
    "slideshow": {
     "slide_type": ""
    },
    "tags": []
   },
   "source": [
    "---"
   ]
  },
  {
   "cell_type": "markdown",
   "metadata": {
    "deletable": false,
    "editable": false,
    "nbgrader": {
     "cell_type": "markdown",
     "checksum": "3940714d8b1d5f30cce7022719fc3a59",
     "grade": false,
     "grade_id": "cell-4a93041e5a04e82b",
     "locked": true,
     "schema_version": 3,
     "solution": false,
     "task": false
    }
   },
   "source": [
    "# Assignment 4 (Statistical Machine Learning 2024)\n",
    "# **Deadline: 20 December 2024**\n",
    "\n",
    "## Instructions\n",
    "* Fill in any place that says `YOUR CODE HERE` or `YOUR ANSWER HERE` __including comments, derivations, explanations, graphs, etc.__ \n",
    "Elements and/or intermediate steps required to derive the answer have to be in the report. If an exercise requires coding, explain briefly what the code does (in comments). All figures should have titles (descriptions), axis labels, and legends.\n",
    "* __Please use LaTeX to write down equations/derivations/other math__! How to do that in Markdown cells can be found [here](https://www.fabriziomusacchio.com/blog/2021-08-10-How_to_use_LaTeX_in_Markdown/), a starting point for various symbols is [here](https://www.overleaf.com/learn/latex/Mathematical_expressions).\n",
    "* Please do __not add new cells__ to the notebook, try to write the answers only in the provided cells. Before you turn the assignment in, make sure everything runs as expected.\n",
    "* __Use the variable names given in the exercises__, do not assign your own variable names. \n",
    "* __Only one team member needs to upload the solutions__. This can be done under the Assignments tab, where you fetched the assignments, and where you can also validate your submissions. Please do not change the filenames of the individual Jupyter notebooks.\n",
    "\n",
    "For any problems or questions regarding the assignments, ask during the tutorial or send an email to charlotte.cambiervannooten@ru.nl and janneke.verbeek@ru.nl .\n",
    "\n",
    "## Introduction\n",
    "Assignment 4 consists of:\n",
    "1. Bayesian inference in binary response problem (50 points);\n",
    "2. The EM algorithm for doping detection (50 points)__;\n",
    "3. Gibbs sampling and Metropolis-Hastings (50 points);\n",
    "4. __State-Space models (50 points)__.\n",
    "\n",
    "## Libraries\n",
    "\n",
    "Please __avoid installing new packages__, unless really necessary."
   ]
  },
  {
   "cell_type": "code",
   "execution_count": null,
   "metadata": {
    "deletable": false,
    "editable": false,
    "nbgrader": {
     "cell_type": "code",
     "checksum": "41e20f5cb9784ef856c9ad6b048e6196",
     "grade": false,
     "grade_id": "cell-e44a2f2849e020dc",
     "locked": true,
     "schema_version": 3,
     "solution": false,
     "task": false
    }
   },
   "outputs": [],
   "source": [
    "import IPython\n",
    "assert IPython.version_info[0] >= 3, \"Your version of IPython is too old, please update it to at least version 3.\"\n",
    "\n",
    "import random\n",
    "import numpy as np\n",
    "import matplotlib.pyplot as plt\n",
    "from scipy.stats import multivariate_normal\n",
    "\n",
    "# Set fixed random seed for reproducibility\n",
    "np.random.seed(2024)"
   ]
  },
  {
   "cell_type": "markdown",
   "metadata": {
    "deletable": false,
    "editable": false,
    "nbgrader": {
     "cell_type": "markdown",
     "checksum": "7da29dbc6514b408c7b9055fb295a065",
     "grade": false,
     "grade_id": "cell-1cf8ffd7acc0751b",
     "locked": true,
     "schema_version": 3,
     "solution": false,
     "task": false
    },
    "vscode": {
     "languageId": "bat"
    }
   },
   "source": [
    "## State-Space models (25 points)\n",
    "It is nearly Christmas, and a snowstorm is howling across the Arctic. While on his way back from his yearly package delivery route, Santa Claus accidentally broke his Sled Positioning System (SPS). He has massive trouble finding his North Pole base again in this weather, and is now circling the base.\n",
    "\n",
    "Since the SPS is broken, the elves have lost Santa's exact position - however, they have detected Rudolf on their Reindeer Detection And Ranging (REIDAR) system.\n",
    "\n",
    "Luckily, the data elves have figured out that the SPS system last emitted a location (latitude and longitude) a few minutes ago, so they might be able to track and guide Santa's sled to safety after all. They enlisted your help to track and predict the trajectory of Santa's sled, based on their REIDAR measurements."
   ]
  },
  {
   "cell_type": "markdown",
   "metadata": {
    "deletable": false,
    "editable": false,
    "nbgrader": {
     "cell_type": "markdown",
     "checksum": "3a0860404768c724adf5c706e6c33a6f",
     "grade": false,
     "grade_id": "cell-dadf8661d2968054",
     "locked": true,
     "schema_version": 3,
     "solution": false,
     "task": false
    }
   },
   "source": [
    "### Part 1 - State-space model\n",
    "As the elves have some experience working with both the SPS and the REIDAR system, the lead Data Elf has modelled the movement of the sled over time with the following linear Gaussian state-space model:\n",
    "\n",
    "$$ x_t = Ax_{t-1} + w_t, w_t \\sim \\mathcal{N}(0, Q),$$\n",
    "$$ y_t = Cx_{t} + v_t, v_t \\sim \\mathcal{N}(0, R).$$\n",
    "\n",
    "* $x_t \\in \\mathbb{R}^{4 \\times 1}$ is the true location and velocity of the sled at time $t$, consisting of $[x, y, \\dot x, \\dot y]$, as emitted by the SPS. The location consists of an $x$ and $y$ coordinate, as well as a velocity in the $x$ direction, $\\dot x$, and a velocity in the $y$ direction, $\\dot y$.  \n",
    "* $y_t \\in \\mathbb{R}^{2 \\times 1}$ is the location $[x, y]$ received by the elves at time $t$, as detected by the REIDAR.\n",
    "* $A \\in \\mathbb{R}^{4 \\times 4}$ is the state transition matrix. Initialize this matrix as $0.25\\mathbf{I} + \\mathcal{N}(\\mathbf{0}, 0.01 \\cdot \\mathbf{I})$.\n",
    "* $C \\in \\mathbb{R}^{2 \\times 4}$ is the state-to-measurement matrix. Initialize this matrix randomly from an uniform distribution.\n",
    "* $Q \\in \\mathbb{R}^{4 \\times 4}$ is the process noise of the sled's movement (reindeers are somewhat unstable). \n",
    "* $R \\in \\mathbb{R}^{2 \\times 2}$ is the observation noise of the sled's movement (the REIDAR is not exactly accurate, and has a measurement error of $0.1*\\mathbf{I}$.).\n",
    "\n",
    "The last true location (in meters) and velocity (in meters per second) that was emitted by the sled is $$x_0 = [x, y, \\dot x, \\dot y] =  [0, 0, 0.1, 0.1].$$\n",
    "\n",
    "Besides the location, the SPS also gives a matrix of state covariances, $P_0$, representing how certain the SPS is about the location and velocity of the sled:\n",
    "\n",
    " $$ \\begin{bmatrix}\n",
    "0.1 & 0.1 & 0 & 0 \\\\\n",
    "0.1 & 0.1 & 0 & 0 \\\\\n",
    "0 & 0 & 10 & 0 \\\\\n",
    "0 & 0 & 0 & 10\n",
    "\\end{bmatrix} = \\begin{bmatrix}\n",
    "\\sigma_x^2& \\sigma_{xy} & \\sigma_{x\\dot x}& \\sigma_{x\\dot y}\\\\\n",
    "\\sigma_{xy} & \\sigma_{y^2} & \\sigma_{y \\dot x}& \\sigma_{y\\dot y} \\\\\n",
    "\\sigma_{x\\dot x} & \\sigma_{y\\dot x} & \\sigma_{\\dot x^2} & \\sigma_{\\dot x \\dot y} \\\\\n",
    "\\sigma_{x\\dot y} & \\sigma_{y\\dot y} & \\sigma_{\\dot x \\dot y} & \\sigma_{\\dot y^2}\n",
    "\\end{bmatrix} $$"
   ]
  },
  {
   "cell_type": "markdown",
   "metadata": {
    "deletable": false,
    "editable": false,
    "nbgrader": {
     "cell_type": "markdown",
     "checksum": "8c00429b4b50b758aaedf2ae14a7fba6",
     "grade": false,
     "grade_id": "cell-ddf4274cf89b736b",
     "locked": true,
     "schema_version": 3,
     "solution": false,
     "task": false
    }
   },
   "source": [
    "As you are a curious data science student, your first want to implement your own version of the linear-Gaussian model, so that you understand how it works. \n",
    "\n",
    "1. Implement the linear Gaussian state-space model. "
   ]
  },
  {
   "cell_type": "code",
   "execution_count": null,
   "metadata": {
    "deletable": false,
    "editable": false,
    "nbgrader": {
     "cell_type": "code",
     "checksum": "9cdbb3cfa75dddfd63504660004910ec",
     "grade": false,
     "grade_id": "cell-69d5bce25f186bfa",
     "locked": true,
     "schema_version": 3,
     "solution": false,
     "task": false
    }
   },
   "outputs": [],
   "source": [
    "A = 0.25 * np.eye(4) + np.random.uniform(0, 0.1, (4, 4))\n",
    "C = np.random.uniform(size=(2, 4))\n",
    "Q = np.ones((4, 4))/0.2\n",
    "R = np.eye(2) * 0.1\n",
    "N = 100"
   ]
  },
  {
   "cell_type": "code",
   "execution_count": null,
   "metadata": {
    "deletable": false,
    "nbgrader": {
     "cell_type": "code",
     "checksum": "d137477de922044e86685bf0eba8852c",
     "grade": true,
     "grade_id": "cell-f46f5719da0b6367",
     "locked": false,
     "points": 4,
     "schema_version": 3,
     "solution": true,
     "task": false
    }
   },
   "outputs": [],
   "source": [
    "def ssm(xt, A, C, Q, R, N, dim_x, dim_y):\n",
    "    \"\"\"\n",
    "    State-Space model (linear gaussian)\n",
    "\n",
    "    Parameters\n",
    "    ----------\n",
    "    xt : \n",
    "    A :\n",
    "    C :\n",
    "    Q : \n",
    "    R :\n",
    "    N :\n",
    "    dim_x :\n",
    "    dim_y :\n",
    "\n",
    "    Returns xs, ys\n",
    "    -------\n",
    "    \"\"\"\n",
    "    # YOUR CODE HERE\n",
    "    raise NotImplementedError()"
   ]
  },
  {
   "cell_type": "code",
   "execution_count": null,
   "metadata": {
    "deletable": false,
    "nbgrader": {
     "cell_type": "code",
     "checksum": "8086307e0b637c699ab7bde52dd00abe",
     "grade": true,
     "grade_id": "cell-a331f0f0530dca8a",
     "locked": false,
     "points": 2,
     "schema_version": 3,
     "solution": true,
     "task": false
    }
   },
   "outputs": [],
   "source": [
    "\"\"\"\n",
    "Plots of x and y\n",
    "\"\"\"\n",
    "# YOUR CODE HERE\n",
    "raise NotImplementedError()"
   ]
  },
  {
   "cell_type": "markdown",
   "metadata": {
    "deletable": false,
    "editable": false,
    "nbgrader": {
     "cell_type": "markdown",
     "checksum": "bbbf947139c31ce9fad22378ec8c6f29",
     "grade": false,
     "grade_id": "cell-f2a548725ea4ffe5",
     "locked": true,
     "schema_version": 3,
     "solution": false,
     "task": false
    }
   },
   "source": [
    "## Part 2 - Kalman filter\n",
    "As you have just had a lecture on sequential methods you decide to implement a Kalman filter (after all, one of the applications of a Kalman filter is aircraft tracking). \n",
    "\n",
    "Assume you do not have access to the true locations $x_t$.\n"
   ]
  },
  {
   "cell_type": "markdown",
   "metadata": {
    "deletable": false,
    "editable": false,
    "nbgrader": {
     "cell_type": "markdown",
     "checksum": "cabcf6f390119316e4fc53227cc065fc",
     "grade": false,
     "grade_id": "cell-90e33b3208907ad9",
     "locked": true,
     "schema_version": 3,
     "solution": false,
     "task": false
    }
   },
   "source": [
    "1. Implement the `predict` step of the Kalman filter. The function should take $A$ and $x_{t}$, and return a predicted state $x_{t+1|t}$, as well as its covariance, $P_{t+1|t}$. "
   ]
  },
  {
   "cell_type": "code",
   "execution_count": null,
   "metadata": {
    "deletable": false,
    "editable": false,
    "nbgrader": {
     "cell_type": "code",
     "checksum": "a2d5752d7ad2467058c7e25ea93a22c9",
     "grade": false,
     "grade_id": "cell-455755ec0ea20864",
     "locked": true,
     "schema_version": 3,
     "solution": false,
     "task": false
    }
   },
   "outputs": [],
   "source": [
    "P_init = np.array([ [10, 5, 0,  0],\\\n",
    "                [5, 10,  0,  0],\\\n",
    "                [0,   0,   10,  0], \\\n",
    "                [0,   0,    0, 10]])"
   ]
  },
  {
   "cell_type": "code",
   "execution_count": null,
   "metadata": {
    "deletable": false,
    "nbgrader": {
     "cell_type": "code",
     "checksum": "7e4a6cdc6178a427972570e90cdaea11",
     "grade": true,
     "grade_id": "cell-e3d05174c13dd8ce",
     "locked": false,
     "points": 2,
     "schema_version": 3,
     "solution": true,
     "task": false
    }
   },
   "outputs": [],
   "source": [
    "def predict(A, Q, xt, Pt):\n",
    "    \"\"\"\n",
    "    Predict step (kalman)\n",
    "\n",
    "    Parameters\n",
    "    ----------\n",
    "    A :\n",
    "    Q : \n",
    "    xt :\n",
    "    Pt :\n",
    "\n",
    "    Returns xp, Pp\n",
    "    -------\n",
    "    \"\"\"\n",
    "    # YOUR CODE HERE\n",
    "    raise NotImplementedError()"
   ]
  },
  {
   "cell_type": "markdown",
   "metadata": {
    "deletable": false,
    "editable": false,
    "nbgrader": {
     "cell_type": "markdown",
     "checksum": "e34031dc155a130f3a26a614a0aaae83",
     "grade": false,
     "grade_id": "cell-5464f1c9130c5fc5",
     "locked": true,
     "schema_version": 3,
     "solution": false,
     "task": false
    }
   },
   "source": [
    "2. Implement the `update` step of the Kalman filter. The function should take $C, R, x, y$ and return the Kalman gain $K_t$, the updated state $\\hat x_{t|t}$"
   ]
  },
  {
   "cell_type": "code",
   "execution_count": null,
   "metadata": {
    "deletable": false,
    "nbgrader": {
     "cell_type": "code",
     "checksum": "5df1f42d4a57a48fd2c39a0a2b8caebe",
     "grade": true,
     "grade_id": "cell-adbe0ab6c6ff5d40",
     "locked": false,
     "points": 2,
     "schema_version": 3,
     "solution": true,
     "task": false
    }
   },
   "outputs": [],
   "source": [
    "def update(C, R, xp, yt, Pp):\n",
    "    \"\"\"\n",
    "    Update step (kalman)\n",
    "\n",
    "    Parameters\n",
    "    ----------\n",
    "    C :\n",
    "    R : \n",
    "    xp :\n",
    "    yt :\n",
    "    Pp :\n",
    "\n",
    "    Returns Kt, xtt, Ptt\n",
    "    -------\n",
    "    \"\"\"\n",
    "    # YOUR CODE HERE\n",
    "    raise NotImplementedError()"
   ]
  },
  {
   "cell_type": "markdown",
   "metadata": {
    "deletable": false,
    "editable": false,
    "nbgrader": {
     "cell_type": "markdown",
     "checksum": "e91c5451ec6a651e450f9c07bf65eb59",
     "grade": false,
     "grade_id": "cell-34230c814c1da6d1",
     "locked": true,
     "schema_version": 3,
     "solution": false,
     "task": false
    }
   },
   "source": [
    "3. Implement a Kalman smoother (Hint: implement a function that makes one smoothing step, and a function that runs the smoother over all data points). "
   ]
  },
  {
   "cell_type": "code",
   "execution_count": null,
   "metadata": {
    "deletable": false,
    "nbgrader": {
     "cell_type": "code",
     "checksum": "48be4227a301c02a6ce8284946d204df",
     "grade": true,
     "grade_id": "cell-af1f82d2135b9445",
     "locked": false,
     "points": 3,
     "schema_version": 3,
     "solution": true,
     "task": false
    }
   },
   "outputs": [],
   "source": [
    "def smoother_update(xhat, x_pred, Phat, P_pred, x_smooth_next, P_smooth_next):\n",
    "    # YOUR CODE HERE\n",
    "    raise NotImplementedError()"
   ]
  },
  {
   "cell_type": "code",
   "execution_count": null,
   "metadata": {
    "deletable": false,
    "nbgrader": {
     "cell_type": "code",
     "checksum": "6e85698b84e31e9bfdfa896b88d5c896",
     "grade": true,
     "grade_id": "cell-5a95ecd510e98ff5",
     "locked": false,
     "points": 3,
     "schema_version": 3,
     "solution": true,
     "task": false
    }
   },
   "outputs": [],
   "source": [
    "def kalman_smoother(xfilt, x_pred, Pfilt, P_pred):\n",
    "    # YOUR CODE HERE\n",
    "    raise NotImplementedError()"
   ]
  },
  {
   "cell_type": "markdown",
   "metadata": {
    "deletable": false,
    "editable": false,
    "nbgrader": {
     "cell_type": "markdown",
     "checksum": "617f0345220983125cfaf7a3c4de5dee",
     "grade": false,
     "grade_id": "cell-6eb91a5c087cee5f",
     "locked": true,
     "schema_version": 3,
     "solution": false,
     "task": false
    }
   },
   "source": [
    "4. Predict the position and velocity of the sled for 100 time steps. Your initial guess vector for the position/velocity vector is $[0.5, 0.5, 2, 2]$. Plot the actual, observed and filtered for all."
   ]
  },
  {
   "cell_type": "code",
   "execution_count": null,
   "metadata": {
    "deletable": false,
    "nbgrader": {
     "cell_type": "code",
     "checksum": "57869532fe066934c422a4cd4adc8967",
     "grade": true,
     "grade_id": "cell-05805f15ecda25a5",
     "locked": false,
     "points": 3,
     "schema_version": 3,
     "solution": true,
     "task": false
    }
   },
   "outputs": [],
   "source": [
    "xt = np.array([0.5, 0.5, 2, 2])\n",
    "\n",
    "def kalman_filter(xt, Pt, ys, A, C, R, Q, N):\n",
    "    \"\"\"\n",
    "    Update step (kalman)\n",
    "\n",
    "    Parameters\n",
    "    ----------\n",
    "    xt : \n",
    "    Pt : \n",
    "    ys : \n",
    "    A : \n",
    "    C : \n",
    "    R : \n",
    "    Q : \n",
    "    N : \n",
    "\n",
    "    Returns xfilt, Pfilt, x_preds, P_preds\n",
    "    -------\n",
    "    \"\"\"\n",
    "    # YOUR CODE HERE\n",
    "    raise NotImplementedError()"
   ]
  },
  {
   "cell_type": "code",
   "execution_count": null,
   "metadata": {
    "deletable": false,
    "nbgrader": {
     "cell_type": "code",
     "checksum": "ac19be90d2e899316b306e5b325a2d02",
     "grade": true,
     "grade_id": "cell-b34f82c9fde707ed",
     "locked": false,
     "points": 2,
     "schema_version": 3,
     "solution": true,
     "task": false
    }
   },
   "outputs": [],
   "source": [
    "\"\"\"\n",
    "Using the kalman filter, produce the four plots\n",
    "\"\"\"\n",
    "xfilt, Pfilt, x_preds, P_preds = kalman_filter(xt, P_init, ys, A, C, R, Q, 100)\n",
    "# YOUR CODE HERE\n",
    "raise NotImplementedError()"
   ]
  },
  {
   "cell_type": "markdown",
   "metadata": {
    "deletable": false,
    "editable": false,
    "nbgrader": {
     "cell_type": "markdown",
     "checksum": "0faf7785224cfba95ab1a0b9a452f574",
     "grade": false,
     "grade_id": "cell-0d5ee25983dec237",
     "locked": true,
     "schema_version": 3,
     "solution": false,
     "task": false
    }
   },
   "source": [
    "5. Reflect on your results. Assuming you do not have the true trajectory of the sled, but you do have the observations $y$, how well does the Kalman filter predict the true sled trajectory? "
   ]
  },
  {
   "cell_type": "markdown",
   "metadata": {
    "deletable": false,
    "nbgrader": {
     "cell_type": "markdown",
     "checksum": "8504d5beaff9fd50a25c209b7c61443e",
     "grade": true,
     "grade_id": "cell-e3b59149e671b9cf",
     "locked": false,
     "points": 2,
     "schema_version": 3,
     "solution": true,
     "task": false
    }
   },
   "source": [
    "YOUR ANSWER HERE"
   ]
  },
  {
   "cell_type": "markdown",
   "metadata": {
    "deletable": false,
    "editable": false,
    "nbgrader": {
     "cell_type": "markdown",
     "checksum": "d77f95839463ecb81fe11dd7b4f08398",
     "grade": false,
     "grade_id": "cell-a2af1c89bd1a3186",
     "locked": true,
     "schema_version": 3,
     "solution": false,
     "task": false
    }
   },
   "source": [
    "6. Compare the results of smoothing to the Kalman filter predictions. What does the smoother do?"
   ]
  },
  {
   "cell_type": "markdown",
   "metadata": {
    "deletable": false,
    "nbgrader": {
     "cell_type": "markdown",
     "checksum": "3932213cbdc3db5c1e48764b0869fb68",
     "grade": true,
     "grade_id": "cell-273e170716780390",
     "locked": false,
     "points": 2,
     "schema_version": 3,
     "solution": true,
     "task": false
    }
   },
   "source": [
    "YOUR ANSWER HERE"
   ]
  }
 ],
 "metadata": {
  "kernelspec": {
   "display_name": "Python 3 (ipykernel)",
   "language": "python",
   "name": "python3"
  },
  "language_info": {
   "codemirror_mode": {
    "name": "ipython",
    "version": 3
   },
   "file_extension": ".py",
   "mimetype": "text/x-python",
   "name": "python",
   "nbconvert_exporter": "python",
   "pygments_lexer": "ipython3",
   "version": "3.10.9"
  }
 },
 "nbformat": 4,
 "nbformat_minor": 4
}
