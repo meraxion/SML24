{
 "cells": [
  {
   "cell_type": "markdown",
   "metadata": {
    "editable": false,
    "slideshow": {
     "slide_type": ""
    },
    "tags": []
   },
   "source": [
    "1. **Restart the kernel** (in the menubar, select Kernel$\\rightarrow$Restart)\n",
    "2. **Run all cells** (in the menubar, select Cell$\\rightarrow$Run All).\n",
    "3. __Use the__ `Validate` __button in the Assignments tab before submitting__.\n",
    "\n",
    "__Include comments, derivations, explanations, graphs, etc.__ \n",
    "\n",
    "You __work in groups__ (= 3 people). __Write the full name and S/U-number of all team members!__"
   ]
  },
  {
   "cell_type": "raw",
   "metadata": {
    "editable": true,
    "slideshow": {
     "slide_type": ""
    },
    "tags": []
   },
   "source": [
    "GROUP NUMBER (brightspace): \n",
    "* Student 1 name, S/U-number:\n",
    "* Student 2 name, S/U-number:\n",
    "* Student 3 name, S/U-number:"
   ]
  },
  {
   "cell_type": "markdown",
   "metadata": {
    "editable": true,
    "slideshow": {
     "slide_type": ""
    },
    "tags": []
   },
   "source": [
    "---"
   ]
  },
  {
   "cell_type": "markdown",
   "metadata": {
    "deletable": false,
    "editable": false,
    "nbgrader": {
     "cell_type": "markdown",
     "checksum": "230e902c5fad50a71ec988f30de35ad5",
     "grade": false,
     "grade_id": "cell-95f977a5c130bee3",
     "locked": true,
     "schema_version": 3,
     "solution": false,
     "task": false
    }
   },
   "source": [
    "# Assignment 4 (Statistical Machine Learning 2024)\n",
    "# **Deadline: 21 December 2024**\n",
    "\n",
    "## Instructions\n",
    "* Fill in any place that says `YOUR CODE HERE` or `YOUR ANSWER HERE` __including comments, derivations, explanations, graphs, etc.__ \n",
    "Elements and/or intermediate steps required to derive the answer have to be in the report. If an exercise requires coding, explain briefly what the code does (in comments). All figures should have titles (descriptions), axis labels, and legends.\n",
    "* __Please use LaTeX to write down equations/derivations/other math__! How to do that in Markdown cells can be found [here](https://www.fabriziomusacchio.com/blog/2021-08-10-How_to_use_LaTeX_in_Markdown/), a starting point for various symbols is [here](https://www.overleaf.com/learn/latex/Mathematical_expressions).\n",
    "* Please do __not add new cells__ to the notebook, try to write the answers only in the provided cells. Before you turn the assignment in, make sure everything runs as expected.\n",
    "* __Use the variable names given in the exercises__, do not assign your own variable names. \n",
    "* __Only one team member needs to upload the solutions__. This can be done under the Assignments tab, where you fetched the assignments, and where you can also validate your submissions. Please do not change the filenames of the individual Jupyter notebooks.\n",
    "\n",
    "For any problems or questions regarding the assignments, ask during the tutorial or send an email to charlotte.cambiervannooten@ru.nl and janneke.verbeek@ru.nl .\n",
    "\n",
    "## Introduction\n",
    "Assignment 4 consists of:\n",
    "1. Bayesian inference in binary response problem (50 points);\n",
    "2. __The EM algorithm for doping detection (50 points)__;\n",
    "3. Gibbs sampling and Metropolis-Hastings (50 points);\n",
    "4. State-Space models (50 points).\n",
    "\n",
    "## Libraries\n",
    "\n",
    "Please __avoid installing new packages__, unless really necessary."
   ]
  },
  {
   "cell_type": "code",
   "execution_count": null,
   "metadata": {
    "deletable": false,
    "editable": false,
    "nbgrader": {
     "cell_type": "code",
     "checksum": "ba21c8371e9408c5753f45efe4b38813",
     "grade": false,
     "grade_id": "cell-38f4c869a703cb30",
     "locked": true,
     "schema_version": 3,
     "solution": false,
     "task": false
    }
   },
   "outputs": [],
   "source": [
    "import IPython\n",
    "assert IPython.version_info[0] >= 3, \"Your version of IPython is too old, please update it to at least version 3.\"\n",
    "\n",
    "import numpy as np\n",
    "import matplotlib.pyplot as plt\n",
    "\n",
    "# Set fixed random seed for reproducibility\n",
    "np.random.seed(2022)"
   ]
  },
  {
   "cell_type": "markdown",
   "metadata": {
    "deletable": false,
    "editable": false,
    "nbgrader": {
     "cell_type": "markdown",
     "checksum": "25070211e42d7a0fecce3fa743f5efc6",
     "grade": false,
     "grade_id": "cell-ba2cdb464a9ab040",
     "locked": true,
     "schema_version": 3,
     "solution": false,
     "task": false
    }
   },
   "source": [
    "## The EM algorithm for doping detection (50 points)\n",
    "In a certain hypothetical sport, a banned substance has become popular as a performance enhancing drug, as its presence is hard to establish in blood samples directly. Recently, it has been discovered that users of the drug tend to show a strong positive correlation between concentrations of two other quantities, $x_1$ and $x_2$, present in the blood. In contrast, 'clean' athletes tend to fall in one of two or three groups, that either show no or a negative correlation between $x_1$ and $x_2$. Unfortunately, as each sample contains only a single, instantaneous, measurement for each variable, it is not possible to establish this correlation from the sample. However, in many cases it is possible to distinguish to which _class_ a certain sample belongs by also looking at the values of two other measured variables, $x_3$ and $x_4$: certain combinations of measured values are often typical for one class but highly unusual for others.\n",
    "\n",
    "After a high profile event, a large scale test has resulted in 2000 samples. Rumours suggest the number of positives could be as high as 20\\%. However, the exact relationship between different classes and typical $\\mathbf{x}$ values is still not clear. This is where the EM-algorithm comes in ...\n",
    "\n",
    "The blood sample measurements are modelled as a mixture of $K$ Gaussians, one for each class\n",
    "\\begin{equation}\n",
    "p(\\mathbf{x}|\\mathbf{\\mu}, \\mathbf{\\Sigma}, \\mathbf{\\pi}) = \\sum_{k=1}^K \\pi_k \\mathcal{N}(\\mathbf{x}|\\mathbf{\\mu}_k, \\mathbf{\\Sigma}_k)\n",
    "\\label{Gmm}\n",
    "\\tag{1}\n",
    "\\end{equation}\n",
    "where $\\mathbf{x} = [x_1, x_2, x_3, x_4]$ represents the values for the measured quantities in the blood sample, $\\mathbf{\\mu} = \\{\\mathbf{\\mu}_1, \\ldots, \\mathbf{\\mu}_K\\}$ and $\\mathbf{\\Sigma} = \\{\\Sigma_1, \\ldots, \\Sigma_K\\}$ are the means and covariance matrices of the Gaussians for each class, and $\\mathbf{\\pi} = \\{\\pi_1, \\ldots, \\pi_K\\}$ are the mixing coefficients in the overall data set.\n",
    "\n",
    "We first load the data and set $N$ to the number of datapoints and $D$ to the number of variables in the data set $X$."
   ]
  },
  {
   "cell_type": "code",
   "execution_count": null,
   "metadata": {
    "deletable": false,
    "editable": false,
    "nbgrader": {
     "cell_type": "code",
     "checksum": "e759d86078d621422186f3e1386fe84d",
     "grade": false,
     "grade_id": "cell-662d42da8071615f",
     "locked": true,
     "schema_version": 3,
     "solution": false,
     "task": false
    }
   },
   "outputs": [],
   "source": [
    "# Load data\n",
    "X = np.loadtxt(\"doping_mixdata.txt\")\n",
    "N, D = X.shape"
   ]
  },
  {
   "cell_type": "markdown",
   "metadata": {
    "deletable": false,
    "editable": false,
    "nbgrader": {
     "cell_type": "markdown",
     "checksum": "4d874c543a98290046dcc078abb14625",
     "grade": false,
     "grade_id": "cell-bd7c66ad7f6c0c7d",
     "locked": true,
     "schema_version": 3,
     "solution": false,
     "task": false
    }
   },
   "source": [
    "1. Try to give an estimate of the number, size and shape of the classes in the data by plotting the distribution of the variables, e.g, using `plt.hist`, `plt.scatter` or `scatter3()`."
   ]
  },
  {
   "cell_type": "code",
   "execution_count": null,
   "metadata": {
    "deletable": false,
    "nbgrader": {
     "cell_type": "code",
     "checksum": "6133d55d0a18f3b6ed67c68bb844109b",
     "grade": true,
     "grade_id": "cell-b9de334d66ba8d08",
     "locked": false,
     "points": 3,
     "schema_version": 3,
     "solution": true,
     "task": false
    }
   },
   "outputs": [],
   "source": [
    "\"\"\"\n",
    "Experiment with different plots.\n",
    "\"\"\"\n",
    "# YOUR CODE HERE\n",
    "raise NotImplementedError()"
   ]
  },
  {
   "cell_type": "markdown",
   "metadata": {
    "deletable": false,
    "nbgrader": {
     "cell_type": "markdown",
     "checksum": "9b7087e2003c5f9dc57fd97ce9e2f7b0",
     "grade": true,
     "grade_id": "cell-a08697b153561527",
     "locked": false,
     "points": 2,
     "schema_version": 3,
     "solution": true,
     "task": false
    }
   },
   "source": [
    "YOUR ANSWER HERE"
   ]
  },
  {
   "cell_type": "markdown",
   "metadata": {
    "deletable": false,
    "editable": false,
    "nbgrader": {
     "cell_type": "markdown",
     "checksum": "f0240e27d8952217c519ec462b164c69",
     "grade": false,
     "grade_id": "cell-ee184f7a4ed23f00",
     "locked": true,
     "schema_version": 3,
     "solution": false,
     "task": false
    }
   },
   "source": [
    "2. Implement an EM-algorithm using the description and formulas given in Bishop, $\\S9.2.2$. Use variable $K$ for the number of classes and choose a priori equal mixing coefficients $\\pi_k$. Initialize the means $\\mathbf{\\mu}_k$ to random values around the sample mean of each variable, e.g. set $\\mu_{k,1}$ to $\\bar{x}_1 + [-1 \\leq \\epsilon \\leq +1]$. Initialize the $\\mathbf{\\Sigma}_k$ to diagonal matrices with reasonably high variances, e.g. `random.randint(2,6)`, to avoid very small responsibilities in the first step. Make sure the EM-loop runs over at least 100 iterations. Display relevant quantities, at least the log likelihood (9.28), after each step so you can monitor progress and convergence."
   ]
  },
  {
   "cell_type": "code",
   "execution_count": null,
   "metadata": {
    "deletable": false,
    "nbgrader": {
     "cell_type": "code",
     "checksum": "ed9c7eef383f67b4614564b0d3978bb1",
     "grade": true,
     "grade_id": "cell-40f44492ffe12a2c",
     "locked": false,
     "points": 12,
     "schema_version": 3,
     "solution": true,
     "task": false
    }
   },
   "outputs": [],
   "source": [
    "\"\"\"\n",
    "Implement the EM algorithm.\n",
    "\"\"\"\n",
    "# YOUR CODE HERE\n",
    "raise NotImplementedError()\n",
    "\n"
   ]
  },
  {
   "cell_type": "markdown",
   "metadata": {
    "deletable": false,
    "editable": false,
    "nbgrader": {
     "cell_type": "markdown",
     "checksum": "76b373d29adcfdcef2e3fd53610adda7",
     "grade": false,
     "grade_id": "cell-3d7b46ae569a10d1",
     "locked": true,
     "schema_version": 3,
     "solution": false,
     "task": false
    }
   },
   "source": [
    "Now implement a plot routine that plots the ${x_1,x_2}$ coordinates of the data points, and color each data point  according to the most probable component in the mixture model."
   ]
  },
  {
   "cell_type": "code",
   "execution_count": null,
   "metadata": {
    "deletable": false,
    "nbgrader": {
     "cell_type": "code",
     "checksum": "54ee761405778671bef4394f13fa65e6",
     "grade": true,
     "grade_id": "cell-6dbe272b44186eb1",
     "locked": false,
     "points": 4,
     "schema_version": 3,
     "solution": true,
     "task": false
    }
   },
   "outputs": [],
   "source": [
    "\"\"\"\n",
    "Plot routine.\n",
    "\"\"\"\n",
    "# YOUR CODE HERE\n",
    "raise NotImplementedError()"
   ]
  },
  {
   "cell_type": "markdown",
   "metadata": {
    "deletable": false,
    "editable": false,
    "nbgrader": {
     "cell_type": "markdown",
     "checksum": "91962539794fae474623ebead8b42d2d",
     "grade": false,
     "grade_id": "cell-4c7dffdb2d80603d",
     "locked": true,
     "schema_version": 3,
     "solution": false,
     "task": false
    }
   },
   "source": [
    "3. Set $K=2$, initialize your random generator and run the EM-algorithm on the data. Try different random initializations.\n",
    "\n",
    "    _(Should converge within 50 steps to two clusters, accounting for $\\pm$1/3 resp. 2/3 of the data)._\n",
    "\n",
    "    Plot the ${x_1,x_2}$ coordinates coloured according to the most probable component.\n",
    "    "
   ]
  },
  {
   "cell_type": "code",
   "execution_count": null,
   "metadata": {
    "deletable": false,
    "nbgrader": {
     "cell_type": "code",
     "checksum": "e2622ba7afe673645ccefcfe664a94ee",
     "grade": true,
     "grade_id": "cell-74e039167b072364",
     "locked": false,
     "points": 4,
     "schema_version": 3,
     "solution": true,
     "task": false
    }
   },
   "outputs": [],
   "source": [
    "\"\"\"\n",
    "Run the EM algorithm. \n",
    "\"\"\"\n",
    "# YOUR CODE HERE\n",
    "raise NotImplementedError()"
   ]
  },
  {
   "cell_type": "code",
   "execution_count": null,
   "metadata": {
    "deletable": false,
    "nbgrader": {
     "cell_type": "code",
     "checksum": "5f9fac07c7c5615b048805336509309a",
     "grade": true,
     "grade_id": "cell-bc543d674e04d1e4",
     "locked": false,
     "points": 1,
     "schema_version": 3,
     "solution": true,
     "task": false
    }
   },
   "outputs": [],
   "source": [
    "\"\"\"\n",
    "Plot the most probable component. \n",
    "\"\"\"\n",
    "# YOUR CODE HERE\n",
    "raise NotImplementedError()"
   ]
  },
  {
   "cell_type": "markdown",
   "metadata": {
    "deletable": false,
    "editable": false,
    "nbgrader": {
     "cell_type": "markdown",
     "checksum": "f103817b2ceaa7aba1aac0702094e7d9",
     "grade": false,
     "grade_id": "cell-aa12ca1a2fa12362",
     "locked": true,
     "schema_version": 3,
     "solution": false,
     "task": false
    }
   },
   "source": [
    "Describe what happens and compare the results of the different initializations."
   ]
  },
  {
   "cell_type": "markdown",
   "metadata": {
    "deletable": false,
    "nbgrader": {
     "cell_type": "markdown",
     "checksum": "d594a54a34a0be5496c35c09eaa3990a",
     "grade": true,
     "grade_id": "cell-52a35d5f44ce297f",
     "locked": false,
     "points": 3,
     "schema_version": 3,
     "solution": true,
     "task": false
    }
   },
   "source": [
    "YOUR ANSWER HERE"
   ]
  },
  {
   "cell_type": "markdown",
   "metadata": {
    "deletable": false,
    "editable": false,
    "nbgrader": {
     "cell_type": "markdown",
     "checksum": "e3d2260d6af589a0f6ca19e6d0169d93",
     "grade": false,
     "grade_id": "cell-674247be8e558131",
     "locked": true,
     "schema_version": 3,
     "solution": false,
     "task": false
    }
   },
   "source": [
    "Compute the correlation coefficients\n",
    "\\begin{equation}\n",
    "\\rho_{12} = \\frac{\\mathrm{cov}[x_1,x_2]}{\\sqrt{\\mathrm{var}[x_1] \\mathrm{var}[x_2]}}\n",
    "\\label{correlationcoeff}\n",
    "\\tag{2}\n",
    "\\end{equation}\n",
    "of each of the components (i.e., use their covariance matrices to compute variances and covariances in (\\ref{correlationcoeff}), see also Bishop, eq. (2.93).\n",
    "\n",
    "**Hint**: According to Wikipedia, the correlation is none if $|\\rho|<0.1$, small if $0.1<|\\rho|<0.3$, medium if $0.3<|\\rho|<0.5$ and strong if $|\\rho|>0.5$."
   ]
  },
  {
   "cell_type": "code",
   "execution_count": null,
   "metadata": {
    "deletable": false,
    "nbgrader": {
     "cell_type": "code",
     "checksum": "b5830f7431b1be783f96fd2e7aabfe2e",
     "grade": true,
     "grade_id": "cell-a993a576ed1737e6",
     "locked": false,
     "points": 4,
     "schema_version": 3,
     "solution": true,
     "task": false
    }
   },
   "outputs": [],
   "source": [
    "\"\"\"\n",
    "Compute the correlation coefficients. \n",
    "\"\"\"\n",
    "# YOUR CODE HERE\n",
    "raise NotImplementedError()"
   ]
  },
  {
   "cell_type": "markdown",
   "metadata": {
    "deletable": false,
    "editable": false,
    "nbgrader": {
     "cell_type": "markdown",
     "checksum": "c619fd36e8ee5712a80ba42a6c3d4876",
     "grade": false,
     "grade_id": "cell-2ea2476882597eca",
     "locked": true,
     "schema_version": 3,
     "solution": false,
     "task": false
    }
   },
   "source": [
    "Does either class show the characteristic strong positive correlation for $\\{x_1, x_2\\}$?"
   ]
  },
  {
   "cell_type": "markdown",
   "metadata": {
    "deletable": false,
    "nbgrader": {
     "cell_type": "markdown",
     "checksum": "a2d33980ddb817447dfaa1abbb0b9a78",
     "grade": true,
     "grade_id": "cell-3ee1094f79dbc1a4",
     "locked": false,
     "points": 3,
     "schema_version": 3,
     "solution": true,
     "task": false
    }
   },
   "source": [
    "YOUR ANSWER HERE"
   ]
  },
  {
   "cell_type": "markdown",
   "metadata": {
    "deletable": false,
    "editable": false,
    "nbgrader": {
     "cell_type": "markdown",
     "checksum": "33701fe4ceefc3734c0ce7d47e40c094",
     "grade": false,
     "grade_id": "cell-2e55eddd24a2f12f",
     "locked": true,
     "schema_version": 3,
     "solution": false,
     "task": false
    }
   },
   "source": [
    "4. Increase the number of classes to $K=3$ and rerun your algorithm on the data, again trying different random initializations. Plot the ${x_1,x_2}$ coordinates colored according to the most probable component and compute the correlation coefficients of each of the components. Check both your plot and your coefficients if one of the clusters now displays the strong positive $\\{x_1, x_2\\}$ correlation we are looking for.\n",
    "\n",
    "    Increase to $K=4$, do the same, and see if this improves your result (in terms of detection of the doping-cluster). Based on your findings, is the rumoured 1-in-5 estimate for users of the drug credible?\n",
    "    \n",
    "    **Note:** Please use only the cells allotted for code and explanations."
   ]
  },
  {
   "cell_type": "code",
   "execution_count": null,
   "metadata": {
    "deletable": false,
    "nbgrader": {
     "cell_type": "code",
     "checksum": "7faa78dc5339d711be72cb94aa13936d",
     "grade": true,
     "grade_id": "cell-2b68e6f1ad9666b2",
     "locked": false,
     "points": 3,
     "schema_version": 3,
     "solution": true,
     "task": false
    }
   },
   "outputs": [],
   "source": [
    "\"\"\"\n",
    "Run the EM algorithm with K=3. \n",
    "\"\"\"\n",
    "# YOUR CODE HERE\n",
    "raise NotImplementedError()"
   ]
  },
  {
   "cell_type": "code",
   "execution_count": null,
   "metadata": {
    "deletable": false,
    "nbgrader": {
     "cell_type": "code",
     "checksum": "7d5243d1c760bc56bac2cd0cc7b0b628",
     "grade": true,
     "grade_id": "cell-b82cbfea56b11e60",
     "locked": false,
     "points": 3,
     "schema_version": 3,
     "solution": true,
     "task": false
    }
   },
   "outputs": [],
   "source": [
    "\"\"\"\n",
    "Run the EM algorithm with K=4. \n",
    "\"\"\"\n",
    "# YOUR CODE HERE\n",
    "raise NotImplementedError()"
   ]
  },
  {
   "cell_type": "markdown",
   "metadata": {
    "deletable": false,
    "nbgrader": {
     "cell_type": "markdown",
     "checksum": "4a3d8e85712463a2924e324cb4a30ce2",
     "grade": true,
     "grade_id": "cell-10d27cbf02a064ef",
     "locked": false,
     "points": 3,
     "schema_version": 3,
     "solution": true,
     "task": false
    }
   },
   "source": [
    "YOUR ANSWER HERE"
   ]
  },
  {
   "cell_type": "markdown",
   "metadata": {
    "deletable": false,
    "editable": false,
    "nbgrader": {
     "cell_type": "markdown",
     "checksum": "c9ea9ec7f90fc1566e482e51f454cd51",
     "grade": false,
     "grade_id": "cell-bfc1b9fd8406a9f8",
     "locked": true,
     "schema_version": 3,
     "solution": false,
     "task": false
    }
   },
   "source": [
    "Having found the offending cluster in the data using the EM-algorithm, we are now presented with four samples $\\{A, B, C, D\\}$, with values for $[x_1, x_2, x_3, x_4]$ given as:\n",
    "\\begin{eqnarray*}\n",
    "\\text{A} & = & [11.85, 2.2, 0.5, 4.0] \\\\\n",
    "\\text{B} & = & [11.95, 3.1, 0.0, 1.0] \\\\\n",
    "\\text{C} & = & [12.00, 2.5, 0.0, 2.0] \\\\\n",
    "\\text{D} & = & [12.00, 3.0, 1.0, 6.3]\n",
    "\\end{eqnarray*}\n",
    "One of these is from a subject who took the performance enhancing drug, and one is from a subject who tried to tamper with the test by artificially altering one or more of the $x_i$ levels in their blood sample.\n",
    "\n",
    "5. Identify which sample belongs to the suspected user and which one belongs to the 'fraud'. Explain your choices."
   ]
  },
  {
   "cell_type": "code",
   "execution_count": null,
   "metadata": {},
   "outputs": [],
   "source": [
    "# Use this code cell if you need to perform any extra computations, then write your explanation in the text cell below."
   ]
  },
  {
   "cell_type": "markdown",
   "metadata": {
    "deletable": false,
    "nbgrader": {
     "cell_type": "markdown",
     "checksum": "d865467cc38b67b2ad80e483b1b4d859",
     "grade": true,
     "grade_id": "cell-4cc5ec54a2186765",
     "locked": false,
     "points": 5,
     "schema_version": 3,
     "solution": true,
     "task": false
    }
   },
   "source": [
    "YOUR ANSWER HERE"
   ]
  }
 ],
 "metadata": {
  "kernelspec": {
   "display_name": "Python 3 (ipykernel)",
   "language": "python",
   "name": "python3"
  },
  "language_info": {
   "codemirror_mode": {
    "name": "ipython",
    "version": 3
   },
   "file_extension": ".py",
   "mimetype": "text/x-python",
   "name": "python",
   "nbconvert_exporter": "python",
   "pygments_lexer": "ipython3",
   "version": "3.10.9"
  }
 },
 "nbformat": 4,
 "nbformat_minor": 4
}
