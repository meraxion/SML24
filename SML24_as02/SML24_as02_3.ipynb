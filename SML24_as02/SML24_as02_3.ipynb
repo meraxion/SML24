{
 "cells": [
  {
   "cell_type": "markdown",
   "metadata": {
    "editable": false,
    "slideshow": {
     "slide_type": ""
    },
    "tags": []
   },
   "source": [
    "1. **Restart the kernel** (in the menubar, select Kernel$\\rightarrow$Restart)\n",
    "2. **Run all cells** (in the menubar, select Cell$\\rightarrow$Run All).\n",
    "3. __Use the__ `Validate` __button in the Assignments tab before submitting__.\n",
    "\n",
    "__Include comments, derivations, explanations, graphs, etc.__ \n",
    "\n",
    "You __work in groups__ (= 3 people). __Write the full name and S/U-number of all team members!__"
   ]
  },
  {
   "cell_type": "raw",
   "metadata": {
    "editable": true,
    "slideshow": {
     "slide_type": ""
    },
    "tags": []
   },
   "source": [
    "GROUP NUMBER (brightspace): \n",
    "* Student 1 name, S/U-number:\n",
    "* Student 2 name, S/U-number:\n",
    "* Student 3 name, S/U-number:"
   ]
  },
  {
   "cell_type": "markdown",
   "metadata": {
    "editable": true,
    "slideshow": {
     "slide_type": ""
    },
    "tags": []
   },
   "source": [
    "---"
   ]
  },
  {
   "cell_type": "markdown",
   "metadata": {
    "deletable": false,
    "editable": false,
    "nbgrader": {
     "cell_type": "markdown",
     "checksum": "19e29d9d9c2452a7442fbc78b702dd5b",
     "grade": false,
     "grade_id": "cell-ab56287fb768f92f",
     "locked": true,
     "schema_version": 3,
     "solution": false,
     "task": false
    }
   },
   "source": [
    "\n",
    "# Assignment 2 (Statistical Machine Learning 2024)\n",
    "# **Deadline: 18 October 2024**\n",
    "\n",
    "## Instructions\n",
    "* Fill in any place that says `YOUR CODE HERE` or `YOUR ANSWER HERE` __including comments, derivations, explanations, graphs, etc.__ \n",
    "Elements and/or intermediate steps required to derive the answer have to be in the report. If an exercise requires coding, explain briefly what the code does (in comments). All figures should have titles (descriptions), axis labels, and legends.\n",
    "* __Please use LaTeX to write down equations/derivations/other math__! How to do that in Markdown cells can be found [here](https://www.fabriziomusacchio.com/blog/2021-08-10-How_to_use_LaTeX_in_Markdown/), a starting point for various symbols is [here](https://www.overleaf.com/learn/latex/Mathematical_expressions).\n",
    "* Please do __not add new cells__ to the notebook, try to write the answers only in the provided cells. Before you turn the assignment in, make sure everything runs as expected.\n",
    "* __Use the variable names given in the exercises__, do not assign your own variable names. \n",
    "* __Only one team member needs to upload the solutions__. This can be done under the Assignments tab, where you fetched the assignments, and where you can also validate your submissions. Please do not change the filenames of the individual Jupyter notebooks.\n",
    "\n",
    "For any problems or questions regarding the assignments, ask during the tutorial or send an email to charlotte.cambiervannooten@ru.nl and janneke.verbeek@ru.nl .\n",
    "\n",
    "## Introduction\n",
    "Assignment 2 consists of:\n",
    "1. Classification and decision theory (30 points),\n",
    "2. Bayesian linear regression (20 points),\n",
    "3. __Sequential learning (50 points)__.\n",
    "\n",
    "## Libraries\n",
    "\n",
    "Please __avoid installing new packages__, unless really necessary."
   ]
  },
  {
   "cell_type": "code",
   "execution_count": null,
   "metadata": {
    "deletable": false,
    "editable": false,
    "nbgrader": {
     "cell_type": "code",
     "checksum": "b945fe01825df8e792e2553cedb08910",
     "grade": false,
     "grade_id": "cell-8bd0835f49b96649",
     "locked": true,
     "schema_version": 3,
     "solution": false,
     "task": false
    }
   },
   "outputs": [],
   "source": [
    "import numpy as np\n",
    "import matplotlib.pyplot as plt\n",
    "from mpl_toolkits.mplot3d import Axes3D\n",
    "import scipy.stats as ss\n",
    "\n",
    "# Set fixed random seed for reproducibility\n",
    "np.random.seed(2022)"
   ]
  },
  {
   "cell_type": "markdown",
   "metadata": {
    "deletable": false,
    "editable": false,
    "nbgrader": {
     "cell_type": "markdown",
     "checksum": "01e1be71aebb59cfdaea3d5db1bee760",
     "grade": false,
     "grade_id": "cell-7ba71ea841f00c1f",
     "locked": true,
     "schema_version": 3,
     "solution": false,
     "task": false
    }
   },
   "source": [
    "## Exercise 3 - Sequential Learning (50 points)\n",
    "### Part 1: Obtaining the prior\n",
    "Consider a four dimensional variable $[x_1, x_2, x_3, x_4]^T$, distributed according to a multivariate Gaussian with mean $\\tilde{\\mathbf{\\mu}} = [1,0,1,2]^T$ and covariance matrix $\\tilde{\\mathbf{\\Sigma}}$ given as\n",
    "\\begin{equation}\n",
    "    \\tilde{\\mathbf{\\Sigma}} =\n",
    "    \\left(\\begin{array}{cc|cc} \n",
    "    0.14 & -0.3 & 0.0 & 0.2 \\\\ \n",
    "    -0.3 & 1.16 & 0.2 & -0.8 \\\\ \\hline \n",
    "    0.0 & 0.2 & 1.0 & 1.0 \\\\ \n",
    "    0.2 & -0.8 & 1.0 & 2.0 \\end{array}\\right)\n",
    "    \\label{mat}\n",
    "    \\tag{2}\n",
    "\\end{equation}\n",
    "We are interested in the conditional distribution over $[x_1, x_2]^T$, given that $x_3 = x_4 = 0$. We know this conditional distribution will also take the form of a Gaussian:\n",
    "\\begin{equation}     \\label{prior}\n",
    "    p\\big([x_1,x_2]^T \\,|\\, x_3 = x_4 = 0 \\big) = \\mathcal{N}([x_1,x_2]^T | \\mathbf{\\mu}_p, \\mathbf{\\Sigma}_{p})\n",
    "    \\tag{3}\n",
    "\\end{equation}\n",
    "for which the mean and covariance matrix are most easily expressed in terms of the (partitioned) precision matrix (see Bishop,$\\S2.3.1$).\n",
    "#### Part 1.1\n",
    "Use the partitioned precision matrix $\\tilde{\\mathbf{\\Lambda}} = \\tilde{\\mathbf{\\Sigma}}^{-1}$ to give an explicit expression for the mean $\\mathbf{\\mu}_p$ and covariance matrix $\\mathbf{\\Sigma}_p$ of this distribution and calculate their values. (This distribution will be taken as the _prior_ information for the rest of this exercise, hence the subscript $p$). You may use `np.linalg.inv` to calculate matrix inverses."
   ]
  },
  {
   "cell_type": "markdown",
   "metadata": {
    "deletable": false,
    "nbgrader": {
     "cell_type": "markdown",
     "checksum": "1bfde5dda02f1b575fdc20cb60427fb6",
     "grade": true,
     "grade_id": "cell-250720cda1d510ef",
     "locked": false,
     "points": 4,
     "schema_version": 3,
     "solution": true,
     "task": false
    }
   },
   "source": [
    "YOUR ANSWER HERE"
   ]
  },
  {
   "cell_type": "markdown",
   "metadata": {
    "deletable": false,
    "editable": false,
    "nbgrader": {
     "cell_type": "markdown",
     "checksum": "f61eb40411cee9fc6d2d52179c177be5",
     "grade": false,
     "grade_id": "cell-7480a6ef974ed9b1",
     "locked": true,
     "schema_version": 3,
     "solution": false,
     "task": false
    }
   },
   "source": [
    "Please also provide the values of $\\mathbf{\\mu}_p$ and $\\mathbf{\\Sigma}_p$ in code."
   ]
  },
  {
   "cell_type": "code",
   "execution_count": null,
   "metadata": {
    "deletable": false,
    "nbgrader": {
     "cell_type": "code",
     "checksum": "d252f62d68cd1b69222e4166d71d81c3",
     "grade": false,
     "grade_id": "cell-eb5b2d963474a1ef",
     "locked": false,
     "schema_version": 3,
     "solution": true,
     "task": false
    }
   },
   "outputs": [],
   "source": [
    "\"\"\"\n",
    "Calculate the mean and covariance. Note: mu is a column vector.\n",
    "mu_p : array\n",
    "    The mean.\n",
    "Sigma_p : matrix\n",
    "    The covariance.\n",
    "\"\"\"\n",
    "# YOUR CODE HERE\n",
    "raise NotImplementedError()"
   ]
  },
  {
   "cell_type": "code",
   "execution_count": null,
   "metadata": {
    "deletable": false,
    "editable": false,
    "nbgrader": {
     "cell_type": "code",
     "checksum": "5b6b8fc100a02b87bab8dc3bb9d7dc55",
     "grade": true,
     "grade_id": "cell-f76d749c63694386",
     "locked": true,
     "points": 4,
     "schema_version": 3,
     "solution": false,
     "task": false
    }
   },
   "outputs": [],
   "source": [
    "\"\"\"\n",
    "Hidden test for checking the value of mu_p and Sigma_p.\n",
    "\"\"\""
   ]
  },
  {
   "cell_type": "markdown",
   "metadata": {
    "deletable": false,
    "editable": false,
    "nbgrader": {
     "cell_type": "markdown",
     "checksum": "9fb538b574e40866f2ea4aa261255b1d",
     "grade": false,
     "grade_id": "cell-c53226f039eb5754",
     "locked": true,
     "schema_version": 3,
     "solution": false,
     "task": false
    }
   },
   "source": [
    "#### Part 1.2\n",
    "Generate random number pairs distributed according to the distribution in (3).\n",
    "Initialize your random generator and then draw a $single$ pair\n",
    "    \\begin{equation}\n",
    "    \\mathbf{\\mu}_t = [\\mu_{t_1}, \\mu_{t_2}]^T\n",
    "    \\label{mu_t}\n",
    "    \\tag{4}\n",
    "\\end{equation}\n",
    "from this distribution. This will be the \"true\" mean, hence the subscript $t$. Draw 100 more pairs from the same distribution and plot them together with $\\mathbf{\\mu}_t$ to see where the \"true\" mean falls within the prior distribution.\n",
    "\n",
    "**Hint**: You can use the function `np.random.multivariate_normal`."
   ]
  },
  {
   "cell_type": "code",
   "execution_count": null,
   "metadata": {
    "deletable": false,
    "nbgrader": {
     "cell_type": "code",
     "checksum": "b31f679e11aed66aa89026d8ff69b50c",
     "grade": true,
     "grade_id": "cell-24dccf143c28e2a7",
     "locked": false,
     "points": 4,
     "schema_version": 3,
     "solution": true,
     "task": false
    }
   },
   "outputs": [],
   "source": [
    "\"\"\"\n",
    "Plot of the randomly generated number pairs and the \"true\" mean.\n",
    "\"\"\"\n",
    "# YOUR CODE HERE\n",
    "raise NotImplementedError()"
   ]
  },
  {
   "cell_type": "markdown",
   "metadata": {
    "deletable": false,
    "editable": false,
    "nbgrader": {
     "cell_type": "markdown",
     "checksum": "9d46aaea63905d05557a5b149e7e3cdf",
     "grade": false,
     "grade_id": "cell-22d33d75dbe39830",
     "locked": true,
     "schema_version": 3,
     "solution": false,
     "task": false
    }
   },
   "source": [
    "#### Part 1.3\n",
    "Make a surface plot of the probability density of the distribution (3).\n",
    "\n",
    "**Hint**: use the function `ss.multivariate_normal` to calculate the probability density of a multivariate Gaussian random variable. The functions `np.mgrid` and `Axes3D.plot_surface` may also prove useful."
   ]
  },
  {
   "cell_type": "code",
   "execution_count": null,
   "metadata": {
    "deletable": false,
    "nbgrader": {
     "cell_type": "code",
     "checksum": "56a3745e36566a69f199000780ea4f95",
     "grade": true,
     "grade_id": "cell-4bb660c27b9a4a23",
     "locked": false,
     "points": 4,
     "schema_version": 3,
     "solution": true,
     "task": false
    }
   },
   "outputs": [],
   "source": [
    "\"\"\"\n",
    "Plot of the probability density.\n",
    "\"\"\"\n",
    "# YOUR CODE HERE\n",
    "raise NotImplementedError()"
   ]
  },
  {
   "cell_type": "markdown",
   "metadata": {
    "deletable": false,
    "editable": false,
    "nbgrader": {
     "cell_type": "markdown",
     "checksum": "34ff2936a60a5ba400d7d3b6070fd8cd",
     "grade": false,
     "grade_id": "cell-2b39f9f954cb6c42",
     "locked": true,
     "schema_version": 3,
     "solution": false,
     "task": false
    }
   },
   "source": [
    "### Part 2: Generating the data\n",
    "Here we assume we are dealing with a 2D-Gaussian data generating process \n",
    "\\begin{equation}\n",
    "p(\\mathbf{x}) = \\mathcal{N}(\\mathbf{x} | \\mathbf{\\mu}, \\mathbf{\\Sigma}) \\label{data} \\tag{5}\n",
    "\\end{equation}\n",
    "For the mean $\\mathbf{\\mu}$, we will use the value $\\mathbf{\\mu}_t$ drawn in (4) to _generate_ the data. Subsequently, we will pretend that we do not know this \"true\" value $\\mathbf{\\mu}_t$ of $\\mathbf{\\mu}$, and estimate $\\mathbf{\\mu}$ from the data. For the covariance matrix $\\mathbf{\\Sigma}$ we will use the \"true\" value\n",
    "\\begin{equation}\n",
    "    \\mathbf{\\Sigma}_t = \\left(\\begin{array}{cc} 2.0 & 0.8 \\\\ 0.8 & 4.0 \\end{array} \\right) \\label{VarD} \\tag{6}\n",
    "\\end{equation}\n",
    "to generate the data.\n",
    "#### Part 2.1\n",
    "Generate at least 1000 data pairs $\\{x_i, y_i\\}$, distributed according to equation (5) with $\\mathbf{\\mu} = \\mathbf{\\mu}_t$ and $\\mathbf{\\Sigma} = \\mathbf{\\Sigma}_t$. Make a scatter plot of these noisy observations and superimpose the plot from Part 1.2 (the prior distribution of the mean) for additional context."
   ]
  },
  {
   "cell_type": "code",
   "execution_count": null,
   "metadata": {
    "deletable": false,
    "nbgrader": {
     "cell_type": "code",
     "checksum": "9177c0f25f5cf7828cd076cba8f5c24a",
     "grade": true,
     "grade_id": "cell-e1c2a12f7bc335f8",
     "locked": false,
     "points": 4,
     "schema_version": 3,
     "solution": true,
     "task": false
    }
   },
   "outputs": [],
   "source": [
    "\"\"\"\n",
    "Generate 1000 data pairs.\n",
    "\"\"\"\n",
    "# YOUR CODE HERE\n",
    "raise NotImplementedError()"
   ]
  },
  {
   "cell_type": "markdown",
   "metadata": {
    "deletable": false,
    "editable": false,
    "nbgrader": {
     "cell_type": "markdown",
     "checksum": "15672a7053e167fb3890f8cb7e5726b8",
     "grade": false,
     "grade_id": "cell-e9b9963c8c6f7304",
     "locked": true,
     "schema_version": 3,
     "solution": false,
     "task": false
    }
   },
   "source": [
    "#### Part 2.2\n",
    "From now on, we will assume (pretend) that the \"true\" mean $\\mathbf{\\mu}_t$ is unknown and estimate $\\mathbf{\\mu}$ from the data. Calculate the maximum likelihood estimate of $\\mathbf{\\mu}_{\\mathrm{ML}}$ and $\\mathbf{\\Sigma}_{\\mathrm{ML}}$ for the data, and also an unbiased estimate of $\\mathbf{\\Sigma}$ (see Bishop, $\\S2.3.4$)."
   ]
  },
  {
   "cell_type": "code",
   "execution_count": null,
   "metadata": {
    "deletable": false,
    "nbgrader": {
     "cell_type": "code",
     "checksum": "8c9aff3b67a580282f8e54e8cc3897ae",
     "grade": true,
     "grade_id": "cell-07613fc41f2e32e8",
     "locked": false,
     "points": 5,
     "schema_version": 3,
     "solution": true,
     "task": false
    }
   },
   "outputs": [],
   "source": [
    "\"\"\"\n",
    "Calculate the maximum likelihood estimate.\n",
    "\"\"\"\n",
    "# YOUR CODE HERE\n",
    "raise NotImplementedError()"
   ]
  },
  {
   "cell_type": "markdown",
   "metadata": {
    "deletable": false,
    "editable": false,
    "nbgrader": {
     "cell_type": "markdown",
     "checksum": "b9c2c793a5646edded7b4d7e95889c17",
     "grade": false,
     "grade_id": "cell-d3b4b39e00abd31d",
     "locked": true,
     "schema_version": 3,
     "solution": false,
     "task": false
    }
   },
   "source": [
    "Compare the estimates to the true values $\\mathbf{\\mu}_t$ and $\\mathbf{\\Sigma}_t$."
   ]
  },
  {
   "cell_type": "markdown",
   "metadata": {
    "deletable": false,
    "nbgrader": {
     "cell_type": "markdown",
     "checksum": "f3fca1748c6bf79659d1019d5d2a2ff9",
     "grade": true,
     "grade_id": "cell-23a3b750e61b17be",
     "locked": false,
     "points": 3,
     "schema_version": 3,
     "solution": true,
     "task": false
    }
   },
   "source": [
    "YOUR ANSWER HERE"
   ]
  },
  {
   "cell_type": "markdown",
   "metadata": {
    "deletable": false,
    "editable": false,
    "nbgrader": {
     "cell_type": "markdown",
     "checksum": "1f2acd78f2910832e7663feaaba27c74",
     "grade": false,
     "grade_id": "cell-b43a2ee544ca6148",
     "locked": true,
     "schema_version": 3,
     "solution": false,
     "task": false
    }
   },
   "source": [
    "### Part 3: Sequential learning algorithms\n",
    "We will now estimate the mean $\\mathbf{\\mu}$ from the generated data and the known variance $\\mathbf{\\Sigma}_{t}$ _sequentially_, i.e., by considering the data points one-by-one.\n",
    "#### Part 3.1\n",
    "Write a procedure that processes the data points $\\{\\mathbf{x}_n\\}$ in the generated file one-by-one, and after each step computes an updated estimate of $\\mathbf{\\mu}_{\\mathrm{ML}}$, the maximum likelihood of the mean (using Bishop, eq.2.126)."
   ]
  },
  {
   "cell_type": "code",
   "execution_count": null,
   "metadata": {
    "deletable": false,
    "nbgrader": {
     "cell_type": "code",
     "checksum": "cd14707dd56cf5a84fef9bdd656f440c",
     "grade": true,
     "grade_id": "cell-5032669ca8aa6739",
     "locked": false,
     "points": 4,
     "schema_version": 3,
     "solution": true,
     "task": false
    }
   },
   "outputs": [],
   "source": [
    "\"\"\"\n",
    "Calculate the maximum likelihood of the mean.\n",
    "\"\"\"\n",
    "# YOUR CODE HERE\n",
    "raise NotImplementedError()"
   ]
  },
  {
   "cell_type": "markdown",
   "metadata": {
    "deletable": false,
    "nbgrader": {
     "cell_type": "markdown",
     "checksum": "de6cc46bd63624c139e1c90bdb0e4c6f",
     "grade": true,
     "grade_id": "cell-8f10ee5e82a06bac",
     "locked": false,
     "points": 2,
     "schema_version": 3,
     "solution": true,
     "task": false
    }
   },
   "source": [
    "YOUR ANSWER HERE"
   ]
  },
  {
   "cell_type": "markdown",
   "metadata": {
    "deletable": false,
    "editable": false,
    "nbgrader": {
     "cell_type": "markdown",
     "checksum": "23ae57d27c97a4bab9d6344241587723",
     "grade": false,
     "grade_id": "cell-67a0f9b4a4707b75",
     "locked": true,
     "schema_version": 3,
     "solution": false,
     "task": false
    }
   },
   "source": [
    "Now we also use the prior information $p(\\mathbf{\\mu}) = \\mathcal{N}(\\mathbf{\\mu} | \\mathbf{\\mu}_p, \\mathbf{\\Sigma}_p)$. From the prior, the generated data and the known variance $\\mathbf{\\Sigma}_t$, we will estimate the mean $\\mathbf{\\mu}$.\n",
    "#### Part 3.2\n",
    "Work out the details of sequential Bayesian inference (see eq.2.144) for the mean $\\mathbf{\\mu}$. Apply Bayes' theorem in eq. 2.113-2.117 at each step $n=1,\\dots,N$ to compute the new posterior mean $\\mathbf{\\mu}^{(n)}$ and covariance $\\mathbf{\\Sigma}^{(n)}$ from the old posterior mean $\\mathbf{\\mu}^{(n-1)}$ and covariance $\\mathbf{\\Sigma}^{(n-1)}$ after a new point $(\\mathbf{x}_n)$ has arrived. Use this updated posterior as the prior in the next step. The first step starts from the original prior (3).\n",
    "\n",
    "__Note__: Do not confuse the posterior $\\mathbf{\\Sigma}^{(n)}$ with the known $\\mathbf{\\Sigma}_t$ of the data generating process. \n",
    "\n",
    "\n",
    "__Hints__: Bayes' rule is also valid if earlier acquired information is taken into account, for example if this is earlier seen data $D_{n-1} = \\{x_1, \\ldots, x_{n-1}\\}$. Bayes' rule conditioned on this earlier data is \n",
    "$$P(\\mu|x_{n},D_{n-1}) \\propto P(\\mu|D_{n-1}) P(x_{n}|\\mu,D_{n-1}).$$\n",
    "Since $D_{n} = \\{x_1, \\ldots, x_{n}\\}$ this is written more conveniently as\n",
    "$$P(\\mu|D_n) \\propto P(\\mu|D_{n-1}) P(x_{n}|\\mu,D_{n-1}).$$\n",
    "If given the model parameters $\\mu$, the probability distribution of $x_n$ is independent of earlier data $D_{n-1}$, we can further reduce this to\n",
    "$$P(\\mu|D_{n}) \\propto P(\\mu|D_{n-1}) P(x_{n}|\\mu).$$\n",
    "You should be able to see the relation with (2.144), in particular that the factor between square brackets in (2.144) is to be identified with $P(\\mu|D_{n-1})$.\n",
    "\n",
    "Another important insight is that if $P(\\mu|D_{n-1})$ and $P(x_{n}|\\mu)$ are of the form (2.113) and (2.114), \n",
    "that is, if $P(\\mu|D_{n-1})$ is a Gaussian distribution over $\\mu$ with a certain mean and covariance (you are free to give these any name, e.g. $\\mu^{(n-1)}$, $\\Sigma^{(n-1)}$) and if $P(x_{n}|\\mu)$ is also Gaussian with a mean that is linear $\\mu$, then you can use (2.116) and (2.117) to compute the posterior $P(\\mu|D_{n})$, which is therefore also Gaussian.\n",
    " \n",
    "It is your task to show this. To do this you have to figure out the mapping of the variables and parameters in the current exercise, i.e., what is the correspondence between $\\mu, x_n, \\Sigma_t, \\mu^{(n-1)}, \\Sigma^{(n-1)}$ etc. with $x,\\mu,\\Lambda, y,A,b,L$. Don't forget that some quantities can also be zero or and other may be identity matrices."
   ]
  },
  {
   "cell_type": "markdown",
   "metadata": {
    "deletable": false,
    "nbgrader": {
     "cell_type": "markdown",
     "checksum": "2629d9d9d079bff0c67e2b615630f37c",
     "grade": true,
     "grade_id": "cell-db800519e2a07948",
     "locked": false,
     "points": 6,
     "schema_version": 3,
     "solution": true,
     "task": false
    }
   },
   "source": [
    "YOUR ANSWER HERE"
   ]
  },
  {
   "cell_type": "markdown",
   "metadata": {
    "deletable": false,
    "editable": false,
    "nbgrader": {
     "cell_type": "markdown",
     "checksum": "14ddd9de0905b28070f8ee6740e8bae1",
     "grade": false,
     "grade_id": "cell-5f5aadd56a436010",
     "locked": true,
     "schema_version": 3,
     "solution": false,
     "task": false
    }
   },
   "source": [
    "#### Part 3.3\n",
    "Write a procedure that processes the data points $\\{\\mathbf{x}_n\\}$ in the generated file one-by-one, and after each step computes an updated estimate of $\\mathbf{\\mu}_{\\mathrm{MAP}}$ - the maximum of the posterior distribution, using the results of the previous exercise."
   ]
  },
  {
   "cell_type": "code",
   "execution_count": null,
   "metadata": {
    "deletable": false,
    "nbgrader": {
     "cell_type": "code",
     "checksum": "f408298d20dd19cf18c9417f24265c9b",
     "grade": true,
     "grade_id": "cell-cf48e6649dbad048",
     "locked": false,
     "points": 4,
     "schema_version": 3,
     "solution": true,
     "task": false
    }
   },
   "outputs": [],
   "source": [
    "\"\"\"\n",
    "Calculate the MAP of the mean.\n",
    "\"\"\"\n",
    "# YOUR CODE HERE\n",
    "raise NotImplementedError()"
   ]
  },
  {
   "cell_type": "markdown",
   "metadata": {
    "deletable": false,
    "editable": false,
    "nbgrader": {
     "cell_type": "markdown",
     "checksum": "16ccbe3cda5912625cf175df1076f676",
     "grade": false,
     "grade_id": "cell-c840ebe39f64bd51",
     "locked": true,
     "schema_version": 3,
     "solution": false,
     "task": false
    }
   },
   "source": [
    "#### Part 3.4\n",
    "Plot both estimates (ML and MAP) in a single graph (1D or 2D) as a function of the number of data points observed. Indicate the true values $\\{\\mu_{t_1}, \\mu_{t_2}\\}$ as well. Evaluate your result.\n",
    "\n",
    "Make sure you store the values for $\\mathbf{\\mu}_{\\mathrm{ML}}$ and $\\mathbf{\\mu}_{\\mathrm{MAP}}$ at each intermediate step $n$ and use these to plot against each other. Useful graphs to get an impression of the convergence behaviour are:\n",
    "* lineplots of components of $\\mathbf{\\mu}_{\\mathrm{ML}}^{(n)}$ and $\\mathbf{\\mu}_{\\mathrm{MAP}}^{(n)}$ vs. $n$,\n",
    "* 2D-plot joining points ($\\mathbf{\\mu}_{\\mathrm{ML}}^{(n)}$, $\\mathbf{\\mu}_{\\mathrm{ML}}^{(n+1)}$) for successive $n$,\n",
    "* combinations of $\\mathbf{\\mu}_{\\mathrm{ML}}$ and $\\mathbf{\\mu}_{\\mathrm{MAP}}$ components in a single plot,\n",
    "* the final posterior distribution."
   ]
  },
  {
   "cell_type": "code",
   "execution_count": null,
   "metadata": {
    "deletable": false,
    "nbgrader": {
     "cell_type": "code",
     "checksum": "26cc626c9f9dfc765173f5eaec0cb5e2",
     "grade": true,
     "grade_id": "cell-7dbbe24496a2a4c3",
     "locked": false,
     "points": 4,
     "schema_version": 3,
     "solution": true,
     "task": false
    }
   },
   "outputs": [],
   "source": [
    "\"\"\"\n",
    "Plots of ML and MAP estimates.\n",
    "\"\"\"\n",
    "# YOUR CODE HERE\n",
    "raise NotImplementedError()"
   ]
  },
  {
   "cell_type": "markdown",
   "metadata": {
    "deletable": false,
    "editable": false,
    "nbgrader": {
     "cell_type": "markdown",
     "checksum": "d88e0a4eb41aaab9a886fb794381c03f",
     "grade": false,
     "grade_id": "cell-734030bab54234ae",
     "locked": true,
     "schema_version": 3,
     "solution": false,
     "task": false
    }
   },
   "source": [
    "Now interpret what you see on the plots."
   ]
  },
  {
   "cell_type": "markdown",
   "metadata": {
    "deletable": false,
    "nbgrader": {
     "cell_type": "markdown",
     "checksum": "9d44245c2f8b649a16f7a254dcf60b58",
     "grade": true,
     "grade_id": "cell-c1b30ee9a2ac4e49",
     "locked": false,
     "points": 2,
     "schema_version": 3,
     "solution": true,
     "task": false
    }
   },
   "source": [
    "YOUR ANSWER HERE"
   ]
  }
 ],
 "metadata": {
  "kernelspec": {
   "display_name": "Python 3 (ipykernel)",
   "language": "python",
   "name": "python3"
  },
  "language_info": {
   "codemirror_mode": {
    "name": "ipython",
    "version": 3
   },
   "file_extension": ".py",
   "mimetype": "text/x-python",
   "name": "python",
   "nbconvert_exporter": "python",
   "pygments_lexer": "ipython3",
   "version": "3.10.9"
  }
 },
 "nbformat": 4,
 "nbformat_minor": 4
}
