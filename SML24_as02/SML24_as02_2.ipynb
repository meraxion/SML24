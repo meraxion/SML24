{
 "cells": [
  {
   "cell_type": "markdown",
   "metadata": {
    "editable": false,
    "slideshow": {
     "slide_type": ""
    },
    "tags": []
   },
   "source": [
    "1. **Restart the kernel** (in the menubar, select Kernel$\\rightarrow$Restart)\n",
    "2. **Run all cells** (in the menubar, select Cell$\\rightarrow$Run All).\n",
    "3. __Use the__ `Validate` __button in the Assignments tab before submitting__.\n",
    "\n",
    "__Include comments, derivations, explanations, graphs, etc.__ \n",
    "\n",
    "You __work in groups__ (= 3 people). __Write the full name and S/U-number of all team members!__"
   ]
  },
  {
   "cell_type": "raw",
   "metadata": {
    "editable": true,
    "slideshow": {
     "slide_type": ""
    },
    "tags": [],
    "vscode": {
     "languageId": "raw"
    }
   },
   "source": [
    "GROUP NUMBER (brightspace): \n",
    "* Andrew Schroeder, s1111686\n",
    "* Student 2 name, S/U-number:\n",
    "* Student 3 name, S/U-number:"
   ]
  },
  {
   "cell_type": "markdown",
   "metadata": {
    "editable": true,
    "slideshow": {
     "slide_type": ""
    },
    "tags": []
   },
   "source": [
    "---"
   ]
  },
  {
   "cell_type": "markdown",
   "metadata": {
    "deletable": false,
    "editable": false,
    "nbgrader": {
     "cell_type": "markdown",
     "checksum": "41ddc345a9c83d246a39c2310c009dfe",
     "grade": false,
     "grade_id": "cell-ab56287fb768f92f",
     "locked": true,
     "schema_version": 3,
     "solution": false,
     "task": false
    }
   },
   "source": [
    "\n",
    "# Assignment 2 (Statistical Machine Learning 2024)\n",
    "# **Deadline: 18 October 2024**\n",
    "\n",
    "## Instructions\n",
    "* Fill in any place that says `YOUR CODE HERE` or `YOUR ANSWER HERE` __including comments, derivations, explanations, graphs, etc.__ \n",
    "Elements and/or intermediate steps required to derive the answer have to be in the report. If an exercise requires coding, explain briefly what the code does (in comments). All figures should have titles (descriptions), axis labels, and legends.\n",
    "* __Please use LaTeX to write down equations/derivations/other math__! How to do that in Markdown cells can be found [here](https://www.fabriziomusacchio.com/blog/2021-08-10-How_to_use_LaTeX_in_Markdown/), a starting point for various symbols is [here](https://www.overleaf.com/learn/latex/Mathematical_expressions).\n",
    "* Please do __not add new cells__ to the notebook, try to write the answers only in the provided cells. Before you turn the assignment in, make sure everything runs as expected.\n",
    "* __Use the variable names given in the exercises__, do not assign your own variable names. \n",
    "* __Only one team member needs to upload the solutions__. This can be done under the Assignments tab, where you fetched the assignments, and where you can also validate your submissions. Please do not change the filenames of the individual Jupyter notebooks.\n",
    "\n",
    "For any problems or questions regarding the assignments, ask during the tutorial or send an email to charlotte.cambiervannooten@ru.nl and janneke.verbeek@ru.nl .\n",
    "\n",
    "## Introduction\n",
    "Assignment 2 consists of:\n",
    "1. Classification and decision theory (30 points),\n",
    "2. __Bayesian linear regression (20 points)__,\n",
    "3. Sequential learning (50 points).\n",
    "\n",
    "## Libraries\n",
    "\n",
    "Please __avoid installing new packages__, unless really necessary."
   ]
  },
  {
   "cell_type": "code",
   "execution_count": null,
   "metadata": {
    "deletable": false,
    "editable": false,
    "nbgrader": {
     "cell_type": "code",
     "checksum": "b945fe01825df8e792e2553cedb08910",
     "grade": false,
     "grade_id": "cell-8bd0835f49b96649",
     "locked": true,
     "schema_version": 3,
     "solution": false,
     "task": false
    }
   },
   "outputs": [],
   "source": [
    "import numpy as np\n",
    "import matplotlib.pyplot as plt\n",
    "from mpl_toolkits.mplot3d import Axes3D\n",
    "import scipy.stats as ss\n",
    "\n",
    "# Set fixed random seed for reproducibility\n",
    "np.random.seed(2022)"
   ]
  },
  {
   "cell_type": "markdown",
   "metadata": {
    "deletable": false,
    "editable": false,
    "nbgrader": {
     "cell_type": "markdown",
     "checksum": "730b3883faf4721685780eebf69773d9",
     "grade": false,
     "grade_id": "cell-16f759fbe9f1c7fb",
     "locked": true,
     "schema_version": 3,
     "solution": false,
     "task": false
    }
   },
   "source": [
    "## Exercise 2 - Bayesian Linear Regression (20 points)\n",
    "This exercise builds on the exercise \"Fitting a straight line to data\". For a detailed description (and explanation) see _Exercises and Answers, Week 5_ in Brightspace. The final part of that exercise computed the predictive distribution after a single data point was observed. Here we consider a new data set, consisting of no less than _two_ points: $\\{x_1, t_1\\} = (0.4, 0.1)$ and $\\{x_2, t_2\\} = (0.6, -0.4)$."
   ]
  },
  {
   "cell_type": "markdown",
   "metadata": {
    "deletable": false,
    "editable": false,
    "nbgrader": {
     "cell_type": "markdown",
     "checksum": "6b8799618166172f1ef4bccea1a51776",
     "grade": false,
     "grade_id": "cell-26ad8a64e92534c3",
     "locked": true,
     "schema_version": 3,
     "solution": false,
     "task": false
    }
   },
   "source": [
    "### Part 1\n",
    "Assume $\\alpha = 1$ and $\\beta = 15$. \n",
    "Compute the predictive distribution $p(t|x,\\mathbf{t},\\mathbf{x},\\alpha,\\beta)$ after these two points are observed. "
   ]
  },
  {
   "cell_type": "markdown",
   "metadata": {
    "deletable": false,
    "nbgrader": {
     "cell_type": "markdown",
     "checksum": "ff2ad78023e55a78f1180c4bb4915f94",
     "grade": true,
     "grade_id": "cell-4f5afb866e8a1818",
     "locked": false,
     "points": 6,
     "schema_version": 3,
     "solution": true,
     "task": false
    }
   },
   "source": [
    "YOUR ANSWER HERE"
   ]
  },
  {
   "cell_type": "markdown",
   "metadata": {
    "deletable": false,
    "editable": false,
    "nbgrader": {
     "cell_type": "markdown",
     "checksum": "97e91fee8aa57636890ac20aab21f1a2",
     "grade": false,
     "grade_id": "cell-ac16373a13a1f226",
     "locked": true,
     "schema_version": 3,
     "solution": false,
     "task": false
    }
   },
   "source": [
    "Please also provide the mean and variance in code (for an array of points)."
   ]
  },
  {
   "cell_type": "code",
   "execution_count": null,
   "metadata": {
    "deletable": false,
    "nbgrader": {
     "cell_type": "code",
     "checksum": "8a78297c9046439e2d3330528d6552ac",
     "grade": false,
     "grade_id": "cell-95a440772e5ab855",
     "locked": false,
     "schema_version": 3,
     "solution": true,
     "task": false
    }
   },
   "outputs": [],
   "source": [
    "\"\"\"\n",
    "Compute the mean and the variance of the predictive distribution.\n",
    "mx : array\n",
    "    The mean for an array of points.\n",
    "s2x : array\n",
    "    The variance for an array of points.\n",
    "\"\"\"\n",
    "# We set x to (say) 101 points over the interval x = [0, 1]. (Please do not change.)\n",
    "x = np.linspace(0, 1, 101)\n",
    "# YOUR CODE HERE\n",
    "raise NotImplementedError()"
   ]
  },
  {
   "cell_type": "code",
   "execution_count": null,
   "metadata": {
    "deletable": false,
    "editable": false,
    "nbgrader": {
     "cell_type": "code",
     "checksum": "2f680a5eba87ea24ce29787cf0787d46",
     "grade": true,
     "grade_id": "cell-08144d23f28de523",
     "locked": true,
     "points": 2,
     "schema_version": 3,
     "solution": false,
     "task": false
    }
   },
   "outputs": [],
   "source": [
    "\"\"\"\n",
    "Hidden test for mx and s2x over the interval [0,1].\n",
    "\"\"\""
   ]
  },
  {
   "cell_type": "markdown",
   "metadata": {
    "deletable": false,
    "editable": false,
    "nbgrader": {
     "cell_type": "markdown",
     "checksum": "5095c10d585dd36a4388f4703c577e94",
     "grade": false,
     "grade_id": "cell-1c75e25a1b40644c",
     "locked": true,
     "schema_version": 3,
     "solution": false,
     "task": false
    }
   },
   "source": [
    "### Part 2\n",
    "Plot the mean of the predictive Gaussian distribution and one standard deviation on both sides as a function of $x$ over the interval $[0, 1]$. Plot the data in the same figure.\n",
    "\n",
    "**Hint:** See some ideas for plotting in `example_plot1`."
   ]
  },
  {
   "cell_type": "code",
   "execution_count": null,
   "metadata": {
    "deletable": false,
    "editable": false,
    "nbgrader": {
     "cell_type": "code",
     "checksum": "5f3730d94d6685686b7337cb3c5211cf",
     "grade": false,
     "grade_id": "cell-e145704dfd2068a5",
     "locked": true,
     "schema_version": 3,
     "solution": false,
     "task": false
    }
   },
   "outputs": [],
   "source": [
    "def example_plot1(x):\n",
    "    \"\"\"\n",
    "    Example for plotting a function with data points, mean and standard deviation.\n",
    "    x: array of points over the interval[0, 1], e.g., x = np.linspace(0, 1, 101)\n",
    "    \"\"\"\n",
    "    # Generate some bogus data and predictive distribution, for illustration purposes.\n",
    "    # You should use your own data, functions, and std. dev!\n",
    "    Xn = np.array([0.3, 0.5, 0.9])\n",
    "    Tn = np.array([0.05, -0.35, 0.8])\n",
    "    mx = x**2\n",
    "    sx = 0.2 * np.sqrt(x)\n",
    "\n",
    "    plt.figure(1)\n",
    "    # first the m(x) +/- s(x) areas (no line)\n",
    "    plt.fill_between(x, mx - sx, mx + sx, facecolor = 'pink')\n",
    "    # the lines for the predictive mean m(x) and deviation s(x) around it\n",
    "    plt.plot(x, mx + sx, 'r', linewidth = 2)\n",
    "    plt.plot(x, mx - sx, 'r', linewidth = 2)\n",
    "    plt.plot(x, mx, 'k')\n",
    "    # circle the data points\n",
    "    plt.plot(Xn, Tn, 'o', markeredgecolor = 'black', alpha = 0.8, linewidth = 2, markersize = 15)\n",
    "\n",
    "example_plot1(x)"
   ]
  },
  {
   "cell_type": "code",
   "execution_count": null,
   "metadata": {
    "deletable": false,
    "nbgrader": {
     "cell_type": "code",
     "checksum": "0f14936c8b39d57c415db9fc39e27390",
     "grade": true,
     "grade_id": "cell-17e4fee175f232e5",
     "locked": false,
     "points": 4,
     "schema_version": 3,
     "solution": true,
     "task": false
    }
   },
   "outputs": [],
   "source": [
    "\"\"\"\n",
    "Plot the mean of the predictive distribution with the standard deviation and the data.\n",
    "\"\"\"\n",
    "# YOUR CODE HERE\n",
    "raise NotImplementedError()"
   ]
  },
  {
   "cell_type": "markdown",
   "metadata": {
    "deletable": false,
    "editable": false,
    "nbgrader": {
     "cell_type": "markdown",
     "checksum": "6c47a9b7092e52c6103948044d018f3d",
     "grade": false,
     "grade_id": "cell-d24a0539936cba57",
     "locked": true,
     "schema_version": 3,
     "solution": false,
     "task": false
    }
   },
   "source": [
    "Compare your plot with Figure 3.8b (Bishop, p.157) and explain the differences. "
   ]
  },
  {
   "cell_type": "markdown",
   "metadata": {
    "deletable": false,
    "nbgrader": {
     "cell_type": "markdown",
     "checksum": "6c53f957e7ee66a1200e3cdeca7dc93f",
     "grade": true,
     "grade_id": "cell-434cae7a01cbee79",
     "locked": false,
     "points": 4,
     "schema_version": 3,
     "solution": true,
     "task": false
    }
   },
   "source": [
    "YOUR ANSWER HERE"
   ]
  },
  {
   "cell_type": "markdown",
   "metadata": {
    "deletable": false,
    "editable": false,
    "nbgrader": {
     "cell_type": "markdown",
     "checksum": "6fa687b9a4419cae4b34b8c2dbb41e1d",
     "grade": false,
     "grade_id": "cell-74b0c254e2c65ae3",
     "locked": true,
     "schema_version": 3,
     "solution": false,
     "task": false
    }
   },
   "source": [
    "### Part 3\n",
    "Sample five functions $y(x,\\mathbf{w})$ from the posterior distribution over $\\mathbf{w}$ for this data set and plot them in the same graph (i.e. with the predictive distribution). You may use `np.random.multivariate_normal`.\n",
    "\n",
    "**Hint:** See `example_plot2` for some plotting hints."
   ]
  },
  {
   "cell_type": "code",
   "execution_count": null,
   "metadata": {
    "deletable": false,
    "editable": false,
    "nbgrader": {
     "cell_type": "code",
     "checksum": "9524a18b93279553085e39024a7ad341",
     "grade": false,
     "grade_id": "cell-036a475d560a5e37",
     "locked": true,
     "schema_version": 3,
     "solution": false,
     "task": false
    }
   },
   "outputs": [],
   "source": [
    "def example_plot2(x):\n",
    "    \"\"\"\n",
    "    Example for plotting random functions together with the previous plot (example_plot1).\n",
    "    x: array of points over the interval [0, 1], e.g., x = np.linspace(0, 1, 101)\n",
    "    \"\"\"\n",
    "    example_plot1(x)\n",
    "    \n",
    "    # five made-up functions, again only for illustration purposes\n",
    "    # You should generate your own functions for the second plot!\n",
    "    for i in range(5):\n",
    "        # NB: These are not the functions that you need!\n",
    "        y = np.cos(2 * np.pi * (i+1) * x) / 5 + (i - 3) / 2\n",
    "        plt.plot(x, y, 'b', linewidth = 1.5)\n",
    "\n",
    "example_plot2(x)"
   ]
  },
  {
   "cell_type": "code",
   "execution_count": null,
   "metadata": {
    "deletable": false,
    "nbgrader": {
     "cell_type": "code",
     "checksum": "79b93156c0c635c34e59b4289428d6c1",
     "grade": true,
     "grade_id": "cell-15bec646f8eb7a9a",
     "locked": false,
     "points": 4,
     "schema_version": 3,
     "solution": true,
     "task": false
    }
   },
   "outputs": [],
   "source": [
    "\"\"\"\n",
    "Plot the previous graph with 5 sample functions.\n",
    "\"\"\"\n",
    "# YOUR CODE HERE\n",
    "raise NotImplementedError()"
   ]
  }
 ],
 "metadata": {
  "kernelspec": {
   "display_name": "Python 3 (ipykernel)",
   "language": "python",
   "name": "python3"
  },
  "language_info": {
   "codemirror_mode": {
    "name": "ipython",
    "version": 3
   },
   "file_extension": ".py",
   "mimetype": "text/x-python",
   "name": "python",
   "nbconvert_exporter": "python",
   "pygments_lexer": "ipython3",
   "version": "3.10.9"
  }
 },
 "nbformat": 4,
 "nbformat_minor": 4
}
