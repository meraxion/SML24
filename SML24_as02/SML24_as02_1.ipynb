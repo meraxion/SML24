{
 "cells": [
  {
   "cell_type": "markdown",
   "metadata": {
    "editable": false,
    "slideshow": {
     "slide_type": ""
    },
    "tags": []
   },
   "source": [
    "1. **Restart the kernel** (in the menubar, select Kernel$\\rightarrow$Restart)\n",
    "2. **Run all cells** (in the menubar, select Cell$\\rightarrow$Run All).\n",
    "3. __Use the__ `Validate` __button in the Assignments tab before submitting__.\n",
    "\n",
    "__Include comments, derivations, explanations, graphs, etc.__ \n",
    "\n",
    "You __work in groups__ (= 3 people). __Write the full name and S/U-number of all team members!__"
   ]
  },
  {
   "cell_type": "raw",
   "metadata": {
    "editable": true,
    "slideshow": {
     "slide_type": ""
    },
    "tags": [],
    "vscode": {
     "languageId": "raw"
    }
   },
   "source": [
    "GROUP NUMBER (brightspace): \n",
    "* Andrew Schroeder, s1111686\n",
    "* Stian Grønlund,   s1122151\n",
    "* Student 3 name, S/U-number:"
   ]
  },
  {
   "cell_type": "markdown",
   "metadata": {
    "editable": true,
    "slideshow": {
     "slide_type": ""
    },
    "tags": []
   },
   "source": [
    "---"
   ]
  },
  {
   "cell_type": "markdown",
   "metadata": {
    "deletable": false,
    "editable": false,
    "nbgrader": {
     "cell_type": "markdown",
     "checksum": "346458d61a4ba0e3f900e8f2d9ce84f7",
     "grade": false,
     "grade_id": "cell-ab56287fb768f92f",
     "locked": true,
     "schema_version": 3,
     "solution": false,
     "task": false
    }
   },
   "source": [
    "\n",
    "# Assignment 2 (Statistical Machine Learning 2024)\n",
    "# **Deadline: 18 October 2024**\n",
    "\n",
    "## Instructions\n",
    "* Fill in any place that says `YOUR CODE HERE` or `YOUR ANSWER HERE` __including comments, derivations, explanations, graphs, etc.__ \n",
    "Elements and/or intermediate steps required to derive the answer have to be in the report. If an exercise requires coding, explain briefly what the code does (in comments). All figures should have titles (descriptions), axis labels, and legends.\n",
    "* __Please use LaTeX to write down equations/derivations/other math__! How to do that in Markdown cells can be found [here](https://www.fabriziomusacchio.com/blog/2021-08-10-How_to_use_LaTeX_in_Markdown/), a starting point for various symbols is [here](https://www.overleaf.com/learn/latex/Mathematical_expressions).\n",
    "* Please do __not add new cells__ to the notebook, try to write the answers only in the provided cells. Before you turn the assignment in, make sure everything runs as expected.\n",
    "* __Use the variable names given in the exercises__, do not assign your own variable names. \n",
    "* __Only one team member needs to upload the solutions__. This can be done under the Assignments tab, where you fetched the assignments, and where you can also validate your submissions. Please do not change the filenames of the individual Jupyter notebooks.\n",
    "\n",
    "For any problems or questions regarding the assignments, ask during the tutorial or send an email to charlotte.cambiervannooten@ru.nl and janneke.verbeek@ru.nl .\n",
    "\n",
    "## Introduction\n",
    "Assignment 2 consists of:\n",
    "1. __Classification and decision theory__ (30 points),\n",
    "2. Bayesian linear regression (20 points),\n",
    "3. Sequential learning (50 points).\n",
    "\n",
    "## Libraries\n",
    "\n",
    "Please __avoid installing new packages__, unless really necessary."
   ]
  },
  {
   "cell_type": "code",
   "execution_count": 1,
   "metadata": {
    "deletable": false,
    "editable": false,
    "nbgrader": {
     "cell_type": "code",
     "checksum": "b945fe01825df8e792e2553cedb08910",
     "grade": false,
     "grade_id": "cell-8bd0835f49b96649",
     "locked": true,
     "schema_version": 3,
     "solution": false,
     "task": false
    }
   },
   "outputs": [],
   "source": [
    "import numpy as np\n",
    "import matplotlib.pyplot as plt\n",
    "from mpl_toolkits.mplot3d import Axes3D\n",
    "import scipy.stats as ss\n",
    "\n",
    "# Set fixed random seed for reproducibility\n",
    "np.random.seed(2022)"
   ]
  },
  {
   "cell_type": "markdown",
   "metadata": {
    "deletable": false,
    "editable": false,
    "nbgrader": {
     "cell_type": "markdown",
     "checksum": "9b0d28880bab4072f9d839363d94545d",
     "grade": false,
     "grade_id": "cell-993b0e0123f066f3",
     "locked": true,
     "schema_version": 3,
     "solution": false,
     "task": false
    }
   },
   "source": [
    "## Exercise 1 - Probabilistic generative models (30 points)\n",
    "The financial services department of an insurance company receives numerous phone calls each day from people who want to make a claim against their policy. Most claims are genuine, however about 1 out of every 6 are thought to be fraudulent. To tackle this problem the company has installed a trial version of a software voice-analysis system that monitors each conversation and gives a numerical score $z$ between 0 and 1, depending on allegedly suspicious vocal intonations of the customer. Unfortunately, nobody seems to know anymore how to interpret the score in this particular version of the system...\n",
    "\n",
    "Tests revealed that the conditional probability density of $z$, given that a claim was valid ($c = 1$) or false ($c = 0$) are \n",
    "\\begin{align}\n",
    "p(z|c=0) & = & \\alpha_0 (1 - z^2) \\:,\\\\\n",
    "p(z|c=1) & = & \\alpha_1 z (z + 1) \\:.\n",
    "\\end{align}"
   ]
  },
  {
   "cell_type": "markdown",
   "metadata": {
    "deletable": false,
    "editable": false,
    "nbgrader": {
     "cell_type": "markdown",
     "checksum": "170df9ec49780a6ef009b812296e689d",
     "grade": false,
     "grade_id": "cell-23faf9ee81f7f076",
     "locked": true,
     "schema_version": 3,
     "solution": false,
     "task": false
    }
   },
   "source": [
    "### Part 1\n",
    "Derive the normalization constants $\\alpha_0$ and $\\alpha_1$."
   ]
  },
  {
   "cell_type": "markdown",
   "metadata": {
    "deletable": false,
    "nbgrader": {
     "cell_type": "markdown",
     "checksum": "48d64fb4d018d28237c389f9952e9a8b",
     "grade": true,
     "grade_id": "cell-92829ede4435a73d",
     "locked": false,
     "points": 2,
     "schema_version": 3,
     "solution": true,
     "task": false
    }
   },
   "source": [
    "To derive these normalization constants, we make use of the fact that these probability distributions must integrate to 1.\n",
    "\n",
    "For $p(z \\mid c = 0)$:\n",
    "\n",
    "\\begin{align}\n",
    "\\int_0^1 \\alpha_0(1-z^2) dz &= 1 \\\\\n",
    "\\int_0^1 \\alpha_0 - \\alpha_0 z^2 dz &= 1 \\\\\n",
    "\\left[ \\alpha_0 z - \\frac{1}{3} \\alpha_0 2^3 \\right]_0^1 &= 1 \\\\\n",
    "\\left[ \\alpha_0 - \\frac{1}{3} \\alpha_0 \\right]_{z=1} - \\left[ 0-0 \\right]_{z=0} +C-C &= 1 \\\\\n",
    "\\frac{2}{3} \\alpha_0 &= 1 \\\\\n",
    "\\alpha_0 &= \\frac{3}{2}\n",
    "\\end{align}\n",
    "\n",
    "For $p(z \\mid c = 1)$:\n",
    "\n",
    "\\begin{align}\n",
    "\\int_0^1 \\alpha_1z(z+1) dz &= 1 \\\\\n",
    "\\int_0^1 \\alpha_1z^2 + \\alpha_1z dz &= 1 \\\\\n",
    "\\left[ \\frac{1}{3}\\alpha_1 z^3 + \\frac{1}{2}\\alpha_1 z^2 \\right]_0^1 &= 1 \\\\\n",
    "\\left[ \\frac{1}{3} \\alpha_1 + \\frac{1}{2} \\alpha_1 \\right]_{z=1} - \\left[ 0-0 \\right]_{z=0} +C-C&= 1 \\\\\n",
    "\\frac{5}{6} \\alpha_1 &= 1 \\\\\n",
    "\\alpha_1 &= \\frac{6}{5}\n",
    "\n",
    "\\end{align}\n",
    "\n"
   ]
  },
  {
   "cell_type": "markdown",
   "metadata": {
    "deletable": false,
    "editable": false,
    "nbgrader": {
     "cell_type": "markdown",
     "checksum": "e1dcfe7f9c9c929f39ee193470c83345",
     "grade": false,
     "grade_id": "cell-ae160064410b2d1e",
     "locked": true,
     "schema_version": 3,
     "solution": false,
     "task": false
    }
   },
   "source": [
    "Add the results you got for $\\alpha_0$ and $\\alpha_1$ into the cell below. (Add them as fractions, not as estimates. For example, write 1/3, do not round to a number of decimals.)"
   ]
  },
  {
   "cell_type": "code",
   "execution_count": 2,
   "metadata": {
    "deletable": false,
    "nbgrader": {
     "cell_type": "code",
     "checksum": "b0ba9c9726f17798b0d9ed51c7c621d8",
     "grade": false,
     "grade_id": "cell-31a42d70d0fa6d85",
     "locked": false,
     "schema_version": 3,
     "solution": true,
     "task": false
    }
   },
   "outputs": [],
   "source": [
    "\"\"\"\n",
    "The variable alpha_0 is the normalization constant for p(z | c = 0).\n",
    "The variable alpha_1 is the normalization constant for p(z | c = 1)\n",
    "\"\"\"\n",
    "# YOUR CODE HERE\n",
    "alpha_0 = 3/2\n",
    "alpha_1 = 6/5"
   ]
  },
  {
   "cell_type": "code",
   "execution_count": 3,
   "metadata": {
    "deletable": false,
    "editable": false,
    "nbgrader": {
     "cell_type": "code",
     "checksum": "617f3af89588ee8ebf64967162753726",
     "grade": true,
     "grade_id": "cell-b153ef330ad6488e",
     "locked": true,
     "points": 2,
     "schema_version": 3,
     "solution": false,
     "task": false
    }
   },
   "outputs": [
    {
     "data": {
      "text/plain": [
       "'\\nHidden check for value of variables alpha_0 and alpha_1.\\n'"
      ]
     },
     "execution_count": 3,
     "metadata": {},
     "output_type": "execute_result"
    }
   ],
   "source": [
    "\"\"\"\n",
    "Hidden check for value of variables alpha_0 and alpha_1.\n",
    "\"\"\""
   ]
  },
  {
   "cell_type": "markdown",
   "metadata": {
    "deletable": false,
    "editable": false,
    "nbgrader": {
     "cell_type": "markdown",
     "checksum": "8bec891445dbc83a2f67791d8f4b2197",
     "grade": false,
     "grade_id": "cell-906c9c150e29ee26",
     "locked": true,
     "schema_version": 3,
     "solution": false,
     "task": false
    }
   },
   "source": [
    "How does the $z$ score relate to the validity of the claim? What values for $z$ would you expect when the claim is valid / false?"
   ]
  },
  {
   "cell_type": "markdown",
   "metadata": {
    "deletable": false,
    "nbgrader": {
     "cell_type": "markdown",
     "checksum": "e42ecfb408583945f3105ce39c53c3b8",
     "grade": true,
     "grade_id": "cell-6f5c7edfe807d178",
     "locked": false,
     "points": 2,
     "schema_version": 3,
     "solution": true,
     "task": false
    }
   },
   "source": [
    "When the claim is valid, I would expect for z to be high (closer to 1), and when false, to be closer to zero. However, the relationship is not symmetric.\n",
    "\n",
    "We can calculate the expected values of each probability density, using the formula: $\\int_0^1 zp(z \\mid c) dz$, for each $c=0$ and $c=1$. \n",
    "This gives us $\\frac{3}{8}$ and $\\frac{7}{10}$, respectively."
   ]
  },
  {
   "cell_type": "markdown",
   "metadata": {
    "deletable": false,
    "editable": false,
    "nbgrader": {
     "cell_type": "markdown",
     "checksum": "b022d8b994f41c34a11cb38509fc2464",
     "grade": false,
     "grade_id": "cell-4d23c47ff96532e2",
     "locked": true,
     "schema_version": 3,
     "solution": false,
     "task": false
    }
   },
   "source": [
    "Plot $p(z | c = 0)$ and $p(z | c = 1)$ to visualize the conditional probability densities."
   ]
  },
  {
   "cell_type": "code",
   "execution_count": 12,
   "metadata": {
    "deletable": false,
    "nbgrader": {
     "cell_type": "code",
     "checksum": "d926ba3a4b5418da63aa6789c7010413",
     "grade": true,
     "grade_id": "cell-acc579f60b915f69",
     "locked": false,
     "points": 2,
     "schema_version": 3,
     "solution": true,
     "task": false
    }
   },
   "outputs": [
    {
     "data": {
      "image/png": "[encoded data removed]",
      "text/plain": [
       "<Figure size 640x480 with 1 Axes>"
      ]
     },
     "metadata": {},
     "output_type": "display_data"
    }
   ],
   "source": [
    "\"\"\"\n",
    "Plot of p(z | c = 0) and p(z | c = 1).\n",
    "\"\"\"\n",
    "# YOUR CODE HERE\n",
    "xs = np.linspace(0, 1, 500)\n",
    "\n",
    "def pzc0(alpha_0, z):\n",
    "  return alpha_0*(1-z**2)\n",
    "\n",
    "def pzc1(alpha_1, z):\n",
    "  return alpha_1*z*(z+1)\n",
    "\n",
    "plt.plot(xs, pzc0(alpha_0, xs), label=r\"$p(z \\mid c = 0)$\")\n",
    "plt.plot(xs, pzc1(alpha_1, xs), label=r\"$p(z \\mid c = 1)$\")\n",
    "plt.legend()\n",
    "plt.xlabel(\"z\")\n",
    "plt.ylabel(r\"$p(z)$\")\n",
    "plt.show()"
   ]
  },
  {
   "cell_type": "markdown",
   "metadata": {
    "deletable": false,
    "editable": false,
    "nbgrader": {
     "cell_type": "markdown",
     "checksum": "fb2eeb8227c27d87b16353a71df94a2f",
     "grade": false,
     "grade_id": "cell-7559a4d294b13afb",
     "locked": true,
     "schema_version": 3,
     "solution": false,
     "task": false
    }
   },
   "source": [
    "### Part 2\n",
    "Use the sum and product rule to show that the probability distribution function $p(z)$ can be written as\n",
    "\\begin{equation} \n",
    "p(z) = \\frac{(3z + 1)(z + 1)}{4} \\tag{1}.\n",
    "\\end{equation}\n",
    "Check that the result is properly normalized."
   ]
  },
  {
   "cell_type": "markdown",
   "metadata": {
    "deletable": false,
    "nbgrader": {
     "cell_type": "markdown",
     "checksum": "ce478a774a6b9c2e4a437e1e483016ce",
     "grade": true,
     "grade_id": "cell-5611adfc134f275e",
     "locked": false,
     "points": 3,
     "schema_version": 3,
     "solution": true,
     "task": false
    }
   },
   "source": [
    "First, show the expresion:\n",
    "\n",
    "\\begin{align}\n",
    "p(z) &= \\sum_c p(z,c) \\\\\n",
    "&= \\sum_c p(z \\mid c)p(c) \\\\\n",
    "&= p(z \\mid c = 1)p(c=1) + p(z \\mid c = 0)p(c=0) \\\\\n",
    "&= \\frac{6}{5} z(z+1) \\frac{5}{6} + \\frac{3}{2}(1-z^2)\\frac{1}{6} \\\\\n",
    "&= \\frac{30}{30}(z^2+z) + \\frac{3}{12}(1-z^2) \\\\\n",
    "&= z^2 + z + \\frac{1}{4} - \\frac{1}{4}z^2 \\\\\n",
    "&= \\frac{3}{4}z^2 + \\frac{4}{4}z + \\frac{1}{4} \\\\\n",
    "&= \\frac{1}{4}(3z^2 + 4z + 1) \\\\\n",
    "&= \\frac{1}{4}(3z+1)(z+1) \n",
    "\\end{align}\n",
    "\n",
    "Next, to check that the result is properly normalized, we integrate $p(z)$ over its domain:\n",
    "\n",
    "\\begin{align}\n",
    "\\int_0^1 dz \\frac{3z^2+4z+1}{4} &= \\left[ \\frac{1}{4}(z^3 + 2z^2 + z) \\right]_0^1 \\\\\n",
    "&= \\left[ \\frac{1}{4}(1+1+1) \\right]_{z=1} - 0 \\\\\n",
    "&= \\frac{1}{4}(4) \\\\\n",
    "&= 1\n",
    "\\end{align}"
   ]
  },
  {
   "cell_type": "markdown",
   "metadata": {
    "deletable": false,
    "editable": false,
    "nbgrader": {
     "cell_type": "markdown",
     "checksum": "f3c648a1b9d1d135f46d4c4db0463f90",
     "grade": false,
     "grade_id": "cell-191607c199b2a893",
     "locked": true,
     "schema_version": 3,
     "solution": false,
     "task": false
    }
   },
   "source": [
    "### Part 3\n",
    "Use Bayes' rule to compute the posterior probability distribution function $p(c|z)$."
   ]
  },
  {
   "cell_type": "markdown",
   "metadata": {
    "deletable": false,
    "nbgrader": {
     "cell_type": "markdown",
     "checksum": "4444b9a5fe0a9e74aaffb087a7acc339",
     "grade": true,
     "grade_id": "cell-dc93284bcc6fe995",
     "locked": false,
     "points": 3,
     "schema_version": 3,
     "solution": true,
     "task": false
    }
   },
   "source": [
    "First, $p(c = 0 \\mid z)$:\n",
    "\n",
    "\\begin{align}\n",
    "p(c = 0 \\mid z) &= \\frac{p(z \\mid c = 0)p(c=0)}{p(z)} \\\\\n",
    "&= \\frac{\\frac{3}{2}(1-z^2)\\frac{1}{6}}{p(z)} \\\\\n",
    "&= \\frac{\\frac{3}{12}(1-z^2)}{\\frac{(3z+1)(z+1)}{4}} \\\\\n",
    "&= \\frac{1-z^2}{(3z+1)(z+1)} \\\\\n",
    "&= \\frac{-(z^2 -1)}{(3z+1)(z+1)} \\\\\n",
    "&= \\frac{-(z-1)(z+1)}{(3z+1)(z+1)} \\\\\n",
    "&= \\frac{-(z-1)}{3z+1} \\\\\n",
    "&= \\frac{-z+1}{3z+1}\n",
    "\\end{align}\n",
    "\n",
    "Next, $p(c=1 \\mid z)$:\n",
    "\n",
    "\\begin{align}\n",
    "p(c = 1 \\mid z) &= \\frac{p(z \\mid c = 1)p(c=1)}{p(z)} \\\\\n",
    "&= \\frac{\\frac{6}{5}z(z+1)\\frac{5}{6}}{p(z)} \\\\\n",
    "&= \\frac{z(z+1)}{\\frac{(3z+1)(z+1)}{4}} \\\\\n",
    "&= \\frac{4z}{3z+1}\n",
    "\\end{align}"
   ]
  },
  {
   "cell_type": "markdown",
   "metadata": {
    "deletable": false,
    "editable": false,
    "nbgrader": {
     "cell_type": "markdown",
     "checksum": "1f3588151289d19f27cd1cf842081a24",
     "grade": false,
     "grade_id": "cell-a22ada0c53f4ac06",
     "locked": true,
     "schema_version": 3,
     "solution": false,
     "task": false
    }
   },
   "source": [
    "Plot these distributions as a function of $z$."
   ]
  },
  {
   "cell_type": "code",
   "execution_count": 14,
   "metadata": {
    "deletable": false,
    "nbgrader": {
     "cell_type": "code",
     "checksum": "d3336e873f1b6fd79833aa9009d57e8f",
     "grade": true,
     "grade_id": "cell-cc93e1c4b1783565",
     "locked": false,
     "points": 2,
     "schema_version": 3,
     "solution": true,
     "task": false
    }
   },
   "outputs": [
    {
     "data": {
      "image/png": "[encoded data removed]",
      "text/plain": [
       "<Figure size 640x480 with 1 Axes>"
      ]
     },
     "metadata": {},
     "output_type": "display_data"
    }
   ],
   "source": [
    "\"\"\"\n",
    "Plot of p(c = 0 | z), p(c = 1 | z) and decision boundary.\n",
    "\"\"\"\n",
    "# YOUR CODE HERE\n",
    "\n",
    "pc0 = 1/6\n",
    "pc1 = 5/6\n",
    "\n",
    "\n",
    "def pz(z):\n",
    "  return (3*z+1)*(z+1)/4\n",
    "\n",
    "def pc0z(alpha_1, z, pc0):\n",
    "  return (pzc0(alpha_0, z)*pc0)/pz(z)\n",
    "\n",
    "def pc1z(alpha_1, z, pc0):\n",
    "  return (pzc1(alpha_1, z)*pc1)/pz(z)\n",
    "\n",
    "plt.plot(xs, pc0z(alpha_0, xs, pc0), label=r\"$p(c = 0 \\mid z)$\")\n",
    "plt.plot(xs, pc1z(alpha_1, xs, pc1), label=r\"$p(c = 1 \\mid z)$\")\n",
    "plt.legend()\n",
    "plt.xlabel(\"z\")\n",
    "plt.ylabel(r\"$p(c)$\")\n",
    "plt.show()\n",
    "  "
   ]
  },
  {
   "cell_type": "markdown",
   "metadata": {
    "deletable": false,
    "editable": false,
    "nbgrader": {
     "cell_type": "markdown",
     "checksum": "f8a8c77f6e1d7833b82e12b87531f420",
     "grade": false,
     "grade_id": "cell-7c1aa7316c2b65d3",
     "locked": true,
     "schema_version": 3,
     "solution": false,
     "task": false
    }
   },
   "source": [
    "How can these posterior probabilities help in making a decision regarding the validity of the claim? Can you think of a way of using this system that makes economic sense for the company? Explain how or why not."
   ]
  },
  {
   "cell_type": "markdown",
   "metadata": {
    "deletable": false,
    "nbgrader": {
     "cell_type": "markdown",
     "checksum": "aa56aa57ea71fe34250ba60f6557c11f",
     "grade": true,
     "grade_id": "cell-ae48010bfe1d7e0b",
     "locked": false,
     "points": 2,
     "schema_version": 3,
     "solution": true,
     "task": false
    }
   },
   "source": [
    "We can use these posterior probabilities to minimize our probability of making a mistake; we want to accept as many valid claims as we can, and reject as many fraudulent claims as possible.\n",
    "\n",
    "In order to use this system in a way that makes economic sense for the company, we also need some number on what it 'costs' to make mistakes; we might say, for example, that accepting a fraudulent claim costs the company a lot (e.g. 10), while rejecting a valid claim costs a bit (e.g. 1). If we have these two numbers, we can compute an optimal decision boundary with regards to this implied loss matrix."
   ]
  },
  {
   "cell_type": "markdown",
   "metadata": {
    "deletable": false,
    "editable": false,
    "nbgrader": {
     "cell_type": "markdown",
     "checksum": "d11f2f86b92013b28d943c272f32d1dc",
     "grade": false,
     "grade_id": "cell-8d78a9ab9cac6c25",
     "locked": true,
     "schema_version": 3,
     "solution": false,
     "task": false
    }
   },
   "source": [
    "### Part 4\n",
    "Compute the optimal decision boundary (based on our numerical score $z$) that minimizes the misclassification rate. For which $z$ should we classify $c = 0$ (false) and for which $z$ should we classify $c = 1$ (valid)? Explain your decision."
   ]
  },
  {
   "cell_type": "markdown",
   "metadata": {
    "deletable": false,
    "nbgrader": {
     "cell_type": "markdown",
     "checksum": "f91ee293a36caabbd88395698425e0dd",
     "grade": true,
     "grade_id": "cell-a14bb055147603d6",
     "locked": false,
     "points": 6,
     "schema_version": 3,
     "solution": true,
     "task": false
    }
   },
   "source": [
    "In this case, we should simply classify each data point (insurance claim) to the class that has the highest posterior probability given the test score. We see that if the test score is below 0.2, $p(c=0 \\mid z)$ has higher probability, and if it's above $0.2$, $p(c=1\\mid z)$ has the higher posterior probability. Therefore, we would accept any claims with $z \\geq 0.2$, and otherwise reject.\n",
    "\n",
    "We can land on this decision boundary in another way through looking at the probability of being correct: \n",
    "\n",
    "\\begin{align}\n",
    "p(\\text{correct}) &= \\sum_{k=1}^K p(z \\in \\mathcal{R}_k,c_k) \\\\\n",
    "&= \\sum_{k=1}^K \\int_{\\mathcal{R}_k} p(z, c_k) \\mathrm{d}x \\\\\n",
    "&= \\sum_{k=1}^K \\int_{\\mathcal{R}_k} p(c_k \\mid z) p(z) \\mathrm{d}x\n",
    "\\end{align}\n",
    "We want to maximise this function, and through reasoning, we can see that it's maximised when we choose $x$ to be in the class that maximises the conditional probability $p(C_k \\mid x)$, because $p(x)$ is in each term of the sums."
   ]
  },
  {
   "cell_type": "markdown",
   "metadata": {
    "deletable": false,
    "editable": false,
    "nbgrader": {
     "cell_type": "markdown",
     "checksum": "f1c6f288b9093eea18df718671769ed9",
     "grade": false,
     "grade_id": "cell-eab5b5b168545012",
     "locked": true,
     "schema_version": 3,
     "solution": false,
     "task": false
    }
   },
   "source": [
    "### Part 5\n",
    "Compute the misclassification rate, given the optimal decision boundary determined previously. Interpret the result you have obtained. Is the $z$ score useful in determining the validity of the claim?"
   ]
  },
  {
   "cell_type": "markdown",
   "metadata": {
    "deletable": false,
    "nbgrader": {
     "cell_type": "markdown",
     "checksum": "e7dcc5b3ee5a400f976a9d1761bfbe96",
     "grade": true,
     "grade_id": "cell-71541614d4684e06",
     "locked": false,
     "points": 6,
     "schema_version": 3,
     "solution": true,
     "task": false
    }
   },
   "source": [
    "YOUR ANSWER HERE"
   ]
  }
 ],
 "metadata": {
  "kernelspec": {
   "display_name": "base",
   "language": "python",
   "name": "python3"
  },
  "language_info": {
   "codemirror_mode": {
    "name": "ipython",
    "version": 3
   },
   "file_extension": ".py",
   "mimetype": "text/x-python",
   "name": "python",
   "nbconvert_exporter": "python",
   "pygments_lexer": "ipython3",
   "version": "3.12.4"
  }
 },
 "nbformat": 4,
 "nbformat_minor": 4
}
