{
 "cells": [
  {
   "cell_type": "markdown",
   "metadata": {
    "editable": false,
    "slideshow": {
     "slide_type": ""
    },
    "tags": []
   },
   "source": [
    "1. **Restart the kernel** (in the menubar, select Kernel$\\rightarrow$Restart)\n",
    "2. **Run all cells** (in the menubar, select Cell$\\rightarrow$Run All).\n",
    "3. __Use the__ `Validate` __button in the Assignments tab before submitting__.\n",
    "\n",
    "__Include comments, derivations, explanations, graphs, etc.__ \n",
    "\n",
    "You __work in groups__ (= 3 people). __Write the full name and S/U-number of all team members!__"
   ]
  },
  {
   "cell_type": "markdown",
   "metadata": {
    "editable": true,
    "slideshow": {
     "slide_type": ""
    },
    "tags": []
   },
   "source": [
    "GROUP NUMBER (brightspace): 43\n",
    "* Student 1 Stian Grønlund, s1122151:\n",
    "* Student 2 name, S/U-number:\n",
    "* Student 3 name, S/U-number:"
   ]
  },
  {
   "cell_type": "markdown",
   "metadata": {
    "editable": true,
    "slideshow": {
     "slide_type": ""
    },
    "tags": []
   },
   "source": [
    "---"
   ]
  },
  {
   "cell_type": "markdown",
   "metadata": {
    "deletable": false,
    "editable": false,
    "nbgrader": {
     "cell_type": "markdown",
     "checksum": "909f6d5cb14383f738f728c199f120ee",
     "grade": false,
     "grade_id": "cell-4a3707609a8bbfee",
     "locked": true,
     "schema_version": 3,
     "solution": false,
     "task": false
    },
    "slideshow": {
     "slide_type": ""
    },
    "tags": []
   },
   "source": [
    "# Assignment 1 (Statistical Machine Learning 2024)\n",
    "# **Deadline: 27 September 2024**\n",
    "\n",
    "## Instructions\n",
    "* Fill in any place that says `YOUR CODE HERE` or `YOUR ANSWER HERE` __including comments, derivations, explanations, graphs, etc.__ \n",
    "Elements and/or intermediate steps required to derive the answer have to be in the report. If an exercise requires coding, explain briefly what the code does (in comments). All figures should have titles (descriptions), axis labels, and legends.\n",
    "* Please do __not add new cells__ to the notebook, try to write the answers only in the provided cells. Before you turn the assignment in, make sure everything runs as expected.\n",
    "* __Use the variable names given in the exercises__, do not assign your own variable names. \n",
    "* __Only one team member needs to upload the solutions__. This can be done under the Assignments tab, where you fetched the assignments, and where you can also validate your submissions. Please do not change the filenames of the individual Jupyter notebooks.\n",
    "\n",
    "For any problems or questions regarding the assignments, ask during the tutorial or send an email to charlotte.cambiervannooten@ru.nl and janneke.verbeek@ru.nl .\n",
    "\n",
    "## Introduction\n",
    "Assignment 1 consists of:\n",
    "1. Polynomial curve fitting (50 points);\n",
    "2. Gradient descent (25 points);\n",
    "3. __Fruit boxes (25 points);__\n",
    "4. Probability factorization (BONUS 10 points);\n",
    "\n",
    "## Libraries\n",
    "\n",
    "Please __avoid installing new packages__, unless really necessary."
   ]
  },
  {
   "cell_type": "code",
   "execution_count": 16,
   "metadata": {
    "deletable": false,
    "editable": false,
    "nbgrader": {
     "cell_type": "code",
     "checksum": "d0bbce81100157570e2530b5ac3d1fbd",
     "grade": false,
     "grade_id": "cell-3b986e21540420a2",
     "locked": true,
     "schema_version": 3,
     "solution": false,
     "task": false
    },
    "ExecuteTime": {
     "end_time": "2024-09-27T19:23:53.287450742Z",
     "start_time": "2024-09-27T19:23:53.246289675Z"
    }
   },
   "outputs": [],
   "source": [
    "import IPython\n",
    "assert IPython.version_info[0] >= 3, \"Your version of IPython is too old, please update it to at least version 3.\"\n",
    "\n",
    "# Necessary imports (for solutions)\n",
    "import math\n",
    "import numpy as np\n",
    "import matplotlib.pyplot as plt\n",
    "from collections import namedtuple\n",
    "\n",
    "# Set fixed random seed for reproducibility\n",
    "np.random.seed(2022)"
   ]
  },
  {
   "cell_type": "markdown",
   "metadata": {
    "deletable": false,
    "editable": false,
    "nbgrader": {
     "cell_type": "markdown",
     "checksum": "0418fbc30d3f50d686601ff197d27525",
     "grade": false,
     "grade_id": "cell-2a1aae0a18484d04",
     "locked": true,
     "schema_version": 3,
     "solution": false,
     "task": false
    }
   },
   "source": [
    "## Fruit boxes (weight 25)\n",
    "Suppose we have two healthy but curiously mixed boxes of fruit, with one box containing 8 apples and 4 grapefruit and the other containing 15 apples and 3 grapefruit. One of the boxes is selected at random and a piece of fruit is picked (but not eaten) from the chosen box, with equal probability for each item in the box. The piece of fruit is returned and then once again from the *same* box a second piece is chosen at random. This is known as sampling with replacement. Model the chosen box with the random variable $B$, the first piece of fruit with the variable $F_1$, and the second piece with $F_2$.\n",
    "### Exercise 3.1\n",
    "What is the probability that the first piece of fruit is an apple given that the second piece of fruit was a grapefruit? How can the result of the second pick affect the probability of the first pick?"
   ]
  },
  {
   "cell_type": "markdown",
   "metadata": {
    "deletable": false,
    "nbgrader": {
     "cell_type": "markdown",
     "checksum": "71cf34c527a273159e90247f2f299b9c",
     "grade": true,
     "grade_id": "cell-20711d5530b05594",
     "locked": false,
     "points": 7,
     "schema_version": 3,
     "solution": true,
     "task": false
    }
   },
   "source": [
    "The second pick of the fruit depends on the pick of the first fruit because we pick the second fruit from the same box. Even though the probability of picking the fruit within the box does not change, but the fact that we picked a specific fruit either as first or as a second one informs us about which box was more likely to be picked from.\n",
    "We can calculate this using Bayes' Theorem as:\n",
    "\n",
    "$$\n",
    "\\begin{align}\n",
    "    P(F_1 = A \\mid F_2 = G) &= \\frac{P(F_2 = G \\mid F_1 = A) P(F_1 = A)}{P(F_2 = G)}\n",
    "\\end{align}\n",
    "$$\n",
    "\n",
    "\n",
    "### 1. Finding $\\( P(F_2 = G \\mid F_1 = A) \\)$\n",
    "We will find it by using the expression $$\n",
    "\\begin{align}\n",
    "    P(F_2 = G \\mid F_1 = A) &= P(F_2 = G \\mid B = 1) \\cdot P(B = 1|F_1=A)   + P(F_2 = G \\mid  B=2) \\cdot P(B=2|F1=A) \\\\\n",
    "\\end{align}\n",
    "$$\n",
    "\n",
    "First, we calculate $\\( P(B = 1 \\mid F_1 = A) \\)$  using Bayes' theorem:\n",
    "\n",
    "$$\n",
    "\\begin{align}\n",
    "    P(B = 1 \\mid F_1 = A) &= \\frac{P(F_1 = A \\mid B = 1) P(B = 1)}{P(F_1 = A)} = \\frac{\\left(\\frac{8}{12}\\right) \\left(\\frac{1}{2}\\right)}{(\\frac{1}{2} \\cdot \\frac{8}{12}) + (\\frac{1}{2} \\cdot \\frac{15}{18}) } = \\frac{\\left(\\frac{2}{3}\\right) \\left(\\frac{1}{2}\\right)}{\\frac{3}{4}} = \\frac{\\frac{2}{6}}{\\frac{3}{4}} = \\frac{\\frac{1}{3}}{\\frac{3}{4}} = \\frac{4}{9}\n",
    "\\end{align}\n",
    "$$\n",
    "\n",
    "Then $P(B = 2 \\mid F_1 = A) = 1 - \\frac{4}{9} = \\frac{5}{9}$.\n",
    "We can directly observe that $P(F_2 = G \\mid B = 1) = \\frac{4}{12} $ and $P(F_2 = G \\mid  B=2)=\\frac{3}{18}$\n",
    "Then plugging everything together we get:\n",
    "\n",
    "$$\n",
    "\\begin{align}\n",
    "    P(F_2 = G \\mid F_1 = A)&= \\frac{4}{12}  \\cdot \\frac{4}{9} + \\frac{3}{18} \\cdot \\frac{5}{9} = \\frac{13}{54}\n",
    "\\end{align}\n",
    "$$\n",
    "\n",
    "### 2. Finding $\\( P(F_1 = A) \\)$\n",
    "\n",
    "The probability of getting an apple from either box:\n",
    "\n",
    "$$\n",
    "\\begin{align}\n",
    "    P(F_1 = A) &= P(B = 1) \\cdot P(F_1 = A \\mid B=1) + P(B=2) \\cdot P(F_1 = A \\mid B=2) = \\frac{1}{2} \\cdot \\frac{8}{12} + \\frac{1}{2} \\cdot \\frac{15}{18} = \\frac{3}{4}\n",
    "\\end{align}\n",
    "$$\n",
    "\n",
    "### 3. Finding $\\( P(F_2 = G) \\)$\n",
    "Analogically to $P(F_1 = A)$ calculation we get:\n",
    "$$\n",
    "\\begin{align}\n",
    "    P(F_2 = G) &= P(B = 1) \\cdot P(F_2 = G \\mid B=1) + P(B=2) \\cdot P(F_2 = G \\mid B=2) = \\frac{1}{2} \\cdot \\frac{4}{12} + \\frac{1}{2} \\cdot \\frac{3}{18} = \\frac{3}{12} = \\frac{1}{4}\n",
    "\\end{align}\n",
    "$$\n",
    "### 3. Plugging everything together:\n",
    "\n",
    "$$\n",
    "\\begin{align}\n",
    "   P(F_1 = A \\mid F_2 = G) &= \\frac{ \\frac{13}{54} \\cdot \\frac{3}{4}}{\\frac{1}{4}} &= \\frac{13}{18}}\n",
    "\\end{align}\n",
    "$$\n"
   ]
  },
  {
   "cell_type": "markdown",
   "metadata": {
    "deletable": false,
    "editable": false,
    "nbgrader": {
     "cell_type": "markdown",
     "checksum": "f5081815b1cf92b2880cd47adb5e6cf7",
     "grade": false,
     "grade_id": "cell-49dfe477cdad0ff8",
     "locked": true,
     "schema_version": 3,
     "solution": false,
     "task": false
    }
   },
   "source": [
    "Please add the final result you got in the cell below! (Add it as a fraction, not an estimate. For example, write __1/3__, do not round to a number of decimals.)"
   ]
  },
  {
   "cell_type": "code",
   "execution_count": 15,
   "metadata": {
    "deletable": false,
    "nbgrader": {
     "cell_type": "code",
     "checksum": "3a502307711645f0453e6444b8f50156",
     "grade": false,
     "grade_id": "cell-6d4096e0b9231c28",
     "locked": false,
     "schema_version": 3,
     "solution": true,
     "task": false
    },
    "ExecuteTime": {
     "end_time": "2024-09-27T17:42:03.099739608Z",
     "start_time": "2024-09-27T17:42:03.058252698Z"
    }
   },
   "outputs": [],
   "source": [
    "\"\"\"\n",
    "The variable p is probability of the first piece of fruit being\n",
    "an apple given that the second piece of fruit was a grapefruit.\n",
    "\"\"\"\n",
    "p=13/18"
   ]
  },
  {
   "cell_type": "code",
   "execution_count": 12,
   "metadata": {
    "deletable": false,
    "editable": false,
    "nbgrader": {
     "cell_type": "code",
     "checksum": "f2883d640be1793610b60635ef1a0abe",
     "grade": true,
     "grade_id": "cell-13f94c0b98af50e6",
     "locked": true,
     "points": 2,
     "schema_version": 3,
     "solution": false,
     "task": false
    },
    "ExecuteTime": {
     "end_time": "2024-09-27T17:28:16.203439223Z",
     "start_time": "2024-09-27T17:28:16.198995552Z"
    }
   },
   "outputs": [
    {
     "data": {
      "text/plain": "'\\nHidden check for value of variable p.\\n'"
     },
     "execution_count": 12,
     "metadata": {},
     "output_type": "execute_result"
    }
   ],
   "source": [
    "\"\"\"\n",
    "Hidden check for value of variable p.\n",
    "\"\"\""
   ]
  },
  {
   "cell_type": "markdown",
   "metadata": {
    "deletable": false,
    "editable": false,
    "nbgrader": {
     "cell_type": "markdown",
     "checksum": "daefb7a66bbaabf1623c232bbcd2e1cd",
     "grade": false,
     "grade_id": "cell-533f0ed93282cea2",
     "locked": true,
     "schema_version": 3,
     "solution": false,
     "task": false
    }
   },
   "source": [
    "### Exercise 3.2\n",
    "Imagine now that after we remove a piece of fruit, it is not returned to the box. This is known as sampling without replacement. In this situation, recompute the probability that the first piece of fruit is an apple given that the second piece of fruit was a grapefruit. Explain the difference."
   ]
  },
  {
   "cell_type": "markdown",
   "source": [
    "We find the answer very similarly as in 3.1 except that where relevant we take into consideration different probability of the second draw.\n",
    "First we start with Bayes' Theorem as:\n",
    "\n",
    "$$\n",
    "\\begin{align}\n",
    "    P(F_1 = A \\mid F_2 = G) &= \\frac{P(F_2 = G \\mid F_1 = A) P(F_1 = A)}{P(F_2 = G)}\n",
    "\\end{align}\n",
    "$$\n",
    "\n",
    "\n",
    "### 1. Finding $\\( P(F_2 = G \\mid F_1 = A) \\)$\n",
    "We will find it by using the expression $$\n",
    "\\begin{align}\n",
    "    P(F_2 = G \\mid F_1 = A) &= P(F_2 = G \\mid B = 1, F_1=A) \\cdot P(B = 1|F_1=A)   + P(F_2 = G \\mid  B=2, F_1=A) \\cdot P(B=2|F1=A) \\\\\n",
    "\\end{align}\n",
    "$$\n",
    "\n",
    "From 3.1 we have $\\( P(B = 1 \\mid F_1 = A) \\)=\\frac{4}{9}$  and $P(B = 2 \\mid F_1 = A) = \\frac{5}{9}$ as it doesn't depend on second draw.\n",
    "\n",
    "Next, because we assume that first draw was an apple, then for a second draw we get:\n",
    "$$\n",
    "\\begin{align}\n",
    "    P(F_2 = G \\mid B = 1, F_1=A)&= \\frac{4}{11}\n",
    "\\end{align}\n",
    "$$\n",
    "Analogically for box 2:\n",
    "\n",
    "$$\n",
    "\\begin{align}\n",
    "    P(F_2 = G \\mid  B=2, F_1=A)&= \\frac{3}{17}\n",
    "\\end{align}\n",
    "$$\n",
    "\n",
    "Then putting everything together:\n",
    "$$\n",
    "\\begin{align}\n",
    "    P(F_2 = G \\mid F_1 = A)&= \\frac{4}{11}  \\cdot \\frac{4}{9} + \\frac{3}{17} \\cdot \\frac{5}{9} = \\frac{437}{1683}\n",
    "\\end{align}\n",
    "$$\n",
    "\n",
    "### 2. Finding $\\( P(F_1 = A) \\)$\n",
    "\n",
    "The probability of getting an apple from either box we already have from 3.1: $P(F_1 = A) = \\frac{3}{4}$\n",
    "\n",
    "\n",
    "### 3. Finding $\\( P(F_2 = G) \\)$\n",
    "We need to get marginal probability by summing out first fruit pick and box. Then, for first box:\n",
    "$$\n",
    "\\begin{align}\n",
    "    P(F_2 = G \\mid B = 1) &= P(F_2 = G| F1=A) + P(F_2 = G| F1=G) = \\frac{4}{11} + \\frac{3}{11} = \\frac{7}{11}\n",
    "\\end{align}\n",
    "$$\n",
    "Analogically, for box 2:\n",
    "$$\n",
    "\\begin{align}\n",
    "    P(F_2 = G \\mid B = 2) &= P(F_2 = G| F1=A) + P(F_2 = G| F1=G) = \\frac{3}{17} + \\frac{2}{17} = \\frac{5}{17}\n",
    "\\end{align}\n",
    "$$\n",
    "Then adding everything together:\n",
    "$$\n",
    "\\begin{align}\n",
    "    P(F_2 = G) &= \\frac{7}{11} + \\frac{5}{17} = \\frac{4}{11} + \\frac{3}{11} = \\frac{174}{187}\n",
    "\\end{align}\n",
    "\n",
    "$$\n",
    "### 4. Plugging everything together:\n",
    "\n",
    "$$\n",
    "\\begin{align}\n",
    "   P(F_1 = A \\mid F_2 = G) &= \\frac{ \\frac{437}{1683} \\cdot \\frac{3}{4}}{\\frac{174}{187}} &= \\frac{437}{2088}}\n",
    "\\end{align}\n",
    "$$\n"
   ],
   "metadata": {
    "collapsed": false
   }
  },
  {
   "cell_type": "markdown",
   "source": [
    "\n",
    "To compute $ P(F_2 = G)$, we need to consider all possible ways the second fruit can be a grapefruit, accounting for both boxes and the outcomes of the first draw.\n",
    "\n",
    "We have:\n",
    "\n",
    "$$\n",
    "P(F_2 = G) = P(B = 1) \\cdot P(F_2 = G \\mid B = 1) + P(B = 2) \\cdot P(F_2 = G \\mid B = 2)\n",
    "$$\n",
    "\n",
    "For box 1:\n",
    "$$\n",
    "\\begin{align*}\n",
    "P(F_2 = G \\mid B = 1) &= P(F_1 = A \\mid B = 1) \\cdot P(F_2 = G \\mid B = 1, F_1 = A) + P(F_1 = G \\mid B = 1) \\cdot P(F_2 = G \\mid B = 1, F_1 = G)\n",
    "\\end{align*}\n",
    "$$\n",
    "\n",
    "$$\n",
    "\\begin{align*}\n",
    " P(F_1 = A \\mid B = 1) \\cdot P(F_2 = G \\mid B = 1, F_1 = A) = \\frac{8}{12} \\cdot \\frac{4}{11} = \\frac{8}{33}\n",
    "\\end{align*}\n",
    "$$\n",
    "\n",
    "$$\n",
    "\\begin{align*}\n",
    "P(F_1 = G \\mid B = 1) \\cdot P(F_2 = G \\mid B = 1, F_1 = G) = \\frac{4}{12} \\cdot \\frac{3}{11} = \\frac{1}{11}\n",
    "\\end{align*}\n",
    "$$\n",
    "\n",
    "Then pulling everything in:\n",
    "$$\n",
    "\\begin{align*}\n",
    "P(F_2 = G \\mid B = 1) &= frac{8}{33} + \\frac{1}{11} = \\frac{1}{3}\n",
    "\\end{align*}\n",
    "\n",
    "\n",
    "For box 2\n",
    "\n",
    "Similarly:\n",
    "$$\n",
    "\\begin{align*}\n",
    "P(F_2 = G \\mid B = 2) &= P(F_1 = A \\mid B = 2) \\cdot P(F_2 = G \\mid B = 2, F_1 = A) + P(F_1 = G \\mid B = 2) \\cdot P(F_2 = G \\mid B = 2, F_1 = G)\n",
    "\\end{align*}\n",
    "$$\n",
    "\n",
    "$$\n",
    "\\begin{align*}\n",
    " P(F_1 = A \\mid B = 2) \\cdot P(F_2 = G \\mid B = 2, F_1 = A) = \\frac{15}{18} \\cdot \\frac{3}{17} = \\frac{15}{102}\n",
    "\\end{align*}\n",
    "$$\n",
    "\n",
    "$$\n",
    "\\begin{align*}\n",
    " P(F_1 = G \\mid B = 2) \\cdot P(F_2 = G \\mid B = 2, F_1 = G) = \\frac{3}{18} \\cdot \\frac{2}{17} = \\frac{2}{102}\n",
    "\\end{align*}\n",
    "$$\n",
    "\n",
    "Then pulling everything in:\n",
    "$$\n",
    "\\begin{align*}\n",
    "P(F_2 = G \\mid B = 2) &= \\frac{15}{102} + \\frac{2}{102} = \\frac{17}{102}\n",
    "\\end{align*}\n",
    "$$\n",
    "\n",
    "\n",
    "\n",
    "**Now, compute \\( P(F_2 = G) \\):**\n",
    "\n",
    "\\[\n",
    "\\begin{align*}\n",
    "P(F_2 = G) &= P(B = 1) \\cdot P(F_2 = G \\mid B = 1) + P(B = 2) \\cdot P(F_2 = G \\mid B = 2) \\\\\n",
    "&= \\left( \\frac{1}{2} \\cdot \\frac{1}{3} \\right) + \\left( \\frac{1}{2} \\cdot \\frac{17}{102} \\right) \\\\\n",
    "&= \\frac{1}{6} + \\frac{17}{204}\n",
    "\\end{align*}\n",
    "\\]\n",
    "\n",
    "Simplify the fractions:\n",
    "\n",
    "1. **Find a common denominator:**\n",
    "\n",
    "   - The least common denominator (LCD) of 6 and 204 is 204.\n",
    "   - Convert fractions:\n",
    "     \\[\n",
    "     \\frac{1}{6} = \\frac{34}{204}, \\quad \\frac{17}{204} = \\frac{17}{204}\n",
    "     \\]\n",
    "\n",
    "2. **Add the fractions:**\n",
    "\n",
    "   \\[\n",
    "   \\begin{align*}\n",
    "   P(F_2 = G) &= \\frac{34}{204} + \\frac{17}{204} \\\\\n",
    "   &= \\frac{51}{204}\n",
    "   \\end{align*}\n",
    "   \\]\n",
    "\n",
    "3. **Simplify the result:**\n",
    "\n",
    "   - Divide numerator and denominator by their greatest common divisor (GCD), which is 51:\n",
    "     \\[\n",
    "     \\frac{51 \\div 51}{204 \\div 51} = \\frac{1}{4}\n",
    "     \\]\n",
    "\n",
    "Therefore,\n",
    "\n",
    "\\[\n",
    "P(F_2 = G) = \\frac{1}{4}\n",
    "\\]\n",
    "\n",
    "---\n",
    "\n",
    "This means the probability that the second fruit drawn is a grapefruit is \\( \\frac{1}{4} \\)."
   ],
   "metadata": {
    "collapsed": false
   }
  },
  {
   "cell_type": "markdown",
   "source": [
    "\n",
    "- \\( B \\) as the event of choosing a box. There are two possibilities: \\( B_1 \\) represents Box 1 (8 apples and 4 grapefruit) and \\( B_2 \\) represents Box 2 (15 apples and 3 grapefruit).\n",
    "- \\( F_1 \\) represents the first piece of fruit chosen.\n",
    "- \\( F_2 \\) represents the second piece of fruit chosen.\n",
    "\n",
    "We are asked to find the probability of \\( F_1 \\) being an apple given that \\( F_2 \\) is a grapefruit:\n",
    "\n",
    "$$\n",
    "\\begin{align}\n",
    "    P(F_1 = A \\mid F_2 = G)\n",
    "\\end{align}\n",
    "$$\n",
    "\n",
    "This can be expressed using Bayes' Theorem as:\n",
    "\n",
    "$$\n",
    "\\begin{align}\n",
    "    P(F_1 = A \\mid F_2 = G) &= \\frac{P(F_2 = G \\mid F_1 = A) P(F_1 = A)}{P(F_2 = G)}\n",
    "\\end{align}\n",
    "$$\n",
    "\n",
    "### 1. Finding $\\( P(F_2 = G \\mid F_1 = A) \\)$\n",
    "We will find it by using the expression $$\n",
    "\\begin{align}\n",
    "    P(F_2 = G \\mid F_1 = A) &= P(F_2 = G \\mid B = 1) \\cdot P(B = 1|F_1=A)   + P(F_2 = G \\mid  B=2) \\cdot P(B=2|F1=A) \\\\\n",
    "\\end{align}\n",
    "$$\n",
    "\n",
    "First, we calculate $\\( P(B = 1 \\mid F_1 = A) \\)$  using Bayes' theorem:\n",
    "\n",
    "$$\n",
    "\\begin{align}\n",
    "    P(B = 1 \\mid F_1 = A) &= \\frac{P(F_1 = A \\mid B = 1) P(B = 1)}{P(F_1 = A)} = \\frac{\\left(\\frac{8}{12}\\right) \\left(\\frac{1}{2}\\right)}{(\\frac{1}{2} \\cdot \\frac{8}{12}) + (\\frac{1}{2} \\cdot \\frac{15}{18}) } = \\frac{\\left(\\frac{2}{3}\\right) \\left(\\frac{1}{2}\\right)}{\\frac{3}{4}} = \\frac{\\frac{2}{6}}{\\frac{3}{4}} = \\frac{\\frac{1}{3}}{\\frac{3}{4}} = \\frac{4}{9}\n",
    "\\end{align}\n",
    "$$\n",
    "\n",
    "Then $P(B = 2 \\mid F_1 = A) = 1 - \\frac{4}{9} = \\frac{5}{9}$.\n",
    "\n",
    "Next, we calculate $\\( P(F_2 = G \\mid B = 1) \\)$:\n",
    "If $\\( F_1 \\)$ is an apple the box will now have 7 apples and 4 grapefruit. The probability that the second fruit is a grapefruit is then $\\( \\frac{4}{11} \\)$.\n",
    "\n",
    "If $\\( F_1 \\)$ is a grapefruit the box will now have 8 apples and 3 grapefruit. The probability that the second fruit is a grapefruit is then $\\( \\frac{3}{17} \\)$.\n",
    "\n",
    "$$\n",
    "\\begin{align}\n",
    "    P(F_2 = G \\mid B = 1) &= P(F_2 = G \\mid B = 1, F_1=G) + P(F_2 = G \\mid B = 1, F_1=A) = \\frac{4}{12} \\cdot \\frac{3}{11} + \\frac{8}{13} \\cdot \\frac{4}{11} = \\frac{11}{13} = \\frac{1}{3}\n",
    "\\end{align}\n",
    "$$\n",
    "\n",
    "Next, calculate $\\( P(F_2 = G \\mid  B=2) \\)$:\n",
    "If $\\( F_1 \\)$ is an apple the box will now have 14 apples and 3 grapefruit. The probability that the second fruit is a grapefruit is then $\\( \\frac{3}{17} \\)$.\n",
    "\n",
    "If $\\( F_1 \\)$ is a grapefruit the box will now have 15 apples and 2 grapefruit. The probability that the second fruit is a grapefruit is then $\\( \\frac{2}{17} \\)$.\n",
    "\n",
    "$$\n",
    "\\begin{align}\n",
    "    P(F_2 = G \\mid B = 2) &= P(F_2 = G \\mid B = 2, F_1=G) + P(F_2 = G \\mid B = 2, F_1=A) = \\frac{3}{18} \\cdot \\frac{2}{17} + \\frac{15}{18} \\cdot \\frac{3}{17} = \\frac{10}{102} = \\frac{5}{51}\n",
    "\\end{align}\n",
    "$$\n",
    "\n",
    "\n",
    "Now, combining everything together:\n",
    "\n",
    "$$\n",
    "\\begin{align}\n",
    "    P(F_2 = G \\mid F_1 = A) &= \n",
    "    &= \\frac{4}{9} \\cdot \\frac{1}{3} + \\frac{5}{9} \\cdot \\frac{5}{51} = \\frac{93}{9*51}= \\frac{31}{153}\n",
    "\\end{align}\n",
    "$$\n",
    "\n",
    "### 2. Finding \\( P(F_1 = A) \\)\n",
    "\n",
    "The probability of getting an apple from either box:\n",
    "\n",
    "$$\n",
    "\\begin{align}\n",
    "    P(F_1 = A) &= P(B_1) \\cdot P(F_1 = A \\mid B_1) + P(B_2) \\cdot P(F_1 = A \\mid B_2) \\\\\n",
    "    &= \\frac{1}{2} \\cdot \\frac{8}{12} + \\frac{1}{2} \\cdot \\frac{15}{18} \\\\\n",
    "    &= \\frac{1}{2} \\cdot \\frac{2}{3} + \\frac{1}{2} \\cdot \\frac{5}{6} \\\\\n",
    "    &= \\frac{1}{3} + \\frac{5}{12} \\\\\n",
    "    &= \\frac{4}{12} + \\frac{5}{12} \\\\\n",
    "    &= \\frac{9}{12} \\\\\n",
    "    &= \\frac{3}{4}\n",
    "\\end{align}\n",
    "$$\n",
    "\n",
    "### 3. Finding \\( P(F_2 = G) \\)\n",
    "\n",
    "This requires considering all possible scenarios:\n",
    "\n",
    "$$\n",
    "\\begin{align}\n",
    "    P(F_2 = G) &= P(F_2 = G \\mid F_1 = A) + P(F_2 = G \\mid F_1 = G)\n",
    "\\end{align}\n",
    "$$\n",
    "We already have $P(F_2 = G \\mid F_1 = A)$ so we have to find $P(F_2 = G \\mid F_1 = G)$ analogically.\n",
    "\n",
    "So we need to find\n",
    "\n",
    "$$\n",
    "\\begin{align}\n",
    "    P(F_1 = G \\mid F_2 = G) &= \\frac{P(F_2 = G \\mid F_1 = A) P(F_1 = A)}{P(F_2 = G)}\n",
    "\\end{align}\n",
    "$$\n",
    "\n"
   ],
   "metadata": {
    "collapsed": false
   }
  },
  {
   "cell_type": "markdown",
   "metadata": {
    "deletable": false,
    "editable": false,
    "nbgrader": {
     "cell_type": "markdown",
     "checksum": "2089da2a56d8f63cca56888c8cf0d3cf",
     "grade": false,
     "grade_id": "cell-b2aab5343b969c8a",
     "locked": true,
     "schema_version": 3,
     "solution": false,
     "task": false
    }
   },
   "source": [
    "Please add the final result you got in the cell below! (Add it as a fraction, not an estimate. For example, write __1/3__, do not round to a number of decimals.)"
   ]
  },
  {
   "cell_type": "code",
   "execution_count": 13,
   "metadata": {
    "deletable": false,
    "nbgrader": {
     "cell_type": "code",
     "checksum": "16f923200f4fc392ae85903599942470",
     "grade": false,
     "grade_id": "cell-bbf669c7d7e989eb",
     "locked": false,
     "schema_version": 3,
     "solution": true,
     "task": false
    },
    "ExecuteTime": {
     "end_time": "2024-09-27T17:29:27.180922109Z",
     "start_time": "2024-09-27T17:29:27.138691851Z"
    }
   },
   "outputs": [
    {
     "ename": "NotImplementedError",
     "evalue": "",
     "output_type": "error",
     "traceback": [
      "\u001B[0;31m---------------------------------------------------------------------------\u001B[0m",
      "\u001B[0;31mNotImplementedError\u001B[0m                       Traceback (most recent call last)",
      "Cell \u001B[0;32mIn[13], line 7\u001B[0m\n\u001B[1;32m      1\u001B[0m \u001B[38;5;124;03m\"\"\"\u001B[39;00m\n\u001B[1;32m      2\u001B[0m \u001B[38;5;124;03mThe variable p is probability of the first piece of fruit being\u001B[39;00m\n\u001B[1;32m      3\u001B[0m \u001B[38;5;124;03man apple given that the second piece of fruit was a grapefruit\u001B[39;00m\n\u001B[1;32m      4\u001B[0m \u001B[38;5;124;03mwhen the sampling was done without replacement.\u001B[39;00m\n\u001B[1;32m      5\u001B[0m \u001B[38;5;124;03m\"\"\"\u001B[39;00m\n\u001B[1;32m      6\u001B[0m \u001B[38;5;66;03m# YOUR CODE HERE\u001B[39;00m\n\u001B[0;32m----> 7\u001B[0m \u001B[38;5;28;01mraise\u001B[39;00m \u001B[38;5;167;01mNotImplementedError\u001B[39;00m()\n",
      "\u001B[0;31mNotImplementedError\u001B[0m: "
     ]
    }
   ],
   "source": [
    "\"\"\"\n",
    "The variable p is probability of the first piece of fruit being\n",
    "an apple given that the second piece of fruit was a grapefruit\n",
    "when the sampling was done without replacement.\n",
    "\"\"\"\n",
    "# YOUR CODE HERE\n",
    "raise NotImplementedError()"
   ]
  },
  {
   "cell_type": "code",
   "execution_count": 14,
   "metadata": {
    "deletable": false,
    "editable": false,
    "nbgrader": {
     "cell_type": "code",
     "checksum": "b5d7e45759c1ed1210325247c63fe190",
     "grade": true,
     "grade_id": "cell-1aa31b8a1047f19a",
     "locked": true,
     "points": 2,
     "schema_version": 3,
     "solution": false,
     "task": false
    },
    "ExecuteTime": {
     "end_time": "2024-09-27T17:29:27.584157402Z",
     "start_time": "2024-09-27T17:29:27.557656395Z"
    }
   },
   "outputs": [
    {
     "data": {
      "text/plain": "'\\nHidden check for value of variable p.\\n'"
     },
     "execution_count": 14,
     "metadata": {},
     "output_type": "execute_result"
    }
   ],
   "source": [
    "\"\"\"\n",
    "Hidden check for value of variable p.\n",
    "\"\"\""
   ]
  },
  {
   "cell_type": "markdown",
   "metadata": {
    "deletable": false,
    "editable": false,
    "nbgrader": {
     "cell_type": "markdown",
     "checksum": "f782f9a85dc09a176d4c28c2aac32fdc",
     "grade": false,
     "grade_id": "cell-5e32edcbb1f96df8",
     "locked": true,
     "schema_version": 3,
     "solution": false,
     "task": false
    }
   },
   "source": [
    "### Exercise 3.3\n",
    "Starting from the initial situation (i.e., sampling with replacement), we add a dozen oranges to the first box and repeat the experiment. Show that now the outcome of the first pick has no impact on the probability that the second pick is a grapefruit. Are the two picks now dependent or independent? Explain your answer."
   ]
  },
  {
   "cell_type": "markdown",
   "metadata": {
    "deletable": false,
    "nbgrader": {
     "cell_type": "markdown",
     "checksum": "0c6f39d751ee3ae29422a2ef852f9462",
     "grade": true,
     "grade_id": "cell-03574d2eb9eadf55",
     "locked": false,
     "points": 7,
     "schema_version": 3,
     "solution": true,
     "task": false
    }
   },
   "source": [
    "In this particular scenario the probability of the second pick of the fruit when it is a grapefruit does not inform us about the probability of the first fruit because the probabilities $P(F_2=G)$ are identical for both boxes. And because in previous scenario the fact that $F_2=G$ informed us about more likely box, we now lose that information. We can express it like this:\n",
    "$$\n",
    "\\begin{align}\n",
    "    P(F_2 = G|B=1) = \\frac{1}{2} \\cdot \\frac{4}{24} = \\frac{1}{6}, \\\\\n",
    "    P(F_2 = G|B=2) = \\frac{1}{2} \\cdot \\frac{3}{18} = \\frac{1}{6}, \\\\\n",
    "    P(F_2 = G|B=1) = P(F_2 = G|B=2) \n",
    "\\end{align}\n",
    "$$\n",
    "However, we do not think that variables are independent because in general scenario if amount of fruits would change (as in initial condition) the two picks would be for sure dependable."
   ]
  }
 ],
 "metadata": {
  "kernelspec": {
   "display_name": "Python 3 (ipykernel)",
   "language": "python",
   "name": "python3"
  },
  "language_info": {
   "codemirror_mode": {
    "name": "ipython",
    "version": 3
   },
   "file_extension": ".py",
   "mimetype": "text/x-python",
   "name": "python",
   "nbconvert_exporter": "python",
   "pygments_lexer": "ipython3",
   "version": "3.10.9"
  }
 },
 "nbformat": 4,
 "nbformat_minor": 4
}
