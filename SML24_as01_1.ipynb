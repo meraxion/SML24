{
 "cells": [
  {
   "cell_type": "markdown",
   "metadata": {
    "editable": false,
    "slideshow": {
     "slide_type": ""
    },
    "tags": []
   },
   "source": [
    "1. **Restart the kernel** (in the menubar, select Kernel$\\rightarrow$Restart)\n",
    "2. **Run all cells** (in the menubar, select Cell$\\rightarrow$Run All).\n",
    "3. __Use the__ `Validate` __button in the Assignments tab before submitting__.\n",
    "\n",
    "__Include comments, derivations, explanations, graphs, etc.__ \n",
    "\n",
    "You __work in groups__ (= 3 people). __Write the full name and S/U-number of all team members!__"
   ]
  },
  {
   "cell_type": "markdown",
   "metadata": {
    "editable": true,
    "slideshow": {
     "slide_type": ""
    },
    "tags": []
   },
   "source": [
    "GROUP NUMBER (brightspace): 43\n",
    "* Student 1 Stian Grønlund, s1122151:\n",
    "* Student 2 name, S/U-number:\n",
    "* Student 3 name, S/U-number:"
   ]
  },
  {
   "cell_type": "markdown",
   "metadata": {
    "editable": true,
    "slideshow": {
     "slide_type": ""
    },
    "tags": []
   },
   "source": [
    "---"
   ]
  },
  {
   "cell_type": "markdown",
   "metadata": {
    "deletable": false,
    "editable": false,
    "nbgrader": {
     "cell_type": "markdown",
     "checksum": "6dff433a6a6d42b0064a2640c26dfcb3",
     "grade": false,
     "grade_id": "cell-4a3707609a8bbfee",
     "locked": true,
     "schema_version": 3,
     "solution": false,
     "task": false
    },
    "slideshow": {
     "slide_type": ""
    },
    "tags": []
   },
   "source": [
    "# Assignment 1 (Statistical Machine Learning 2024)\n",
    "# **Deadline: 27 September 2024**\n",
    "\n",
    "## Instructions\n",
    "* Fill in any place that says `YOUR CODE HERE` or `YOUR ANSWER HERE` __including comments, derivations, explanations, graphs, etc.__ \n",
    "Elements and/or intermediate steps required to derive the answer have to be in the report. If an exercise requires coding, explain briefly what the code does (in comments). All figures should have titles (descriptions), axis labels, and legends.\n",
    "* Please do __not add new cells__ to the notebook, try to write the answers only in the provided cells. Before you turn the assignment in, make sure everything runs as expected.\n",
    "* __Use the variable names given in the exercises__, do not assign your own variable names. \n",
    "* __Only one team member needs to upload the solutions__. This can be done under the Assignments tab, where you fetched the assignments, and where you can also validate your submissions. Please do not change the filenames of the individual Jupyter notebooks.\n",
    "\n",
    "For any problems or questions regarding the assignments, ask during the tutorial or send an email to charlotte.cambiervannooten@ru.nl and janneke.verbeek@ru.nl .\n",
    "\n",
    "## Introduction\n",
    "Assignment 1 consists of:\n",
    "1. __Polynomial curve fitting (50 points);__\n",
    "2. Gradient descent (25 points);\n",
    "3. Fruit boxes (25 points);\n",
    "4. Probability factorization (BONUS 10 points);\n",
    "\n",
    "## Libraries\n",
    "\n",
    "Please __avoid installing new packages__, unless really necessary."
   ]
  },
  {
   "cell_type": "code",
   "execution_count": 142,
   "metadata": {
    "deletable": false,
    "editable": false,
    "nbgrader": {
     "cell_type": "code",
     "checksum": "d0bbce81100157570e2530b5ac3d1fbd",
     "grade": false,
     "grade_id": "cell-3b986e21540420a2",
     "locked": true,
     "schema_version": 3,
     "solution": false,
     "task": false
    }
   },
   "outputs": [],
   "source": [
    "import IPython\n",
    "assert IPython.version_info[0] >= 3, \"Your version of IPython is too old, please update it to at least version 3.\"\n",
    "\n",
    "# Necessary imports (for solutions)\n",
    "import math\n",
    "import numpy as np\n",
    "import matplotlib.pyplot as plt\n",
    "from collections import namedtuple\n",
    "\n",
    "# Set fixed random seed for reproducibility\n",
    "np.random.seed(2022)"
   ]
  },
  {
   "cell_type": "markdown",
   "metadata": {
    "deletable": false,
    "editable": false,
    "nbgrader": {
     "cell_type": "markdown",
     "checksum": "1df957a744840a664c96b7d17be07c62",
     "grade": false,
     "grade_id": "cell-23c36baa38e054e8",
     "locked": true,
     "schema_version": 3,
     "solution": false,
     "task": false
    }
   },
   "source": [
    "## Polynomial curve fitting (weight 50)\n",
    "Consider once more the $M$-th order polynomial \n",
    "\\begin{equation*}\n",
    "y(x;\\mathbf{w}) = w_0 + w_1 x + \\ldots + w_M x^M  = \\sum_{j=0}^M w_j x^j \n",
    "\\label{yxw} \\tag{1}\n",
    "\\end{equation*}\n",
    "\n",
    "### Exercise 1.1\n",
    "Create the function $f(x) = 2 + \\cos(6(x - 3))$. Generate a data set $\\mathcal{D}_{10}$ of 10 noisy observations of this function. Take the 10 inputs spaced uniformly in range $[0,1]$, and assume that the noise is Gaussian with mean 0 and standard deviation 0.2. $\\mathcal{D}_{10}$ will be the training set. In a similar way, generate an additional test set $\\mathcal{T}$ of 100 noisy observations over the same interval. Plot both the function and observations in $\\mathcal{D}_{10}$ in a single graph (similar to Bishop, Figure 1.2)."
   ]
  },
  {
   "cell_type": "code",
   "execution_count": 143,
   "metadata": {
    "deletable": false,
    "nbgrader": {
     "cell_type": "code",
     "checksum": "a79be41c322d3386e57f0365f7e3233a",
     "grade": false,
     "grade_id": "cell-b828ba4e85011481",
     "locked": false,
     "schema_version": 3,
     "solution": true,
     "task": false
    }
   },
   "outputs": [],
   "source": [
    "def f(x):\n",
    "    \"\"\"\n",
    "    This function computes f(x) = 2 + cos(6(x−3))\n",
    "    \n",
    "    Parameters\n",
    "    ----------\n",
    "    x : float\n",
    "        Input number.\n",
    "    \n",
    "    Returns\n",
    "    -------\n",
    "    float\n",
    "        Result of the function.\n",
    "    \"\"\"\n",
    "    # YOUR CODE HERE\n",
    "    return (2 + np.cos(6*(x-3)))"
   ]
  },
  {
   "cell_type": "code",
   "execution_count": 144,
   "metadata": {
    "deletable": false,
    "editable": false,
    "nbgrader": {
     "cell_type": "code",
     "checksum": "aa82b69ab5adcf9e920422b5518755dc",
     "grade": true,
     "grade_id": "cell-7f16a8d5d13e2c74",
     "locked": true,
     "points": 2,
     "schema_version": 3,
     "solution": false,
     "task": false
    }
   },
   "outputs": [],
   "source": [
    "\"\"\"\n",
    "Basic check that function f is correct.\n",
    "\"\"\"\n",
    "assert f(3) == 3.0\n",
    "assert f(np.pi/2 + 3) == 1.0"
   ]
  },
  {
   "cell_type": "code",
   "execution_count": 145,
   "metadata": {
    "deletable": false,
    "nbgrader": {
     "cell_type": "code",
     "checksum": "dffaa81fb8b9835b42f183f5680df0ea",
     "grade": false,
     "grade_id": "cell-26a157de86b14a7e",
     "locked": false,
     "schema_version": 3,
     "solution": true,
     "task": false
    }
   },
   "outputs": [
    {
     "data": {
      "image/png": "[encoded data removed]",
      "text/plain": [
       "<Figure size 640x480 with 1 Axes>"
      ]
     },
     "metadata": {},
     "output_type": "display_data"
    }
   ],
   "source": [
    "\"\"\"\n",
    "Generate a data set of N_train noisy observations of the function f. Take the inputs spaced uniformly\n",
    "in range [0,1], and add Gaussian noise with mean 0 and standard deviation 0.2.\n",
    "\n",
    "Variable names\n",
    "--------------\n",
    "N_train : int\n",
    "    number of training observations\n",
    "X_train : array\n",
    "    N_train x 1 vector of x-coordinates, uniformly spaced between 0 and 1\n",
    "t_train : array\n",
    "    N_train x 1 vector with corresponding t-values, adding Gaussian noise\n",
    "D_train : matrix\n",
    "    N_train x 2 matrix, the training data created from X_train and t_train\n",
    "\n",
    "N_test : int\n",
    "    number of data points for testing\n",
    "X_test : array\n",
    "    N_test x 1 vector of random x-coordinates taken form a uniform distribution\n",
    "t_test : array\n",
    "    N_test x 1 vector with corresponding t-values, adding Gaussian noise\n",
    "D_test : matrix\n",
    "    N_test x 2 matrix, the test data created from X_test and t_test\n",
    "\"\"\"\n",
    "# YOUR CODE HERE\n",
    "N_train = 10\n",
    "X_train = np.linspace(0,1,N_train)\n",
    "t_train = np.random.normal(f(X_train), 0.2)\n",
    "D_train = np.asarray([X_train, t_train]).T\n",
    "\n",
    "N_test = 100\n",
    "X_test = np.linspace(0,1,N_test)\n",
    "t_test = np.random.normal(f(X_test), 0.2)\n",
    "D_test = np.asarray([X_test, t_test]).T\n",
    "\n",
    "# Plot both the function and observations in $\\mathcal{D}$ in a single graph.\n",
    "\n",
    "# Plotting the function:\n",
    "xs = np.linspace(0,1, 10_000)\n",
    "ys = np.asarray(f(xs))\n",
    "\n",
    "plt.plot(xs, ys, label=\"$f(x)$\")\n",
    "# Plotting the observations:\n",
    "plt.scatter(X_train, t_train, color=\"red\", label=r\"Observations $\\mathcal{D}_{10}$\")\n",
    "\n",
    "plt.legend()\n",
    "\n",
    "plt.show()"
   ]
  },
  {
   "cell_type": "code",
   "execution_count": 146,
   "metadata": {
    "deletable": false,
    "editable": false,
    "nbgrader": {
     "cell_type": "code",
     "checksum": "df60ab3da4b2ddb0c99dae7a38ea1ff9",
     "grade": true,
     "grade_id": "cell-6ed1d922cd47cc3a",
     "locked": true,
     "points": 5,
     "schema_version": 3,
     "solution": false,
     "task": false
    }
   },
   "outputs": [
    {
     "data": {
      "text/plain": [
       "'\\nHidden test for variables N_train, X_train, t_train.\\n'"
      ]
     },
     "execution_count": 146,
     "metadata": {},
     "output_type": "execute_result"
    }
   ],
   "source": [
    "\"\"\"\n",
    "Hidden test for variables N_train, X_train, t_train.\n",
    "\"\"\""
   ]
  },
  {
   "cell_type": "markdown",
   "metadata": {
    "deletable": false,
    "editable": false,
    "nbgrader": {
     "cell_type": "markdown",
     "checksum": "f88ec4ee5de76899508d8d160cd3f861",
     "grade": false,
     "grade_id": "cell-90ebf6fa08349b09",
     "locked": true,
     "schema_version": 3,
     "solution": false,
     "task": false
    }
   },
   "source": [
    "### Exercise 1.2\n",
    "Create a function `polynomial_curve_fit(D,M)` that takes as input a data set $\\mathcal{D}_{N}$, consisting of $N$ input/output-pairs $\\{x_n,t_n\\}$, and a parameter $M$, representing the order of the polynomial in \\eqref{yxw}, and outputs a vector of weights $\\mathbf{w} = [w_0, \\dots, w_M]$ that minimizes the sum-of-squares error function\n",
    "\\begin{equation*} E(\\mathbf{w}) = \\frac{1}{2} \\sum_{n=1}^N \\{ y(x_{n} ; \\mathbf{w}) - t_{n} \\} ^2 \\tag{2} \\end{equation*}\n",
    "Hint: use the results from the Tutorial Exercises (Week 1, Exercise 5), and `np.linalg.solve` to solve a linear system of equations."
   ]
  },
  {
   "cell_type": "code",
   "execution_count": 147,
   "metadata": {
    "deletable": false,
    "nbgrader": {
     "cell_type": "code",
     "checksum": "67232528866e946551b182e62d30a309",
     "grade": false,
     "grade_id": "cell-b548cc4bd8339def",
     "locked": false,
     "schema_version": 3,
     "solution": true,
     "task": false
    }
   },
   "outputs": [],
   "source": [
    "def polynomial_curve_fit(D, M):\n",
    "    ''' This function computes the value of a polynomial with weights w on data points x.\n",
    "    \n",
    "    Parameters\n",
    "    ----------\n",
    "    D : array\n",
    "        Input dataset D.\n",
    "    M : int\n",
    "        The degree of the polynomial.\n",
    "    \n",
    "    Returns\n",
    "    -------\n",
    "    float\n",
    "        Fitted weight vector w that minimizes the sum-of-squares function.\n",
    "    '''\n",
    "    # YOUR CODE HERE\n",
    "    x = D[:,0]\n",
    "    t = D[:,1]\n",
    "\n",
    "    # A polynomial of degree M has M+1 weights \n",
    "    A = np.zeros((M+1, M+1))\n",
    "    for i in range(M+1):\n",
    "        for j in range(M+1):\n",
    "            A[i,j] = np.sum(x**(i+j))\n",
    "    T = np.zeros((M+1,))\n",
    "    for i in range(M+1):\n",
    "        T[i,] = np.sum(t*x**i)\n",
    "\n",
    "    w = np.linalg.solve(A, T)\n",
    "    return w"
   ]
  },
  {
   "cell_type": "code",
   "execution_count": 148,
   "metadata": {
    "deletable": false,
    "editable": false,
    "nbgrader": {
     "cell_type": "code",
     "checksum": "bdfb6fd442c276e88f35c7b53c09aa59",
     "grade": true,
     "grade_id": "cell-a9ef1e5be2f54c31",
     "locked": true,
     "points": 10,
     "schema_version": 3,
     "solution": false,
     "task": false
    }
   },
   "outputs": [
    {
     "data": {
      "text/plain": [
       "'\\nHidden test for polynomial_curve_fit.\\n'"
      ]
     },
     "execution_count": 148,
     "metadata": {},
     "output_type": "execute_result"
    }
   ],
   "source": [
    "\"\"\"\n",
    "Hidden test for polynomial_curve_fit.\n",
    "\"\"\""
   ]
  },
  {
   "cell_type": "markdown",
   "metadata": {
    "deletable": false,
    "editable": false,
    "nbgrader": {
     "cell_type": "markdown",
     "checksum": "bb4a3f7926b71998a9963ac6cf57a65e",
     "grade": false,
     "grade_id": "cell-6178330599de102e",
     "locked": true,
     "schema_version": 3,
     "solution": false,
     "task": false
    }
   },
   "source": [
    "### Exercise 1.3\n",
    "For the given dataset $\\mathcal{D}_{10}$, run the `polynomial_curve_fit(D,M)` function for $M = [0, \\dots, 9]$,  and, \n",
    "* Plot for various orders $M$ (at least for $M=0, M=1, M=3, M=9$) the resulting polynomial, together with the function $f$ and observations $\\mathcal{D}_{10}$ (similar to Bishop, Fig 1.4)\n",
    "* For each order $M \\in [0, \\dots, 9]$,  compute the root-mean-square error\n",
    "\\begin{equation*} E_{\\text{RMS}} = \\sqrt{2 E(\\mathbf{w^*})/N} \\tag{3} \\end{equation*}\n",
    "of the corresponding polynomial, evaluated on both the training set $\\mathcal{D}_{10}$ and the testset $\\mathcal{T}$.  Plot both as a function of $M$ in a single graph. (see Bishop, Figure 1.5).\n",
    "\n",
    "First define the `polynomial` function to help you with calculating the predictions of outputs for the training and test data given w."
   ]
  },
  {
   "cell_type": "code",
   "execution_count": 149,
   "metadata": {
    "deletable": false,
    "nbgrader": {
     "cell_type": "code",
     "checksum": "e989579b5af6d99d85a83d1322a1d7a4",
     "grade": false,
     "grade_id": "cell-f4213b5c3db7fe63",
     "locked": false,
     "schema_version": 3,
     "solution": true,
     "task": false
    }
   },
   "outputs": [],
   "source": [
    "def polynomial(x, w):\n",
    "    ''' This functions computes the value of a polynomial with weights w on data points x.\n",
    "    \n",
    "    Parameters\n",
    "    ----------\n",
    "    x : float\n",
    "        Set of x-coordinates for which to evaluate the polynomial.\n",
    "    w : float\n",
    "        Input weight vector of size M+1 (for polynomial of degree M).\n",
    "    \n",
    "    Returns\n",
    "    -------\n",
    "    float\n",
    "        Values of polynomial with weights w evaluated at x.\n",
    "    '''\n",
    "    # YOUR CODE HERE\n",
    "    y = np.zeros_like(x)\n",
    "    for i, pos in enumerate(x):\n",
    "        z = np.full_like(w, pos)\n",
    "        for j in range(len(z)):\n",
    "            z[j] = w[j]*z[j]**j\n",
    "        y[i] = np.sum(z)\n",
    "    \n",
    "    return y"
   ]
  },
  {
   "cell_type": "code",
   "execution_count": 150,
   "metadata": {
    "deletable": false,
    "editable": false,
    "nbgrader": {
     "cell_type": "code",
     "checksum": "7988528c0a60313529755d509e4420e4",
     "grade": true,
     "grade_id": "cell-ce23788082e731b4",
     "locked": true,
     "points": 3,
     "schema_version": 3,
     "solution": false,
     "task": false
    }
   },
   "outputs": [],
   "source": [
    "\"\"\"\n",
    "Test for polynomial.\n",
    "\"\"\"\n",
    "assert np.array_equal(polynomial(np.array([1, 2]), np.array([1, 2, 3])),np.array([ 6., 17.]))"
   ]
  },
  {
   "cell_type": "markdown",
   "metadata": {
    "deletable": false,
    "editable": false,
    "nbgrader": {
     "cell_type": "markdown",
     "checksum": "fdbba7bfadcdcb8ce29ac21c9ac5d281",
     "grade": false,
     "grade_id": "cell-9531c8f8a10afa89",
     "locked": true,
     "schema_version": 3,
     "solution": false,
     "task": false
    }
   },
   "source": [
    "Now with the help of `polynomial` calculate the predictions. Then calculate the root-mean-square-error and \n",
    "create plots for various orders of $M$."
   ]
  },
  {
   "cell_type": "code",
   "execution_count": 154,
   "metadata": {
    "deletable": false,
    "nbgrader": {
     "cell_type": "code",
     "checksum": "f0eb812bd433ac8f99b6392ea8e20750",
     "grade": true,
     "grade_id": "cell-acea12b9aae9969d",
     "locked": false,
     "points": 10,
     "schema_version": 3,
     "solution": true,
     "task": false
    }
   },
   "outputs": [
    {
     "data": {
      "image/png": "[encoded data removed]",
      "text/plain": [
       "<Figure size 640x480 with 1 Axes>"
      ]
     },
     "metadata": {},
     "output_type": "display_data"
    }
   ],
   "source": [
    "# YOUR CODE HERE\n",
    "fits = [0, 1, 3, 9]\n",
    "\n",
    "for M in fits:\n",
    "  weights = polynomial_curve_fit(D_train, M)\n",
    "  ys_train = polynomial(D_train[:,0], weights)\n",
    "\n",
    "  rms_train = (2*(1/2)*np.sum((ys - D_train[:,1])**2))/len(ys)\n",
    "\n",
    "  ys_test = polynomial(D_test[:,0], weights)\n",
    "  rms_test = (2*(1/2)*np.sum((ys - D_test[:,1])**2))/len(ys)\n",
    "\n",
    "  # plotting the fit\n",
    "  plt.plot(D_train[:,0], ys, label=f\"fit for M={M}\")\n",
    "\n",
    "# Plotting the function:\n",
    "xs = np.linspace(0,1, 10_000)\n",
    "ys = np.asarray(f(xs))\n",
    "\n",
    "plt.plot(xs, ys, label=\"$f(x)$\")\n",
    "# Plotting the observations:\n",
    "plt.scatter(X_train, t_train, color=\"red\", label=r\"Observations $\\mathcal{D}_{10}$\")\n",
    "\n",
    "plt.legend()\n",
    "\n",
    "plt.show()"
   ]
  },
  {
   "cell_type": "markdown",
   "metadata": {
    "deletable": false,
    "editable": false,
    "nbgrader": {
     "cell_type": "markdown",
     "checksum": "6584ca49815be98587442f39d3ff945a",
     "grade": false,
     "grade_id": "cell-2ba19fdd2a92aba5",
     "locked": true,
     "schema_version": 3,
     "solution": false,
     "task": false
    }
   },
   "source": [
    "### Exercise 1.4\n",
    "Repeat this procedure for a data set $\\mathcal{D}_{30}$ of 30 observations (with the same noise level) and compare with the previous result."
   ]
  },
  {
   "cell_type": "code",
   "execution_count": 152,
   "metadata": {
    "deletable": false,
    "nbgrader": {
     "cell_type": "code",
     "checksum": "a435b635ad495f78690832827cb35a6f",
     "grade": true,
     "grade_id": "cell-2be39b72eb2e1565",
     "locked": false,
     "points": 4,
     "schema_version": 3,
     "solution": true,
     "task": false
    }
   },
   "outputs": [
    {
     "ename": "NotImplementedError",
     "evalue": "",
     "output_type": "error",
     "traceback": [
      "\u001b[1;31m---------------------------------------------------------------------------\u001b[0m",
      "\u001b[1;31mNotImplementedError\u001b[0m                       Traceback (most recent call last)",
      "Cell \u001b[1;32mIn[152], line 2\u001b[0m\n\u001b[0;32m      1\u001b[0m \u001b[38;5;66;03m# YOUR CODE HERE\u001b[39;00m\n\u001b[1;32m----> 2\u001b[0m \u001b[38;5;28;01mraise\u001b[39;00m \u001b[38;5;167;01mNotImplementedError\u001b[39;00m()\n",
      "\u001b[1;31mNotImplementedError\u001b[0m: "
     ]
    }
   ],
   "source": [
    "# YOUR CODE HERE\n",
    "raise NotImplementedError()"
   ]
  },
  {
   "cell_type": "markdown",
   "metadata": {
    "deletable": false,
    "nbgrader": {
     "cell_type": "markdown",
     "checksum": "f2a26945aab54f2bb162aa953e7e0b8c",
     "grade": true,
     "grade_id": "cell-d12e3459bbe09e9a",
     "locked": false,
     "points": 3,
     "schema_version": 3,
     "solution": true,
     "task": false
    }
   },
   "source": [
    "YOUR ANSWER HERE"
   ]
  },
  {
   "cell_type": "markdown",
   "metadata": {
    "deletable": false,
    "editable": false,
    "nbgrader": {
     "cell_type": "markdown",
     "checksum": "0d235c819146a1ac99f4f6245bff153b",
     "grade": false,
     "grade_id": "cell-783fffd6f1da0fc0",
     "locked": true,
     "schema_version": 3,
     "solution": false,
     "task": false
    }
   },
   "source": [
    "### Exercise 1.5\n",
    "Modify the `polynomial_curve_fit(D,M)` function to include an additional penalty parameter $\\lambda$, for a procedure that solves the minimization problem for a modified error function with quadratic regularizer (weight decay), given as\n",
    "\\begin{equation*}\n",
    "\\tilde{E} = E + \\frac{\\lambda}{2} \\sum_{j=0}^M w_j^2. \\label{regerr} \\tag{4}\n",
    "\\end{equation*}\n",
    "Verify that the regularizer drives the weights of high order terms in the polynomial to zero, and see if you can reproduce and explain the effect observed in Bishop, Figure 1.8."
   ]
  },
  {
   "cell_type": "code",
   "execution_count": null,
   "metadata": {
    "deletable": false,
    "nbgrader": {
     "cell_type": "code",
     "checksum": "7dc4bc04b1ba552d3990dc8421b3cdab",
     "grade": false,
     "grade_id": "cell-5156541a32d37722",
     "locked": false,
     "schema_version": 3,
     "solution": true,
     "task": false
    }
   },
   "outputs": [],
   "source": [
    "def polynomial_curve_fit(D, M, lmb = 0):\n",
    "    ''' This functions computes the value of a polynomial with weights w on data points x.\n",
    "    \n",
    "    Parameters\n",
    "    ----------\n",
    "    D : array\n",
    "        Input dataset D.\n",
    "    M : int\n",
    "        The degree of the polynomial.\n",
    "    lmb : float, optional\n",
    "        Regularization parameter for polynomial curve fitting.\n",
    "    \n",
    "    Returns\n",
    "    -------\n",
    "    float\n",
    "        Fitted weight vector w that minimizes the sum-of-squares function.\n",
    "    '''\n",
    "# YOUR CODE HERE\n",
    "raise NotImplementedError()"
   ]
  },
  {
   "cell_type": "code",
   "execution_count": null,
   "metadata": {
    "deletable": false,
    "editable": false,
    "nbgrader": {
     "cell_type": "code",
     "checksum": "63e8ff74028da08ba4b8aa09174e7933",
     "grade": true,
     "grade_id": "cell-7a30d44592cf4486",
     "locked": true,
     "points": 5,
     "schema_version": 3,
     "solution": false,
     "task": false
    }
   },
   "outputs": [],
   "source": [
    "\"\"\"\n",
    "Hidden test for polynomial_curve_fit.\n",
    "\"\"\""
   ]
  },
  {
   "cell_type": "markdown",
   "metadata": {
    "deletable": false,
    "nbgrader": {
     "cell_type": "markdown",
     "checksum": "8eb6511a30a2a62c7810e358480800ee",
     "grade": true,
     "grade_id": "cell-25af5f44d49bab7b",
     "locked": false,
     "points": 3,
     "schema_version": 3,
     "solution": true,
     "task": false
    }
   },
   "source": [
    "YOUR ANSWER HERE"
   ]
  },
  {
   "cell_type": "markdown",
   "metadata": {
    "deletable": false,
    "editable": false,
    "nbgrader": {
     "cell_type": "markdown",
     "checksum": "411b098f154bfbec9ba83fd3b2622b23",
     "grade": false,
     "grade_id": "cell-c73e08d307850f6b",
     "locked": true,
     "schema_version": 3,
     "solution": false,
     "task": false
    }
   },
   "source": [
    "### Exercise 1.6\n",
    "The polynomial curve fitting procedure can be extended to the case of multidimensional inputs. Assuming an input vector  of dimension $D$, namely $\\mathbf{x} = (x_1, x_2, \\dots, x_D)$, we can write the regression function $y$ as:\n",
    "\\begin{equation}\n",
    "y(\\mathbf{x}; \\mathbf{w}) = \\sum_{j = 0}^M \\left( \\sum_{n_1 + n_2 + ... + n_D = j} w_{n_1 n_2 ... n_D} x_1^{n_1} x_2^{n_2} ... x_D^{n_D} \\right) \\label{eqn:polynomial_multidimensional} \\tag{5}\n",
    "\\end{equation}\n",
    "\n",
    "In the last expression, $j$ refers to the order of the polynomial terms. The inner sum is over all the combinations of non-negative integers $n_1, n_2, \\dots, n_D$, such that the constraint $n_1 + n_2 + \\dots + n_D = j$ holds. The terms $n_1, n_2, \\dots, n_D$ correspond to the exponent for each variable $x_1, x_2, \\dots, x_D$ in their respective polynomial term.\n",
    "\n",
    "Note that if $D = 1$, the above expression simplifies to the formula in equation \\eqref{yxw}. The reason the second sum disappears is that there is only one combination of the non-negative integer $n_1$ for which the constraint $n_1 = j$ holds, which means that there is only  a single term to sum over.\n",
    "\n",
    "Fitting the polynomial curve to a multidimensional input vector works analogously to the one-dimensional case. However, the number of parameters (the size of $\\mathbf{w}$) becomes much larger, even when $D = 2$. Write down the general polynomial curve equation in \\eqref{eqn:polynomial_multidimensional} for $D = 2$. How many parameters are needed in the two-dimensional case? Compare this to the number of parameters in the one-dimensional case."
   ]
  },
  {
   "cell_type": "markdown",
   "metadata": {
    "deletable": false,
    "nbgrader": {
     "cell_type": "markdown",
     "checksum": "46c3424492c67b2819dfeff34ae69ba3",
     "grade": true,
     "grade_id": "cell-af7fb0f41aed699d",
     "locked": false,
     "points": 5,
     "schema_version": 3,
     "solution": true,
     "task": false
    }
   },
   "source": [
    "YOUR ANSWER HERE"
   ]
  }
 ],
 "metadata": {
  "kernelspec": {
   "display_name": "Python 3 (ipykernel)",
   "language": "python",
   "name": "python3"
  },
  "language_info": {
   "codemirror_mode": {
    "name": "ipython",
    "version": 3
   },
   "file_extension": ".py",
   "mimetype": "text/x-python",
   "name": "python",
   "nbconvert_exporter": "python",
   "pygments_lexer": "ipython3",
   "version": "3.12.5"
  }
 },
 "nbformat": 4,
 "nbformat_minor": 4
}
