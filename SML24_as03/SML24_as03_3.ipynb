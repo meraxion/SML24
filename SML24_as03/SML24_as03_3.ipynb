{
 "cells": [
  {
   "cell_type": "markdown",
   "metadata": {
    "editable": false,
    "slideshow": {
     "slide_type": ""
    },
    "tags": []
   },
   "source": [
    "1. **Restart the kernel** (in the menubar, select Kernel$\\rightarrow$Restart)\n",
    "2. **Run all cells** (in the menubar, select Cell$\\rightarrow$Run All).\n",
    "3. __Use the__ `Validate` __button in the Assignments tab before submitting__.\n",
    "\n",
    "__Include comments, derivations, explanations, graphs, etc.__ \n",
    "\n",
    "You __work in groups__ (= 3 people). __Write the full name and S/U-number of all team members!__"
   ]
  },
  {
   "cell_type": "raw",
   "metadata": {
    "editable": true,
    "slideshow": {
     "slide_type": ""
    },
    "tags": [],
    "vscode": {
     "languageId": "raw"
    }
   },
   "source": [
    "GROUP NUMBER (brightspace): 13\n",
    "* Andrew Schroeder, s1111686\n",
    "* Stian Grønlund,   s1122151\n",
    "* Monika Kazlauskaite, s1126411"
   ]
  },
  {
   "cell_type": "markdown",
   "metadata": {
    "editable": true,
    "slideshow": {
     "slide_type": ""
    },
    "tags": []
   },
   "source": [
    "---"
   ]
  },
  {
   "cell_type": "markdown",
   "metadata": {
    "deletable": false,
    "editable": false,
    "nbgrader": {
     "cell_type": "markdown",
     "checksum": "455930b85ab14a590f9976170c4894ea",
     "grade": false,
     "grade_id": "cell-e3a6a6b02afe0d83",
     "locked": true,
     "schema_version": 3,
     "solution": false,
     "task": false
    }
   },
   "source": [
    "# Assignment 3 (Statistical Machine Learning 2024)\n",
    "# **Deadline: 22 November 2024**\n",
    "\n",
    "## Instructions\n",
    "* Fill in any place that says `YOUR CODE HERE` or `YOUR ANSWER HERE` __including comments, derivations, explanations, graphs, etc.__ \n",
    "Elements and/or intermediate steps required to derive the answer have to be in the report. If an exercise requires coding, explain briefly what the code does (in comments). All figures should have titles (descriptions), axis labels, and legends.\n",
    "* __Please use LaTeX to write down equations/derivations/other math__! How to do that in Markdown cells can be found [here](https://www.fabriziomusacchio.com/blog/2021-08-10-How_to_use_LaTeX_in_Markdown/), a starting point for various symbols is [here](https://www.overleaf.com/learn/latex/Mathematical_expressions).\n",
    "* Please do __not add new cells__ to the notebook, try to write the answers only in the provided cells. Before you turn the assignment in, make sure everything runs as expected.\n",
    "* __Use the variable names given in the exercises__, do not assign your own variable names. \n",
    "* __Only one team member needs to upload the solutions__. This can be done under the Assignments tab, where you fetched the assignments, and where you can also validate your submissions. Please do not change the filenames of the individual Jupyter notebooks.\n",
    "\n",
    "For any problems or questions regarding the assignments, ask during the tutorial or send an email to charlotte.cambiervannooten@ru.nl and janneke.verbeek@ru.nl .\n",
    "\n",
    "## Introduction\n",
    "Assignment 3 consists of:\n",
    "1. The faulty lighthouse (30 points);\n",
    "2. Gaussian processes (40 points);\n",
    "3. __Bayesian polynomial regression (30 points)__.\n",
    "\n",
    "## Libraries\n",
    "\n",
    "Please __avoid installing new packages__, unless really necessary."
   ]
  },
  {
   "cell_type": "code",
   "execution_count": 20,
   "metadata": {
    "deletable": false,
    "editable": false,
    "nbgrader": {
     "cell_type": "code",
     "checksum": "b7c1d5b4e883df09233e627b7e5cab66",
     "grade": false,
     "grade_id": "cell-57d156d70e92c9aa",
     "locked": true,
     "schema_version": 3,
     "solution": false,
     "task": false
    }
   },
   "outputs": [],
   "source": [
    "import IPython\n",
    "assert IPython.version_info[0] >= 3, \"Your version of IPython is too old, please update it.\"\n",
    "\n",
    "import numpy as np\n",
    "import matplotlib.pyplot as plt\n",
    "\n",
    "# Set fixed random seed for reproducibility\n",
    "np.random.seed(2022)"
   ]
  },
  {
   "cell_type": "markdown",
   "metadata": {
    "deletable": false,
    "editable": false,
    "nbgrader": {
     "cell_type": "markdown",
     "checksum": "6d49d9f5237d77de3f03fd1497a6caf2",
     "grade": false,
     "grade_id": "cell-bbbb25e0adf08276",
     "locked": true,
     "schema_version": 3,
     "solution": false,
     "task": false
    }
   },
   "source": [
    "## Bayesian polynomial regression (30 points)\n",
    "In this exercise, we will consider the _Bayesian_ treatment of polynomial regression. Recall polynomial regression \n",
    "\\begin{equation}\n",
    "t_{n} = \\omega_{0} + \\omega_{1}x_{n} + \\omega_{2} x_{x}^{2}+\\dots+\\omega_{M}x_{n}^{M}+\\epsilon_{n}, \n",
    "\\end{equation}\n",
    "where $\\epsilon_{n}\\sim N(0, \\sigma^{2})$. In the vector form we have \n",
    "\\begin{equation}\n",
    "t_{n} = \\boldsymbol{\\omega}^{T}\\boldsymbol{x}_{n}+\\epsilon_{n}, \n",
    "\\end{equation}\n",
    "where $\\boldsymbol{\\omega}=[\\omega_{0}, \\dots, \\omega_{M}]^{T}$ and $\\boldsymbol{x}_{n}=[1,x_{n}, x_{n}^{2}, \\dots, x_{n}^{M}]$. Further, let us stack all responses in one vector $\\boldsymbol{t}=[t_{1}, \\dots, t_{N}]^{T}$, all inputs in a single matrix $\\boldsymbol{X}=[\\boldsymbol{x}_{1}, \\boldsymbol{x}_{2}, \\dots, \\boldsymbol{x}_{N}]^{T}$. Then we get for the whole data set\n",
    "\\begin{equation}\n",
    "\\boldsymbol{t}=\\boldsymbol{X}\\boldsymbol{\\omega}+\\boldsymbol{\\epsilon},\n",
    "\\end{equation}\n",
    "where $\\boldsymbol{\\epsilon}=[\\epsilon_{1}, \\dots, \\epsilon_{N}]^{T}$. \n",
    "Assume that we know the true value of  $\\sigma^{2}$. \n",
    "\n",
    "1. Derive the posterior distribution of $\\boldsymbol{\\omega}$, i.e., $p(\\boldsymbol{\\omega}|\\boldsymbol{t}, \\boldsymbol{X}, \\sigma^{2})$.  \n",
    "Hint: Use the prior $p(\\boldsymbol{\\omega}|\\boldsymbol{\\mu_{0}}, \\boldsymbol{\\Sigma_{0}})=\\mathcal{N}(\\boldsymbol{\\mu_{0}}, \\boldsymbol{\\Sigma_{0}})$ and the fact that the posterior should be Gaussian. "
   ]
  },
  {
   "cell_type": "markdown",
   "metadata": {
    "deletable": false,
    "nbgrader": {
     "cell_type": "markdown",
     "checksum": "a40f2ecf7cbe678e37b0f4852475257d",
     "grade": true,
     "grade_id": "cell-d12dbe36ec039c0b",
     "locked": false,
     "points": 8,
     "schema_version": 3,
     "solution": true,
     "task": false
    }
   },
   "source": [
    "YOUR ANSWER HERE\n",
    "\n",
    "We use Bayes' rule to see which quantities must be estimated to find the posterior distribution over $\\mathbf{\\omega}$:\n",
    "\n",
    "\\begin{equation}\n",
    "p(\\mathbf{\\omega \\mid t, X}, \\sigma^2) = \\frac{p(\\mathbf{t} \\mid \\mathbf{X}, \\sigma^2, \\mathbf{\\omega}) p(\\mathbf{\\omega} \\mid \\mathbf{\\mu_0}, \\mathbf{\\Sigma_0})}{p(\\mathbf{t, X}, \\sigma^2)}\n",
    "\\end{equation}\n",
    "\n",
    "The two quantities we want are the prior and likelihood in the top section. The prior is given by the exercise hint.\n",
    "We will now obtain the likelihood, using the equation for $\\mathbf{t}$:\n",
    "\n",
    "\\begin{align}\n",
    "\\mathbf{t} &= \\mathbf{X\\omega + \\epsilon} \\\\\n",
    "&= \\mathbf{X \\omega} + N(\\epsilon \\mid 0, \\sigma^2) \\\\\n",
    "&= N(t \\mid X\\omega, \\sigma^2)\n",
    "\\end{align}\n",
    "\n",
    "We can write these distributions out:\n",
    "\\begin{align}\n",
    "p(\\mathbf{\\omega \\mid t, X}, \\sigma^2) & \\propto N(\\mathbf{t} \\mid \\mathbf{X\\omega}, \\sigma^2) N(\\mathbf{\\omega} \\mid \\mathbf{\\mu_0, \\Sigma_0}) \\\\\n",
    "&= \\left(\\frac{1}{2 \\pi \\sigma^2}\\right)^{N/2}e^{-\\frac{1}{2}(\\mathbf{X\\omega}-\\mathbf{t})^T\\sigma^{-2}(\\mathbf{X\\omega}-\\mathbf{t})} \\left( \\frac{1}{2 \\pi \\det{\\Sigma_0}}\\right)^{M/2}e^{-\\frac{1}{2}(\\mathbf{\\omega}-\\mathbf{\\mu_0})^T\\mathbf{\\Sigma_0}^{-1}({\\omega}-\\mathbf{\\mu_0})}\n",
    "\\end{align}\n",
    "\n",
    "\n",
    "And as usual, the marginal distribution is found by integrating over the prior and likelihood, giving this final formula for the posterior over $\\mathbf{\\omega}$:\n",
    "\n",
    "\\begin{equation}\n",
    "p(\\mathbf{\\omega \\mid t, X}, \\sigma^2) = \\frac{\\left(\\frac{1}{2 \\pi \\sigma^2}\\right)^{N/2}e^{-\\frac{1}{2}(\\mathbf{X\\omega}-\\mathbf{t})^T\\sigma^{-2}(\\mathbf{X\\omega}-\\mathbf{t})} \\left( \\frac{1}{2 \\pi \\det{\\Sigma_0}}\\right)^{M/2}e^{-\\frac{1}{2}(\\mathbf{\\omega}-\\mathbf{\\mu_0})^T\\mathbf{\\Sigma_0}^{-1}({\\omega}-\\mathbf{\\mu_0})}}{\\int \\left(\\frac{1}{2 \\pi \\sigma^2}\\right)^{N/2}e^{-\\frac{1}{2}(\\mathbf{X\\omega}-\\mathbf{t})^T\\sigma^{-2}(\\mathbf{X\\omega}-\\mathbf{t})} \\left( \\frac{1}{2 \\pi \\det{\\Sigma_0}}\\right)^{M/2}e^{-\\frac{1}{2}(\\mathbf{\\omega}-\\mathbf{\\mu_0})^T\\mathbf{\\Sigma_0}^{-1}({\\omega}-\\mathbf{\\mu_0})} \\mathrm{d} \\mathbf{\\omega}}\n",
    "\\end{equation}"
   ]
  },
  {
   "cell_type": "markdown",
   "metadata": {
    "deletable": false,
    "editable": false,
    "nbgrader": {
     "cell_type": "markdown",
     "checksum": "a2257e18d2051580aaa04605a7de4624",
     "grade": false,
     "grade_id": "cell-b7f2ed5b0213c674",
     "locked": true,
     "schema_version": 3,
     "solution": false,
     "task": false
    }
   },
   "source": [
    "2. Take the first order polynomial, the inputs are $\\boldsymbol{x_{n}}=[1, x_{n}]^{T}$. Let $\\boldsymbol{\\mu_{0}}=[0,0,\\dots,0]^{T}$. Then the posterior mean for the linear Gaussian model is\n",
    "\\begin{equation}\n",
    "\\boldsymbol{\\mu_{\\omega}}=(\\boldsymbol{X}^{T}\\boldsymbol{X}+ \\sigma^2 \\boldsymbol{\\Sigma_{0}^{-1}})^{-1}\\boldsymbol{X}^{T}\\boldsymbol{t}.\n",
    "\\label{eq:MAP} \\tag{1}\n",
    "\\end{equation}\n",
    "Recall also the regularized least squares solution:\n",
    "\\begin{equation}\n",
    "\\hat{\\boldsymbol{\\omega}}=(\\boldsymbol{X}^{T}\\boldsymbol{X}+N\\lambda\\boldsymbol{I})^{-1}\\boldsymbol{X}^{T}\\boldsymbol{t}.\n",
    "\\label{eq:MLE} \\tag{2}\n",
    "\\end{equation}\n",
    "Find $\\boldsymbol{\\Sigma_{0}}$ that makes Equation \\eqref{eq:MAP} and Equation \\eqref{eq:MLE} identical. Reflect on the similarity between MAP solution and regularized least squares. Comment on what it implies for the effect of the prior."
   ]
  },
  {
   "cell_type": "markdown",
   "metadata": {
    "deletable": false,
    "nbgrader": {
     "cell_type": "markdown",
     "checksum": "912de86d114accc7d731bcc56dbe5694",
     "grade": true,
     "grade_id": "cell-cb4a19df380490ad",
     "locked": false,
     "points": 2,
     "schema_version": 3,
     "solution": true,
     "task": false
    }
   },
   "source": [
    "YOUR ANSWER HERE\n",
    "\n",
    "In the equations $\\boldsymbol{\\mu_{\\omega}}=(\\boldsymbol{X}^{T}\\boldsymbol{X}+ \\sigma^2 \\boldsymbol{\\Sigma_{0}^{-1}})^{-1}\\boldsymbol{X}^{T}\\boldsymbol{t}$ and $\\hat{\\boldsymbol{\\omega}}=(\\boldsymbol{X}^{T}\\boldsymbol{X}+N\\lambda\\boldsymbol{I})^{-1}\\boldsymbol{X}^{T}\\boldsymbol{t}$, we can start by isolating the sections concerning $Sigma_0$, and set them equal to each other:\n",
    "\n",
    "\\begin{equation}\n",
    "\\sigma^2\\Sigma_0^{-1} = N\\lambda \\boldsymbol{I}\n",
    "\\end{equation}\n",
    "\n",
    "From here, it's algebra:\n",
    "\n",
    "\\begin{align}\n",
    "\\sigma^2\\Sigma_0^{-1} &= N\\lambda \\boldsymbol{I} \\\\\n",
    "\\sigma^2 &= N\\lambda \\boldsymbol{I} \\Sigma_0 \\\\\n",
    "\\frac{\\sigma^2}{N \\lambda} &= \\boldsymbol{I} \\Sigma_0 \\\\\n",
    "\\boldsymbol{I}^{-1} \\frac{\\sigma^2}{N \\lambda}&= \\Sigma_0 \\\\\n",
    "\\Sigma_0 &= \\boldsymbol{I} \\frac{\\sigma^2}{N \\lambda}\n",
    "\n",
    "\\end{align}\n",
    "\n",
    "\n",
    "\n",
    "Let's consider what happens as the prior grows smaller. That is, consider $\\Sigma_0 = \\alpha \\Sigma_p$, as $\\alpha \\rightarrow 0$. This would mean that the effect of the prior also goes to zero (and same for $\\sigma^2$, the observation noise). Then, we would land on the a olution that looks very much like the Maximum Likelihood solution, $(X^TX)^{-1}X^Tt$eq. (3.15) in Bishop. However, let us stay for now on MAP and regularization. The effect of the prior covariance seems therefore to be considered analogous to that of the regularization constant; if we choose our $\\Sigma_0$ to be inversely proportional to our number of data points, as well as some regularizing factor $\\lambda$, then we are doing the same as we would in (quadratic) regularization."
   ]
  },
  {
   "cell_type": "markdown",
   "metadata": {
    "deletable": false,
    "editable": false,
    "nbgrader": {
     "cell_type": "markdown",
     "checksum": "af076fd3bdffcdecc637a5a147e4afa6",
     "grade": false,
     "grade_id": "cell-f5c34c7115505339",
     "locked": true,
     "schema_version": 3,
     "solution": false,
     "task": false
    }
   },
   "source": [
    "3. Consider the polynomial function\n",
    "\\begin{equation}\n",
    "f(x) = 5x^{3} - x^{2} +x\n",
    "\\end{equation}\n",
    "which we will use to generate some training data. First define the function $f$."
   ]
  },
  {
   "cell_type": "code",
   "execution_count": 21,
   "metadata": {
    "deletable": false,
    "nbgrader": {
     "cell_type": "code",
     "checksum": "fd447e5d584f85998c7474ba69e63f9b",
     "grade": false,
     "grade_id": "cell-ece70abe254c227c",
     "locked": false,
     "schema_version": 3,
     "solution": true,
     "task": false
    }
   },
   "outputs": [],
   "source": [
    "def f(x):\n",
    "    \"\"\"\n",
    "    Define the polynomial function f(x).\n",
    "    \"\"\"\n",
    "    # YOUR CODE HERE\n",
    "    return 5*x**3 - x**2 + x"
   ]
  },
  {
   "cell_type": "code",
   "execution_count": 22,
   "metadata": {
    "deletable": false,
    "editable": false,
    "nbgrader": {
     "cell_type": "code",
     "checksum": "485a90b1c2171bb148fb0af4b2580b71",
     "grade": true,
     "grade_id": "cell-5db410b0084695b0",
     "locked": true,
     "points": 1,
     "schema_version": 3,
     "solution": false,
     "task": false
    }
   },
   "outputs": [],
   "source": [
    "\"\"\"\n",
    "Test the polynomial function f(x).\n",
    "\"\"\"\n",
    "assert f(0) == 0\n",
    "assert f(1) == 5\n",
    "assert f(-1) == -7"
   ]
  },
  {
   "cell_type": "markdown",
   "metadata": {
    "deletable": false,
    "editable": false,
    "nbgrader": {
     "cell_type": "markdown",
     "checksum": "205d6a978731ba6a481a9304f96de11d",
     "grade": false,
     "grade_id": "cell-6747240bfdc2c9d8",
     "locked": true,
     "schema_version": 3,
     "solution": false,
     "task": false
    }
   },
   "source": [
    "Generate 40 random input points uniformly distributed on the interval $[-5, 5]$. Apply the function $f$ to the input data and then add Gaussian noise with mean zero and variance $\\sigma^2 = 150$ to obtain the target values ($\\boldsymbol{t}$). Plot the generated data on top of the true function $f(x)$ over the interval $[-5,5]$."
   ]
  },
  {
   "cell_type": "code",
   "execution_count": 23,
   "metadata": {
    "deletable": false,
    "nbgrader": {
     "cell_type": "code",
     "checksum": "6e8b026b5772bba8676e93a59314d2b1",
     "grade": true,
     "grade_id": "cell-98a8f3ba37e9002f",
     "locked": false,
     "points": 3,
     "schema_version": 3,
     "solution": true,
     "task": false
    }
   },
   "outputs": [
    {
     "data": {
      "image/png": "[encoded data removed]",
      "text/plain": [
       "<Figure size 640x480 with 1 Axes>"
      ]
     },
     "metadata": {},
     "output_type": "display_data"
    }
   ],
   "source": [
    "\"\"\"\n",
    "Generate 40 (X, t) pairs as described above and plot them (for comparison) on top of the function f(x).\n",
    "\n",
    "Variable names\n",
    "----------\n",
    "X : Nx1 array\n",
    "    The array containing the random data points.\n",
    "N : integer\n",
    "    The number of data points.\n",
    "t : Nx1 array\n",
    "    The array containing the random data points with Gaussian noise.\n",
    "\"\"\"\n",
    "# YOUR CODE HERE\n",
    "# 40 random input points:\n",
    "xs = np.atleast_2d(np.random.randint(-5, 5, 40))\n",
    "\n",
    "# apply the function and add noise\n",
    "var = 150\n",
    "ts = f(xs) + np.random.normal(0, np.sqrt(var), 40)\n",
    "\n",
    "axis = np.linspace(-5, 5, 500)\n",
    "plt.plot(axis, f(axis), label=\"True function\")\n",
    "plt.scatter(xs, ts, label=\"samples\")\n",
    "plt.legend()\n",
    "plt.show()"
   ]
  },
  {
   "cell_type": "markdown",
   "metadata": {
    "deletable": false,
    "editable": false,
    "nbgrader": {
     "cell_type": "markdown",
     "checksum": "fdbe05d402e69d2191c79b32aaa50304",
     "grade": false,
     "grade_id": "cell-d600bad86391b6f2",
     "locked": true,
     "schema_version": 3,
     "solution": false,
     "task": false
    }
   },
   "source": [
    "4. Compute the marginal likelihood on the data generated above for the polynomial models from first to seventh order. Make a plot of the marginal likelihood for these models (polynomial order on the x-axis and marginal likelihood value on the y-axis). Use a Gaussian prior on $\\boldsymbol{\\omega}$ with **zero mean** ($\\boldsymbol{\\mu_0} = \\boldsymbol{0}$) and a **diagonal covariance matrix** ($\\boldsymbol{\\Sigma_0} = \\sigma_0^2 \\boldsymbol{I}$), and set the prior covariance hyperparameter $\\sigma_0^2$ (initially) to one. \n",
    "\n",
    "_Hint:_ \n",
    "The marginal likelihood (also known as the model evidence) for our Gaussian model is defined as $p(\\boldsymbol{t}|\\boldsymbol{X}, \\boldsymbol{\\mu_{0}}, \\boldsymbol{\\Sigma_{0}})$. The data matrix $\\boldsymbol{X}$ is defined at the beginning of the exercise. Note that this matrix is _order dependent_ and is different from the array of data points $\\{x_1, x_2, ..., x_{40}\\}$. Using Gaussian distributions as before we can compute\n",
    "\\begin{equation}\n",
    "p(\\boldsymbol{t}|\\boldsymbol{X}, \\boldsymbol{\\mu_{0}}, \\boldsymbol{\\Sigma_{0}})= \\mathcal{N}(\\boldsymbol{t}; \\boldsymbol{X}\\boldsymbol{\\mu_{0}}, \\sigma^{2}\\boldsymbol{I}_{N}+\\boldsymbol{X}\\boldsymbol{\\Sigma_{0}}\\boldsymbol{X}^{T}).\n",
    "\\end{equation}"
   ]
  },
  {
   "cell_type": "code",
   "execution_count": 28,
   "metadata": {
    "deletable": false,
    "nbgrader": {
     "cell_type": "code",
     "checksum": "fcbbab49c93464ab5564af67004be729",
     "grade": false,
     "grade_id": "cell-cadd5890106dd435",
     "locked": false,
     "schema_version": 3,
     "solution": true,
     "task": false
    }
   },
   "outputs": [],
   "source": [
    "def log_marginal_likelihood(X, N, t, sigma_0=1, sigma_n=1):\n",
    "    \"\"\"\n",
    "    Calculate the log marginal likelihood for the polynomial models from first to seventh order.\n",
    "\n",
    "    Parameters\n",
    "    ----------\n",
    "    X : Nx1 array\n",
    "        The array containing the random data points.\n",
    "    N : numeric\n",
    "        The number of data points.\n",
    "    t : Nx1 array\n",
    "        The array containing the random data points with Gaussian noise.\n",
    "    sigma_0: numeric\n",
    "        Prior covariance hyperparameter.\n",
    "    sigma_n: numeric\n",
    "        Noise covariance hyperparameter\n",
    "\n",
    "    Returns\n",
    "    -------\n",
    "    list\n",
    "        The list contains seven log marginal likelihood values corresponding to the different polynomial orders \n",
    "        (from first to seventh order).\n",
    "    \"\"\"\n",
    "    # YOUR CODE HERE\n",
    "\n",
    "    orders = np.arange(1, 8)\n",
    "    margs  = []\n",
    "\n",
    "    # NOTE: for a Bayesian linear regression model of the form y = X@Theta + epsilon, where epsilon represents the \"sampling\" noise of our data, we need a parameter for that sampling noise. In the equation above, that is, as far as I can tell, the $sigma^2$ (with NO sub-script). However, no guidance was given for this. Therefore, I set it to equal 1. This is obviously ludicrious wrt our generated data, where the actual covariance was sqrt(150), but... it would work for standardized data.\n",
    "    sigma_n = 1\n",
    "\n",
    "    def lml(t, x, M, m0=0, sig_0=sigma_0):\n",
    "        mu0 = np.full(M+1, m0)\n",
    "        Sig_0 = np.eye(M+1)*np.sqrt(sig_0)\n",
    "        mean = x@mu0\n",
    "        cov = sigma_n*np.eye(N)+x@Sig_0@x.T\n",
    "\n",
    "        # Implementation to get lognormal distribution: \n",
    "        sign, log_det_sigma_0 = np.linalg.slogdet(cov)\n",
    "        diff = t - mean\n",
    "\n",
    "        cov_inv = np.linalg.inv(cov)\n",
    "\n",
    "        ll = -0.5 * (diff@cov_inv@diff.T + N * (np.log(2*np.pi) + log_det_sigma_0))\n",
    "\n",
    "        return ll\n",
    "    \n",
    "    \n",
    "    for i, M in enumerate(orders):\n",
    "        # construct data matrix\n",
    "        x = np.zeros((N, M+1))\n",
    "        for j in range(M+1):\n",
    "            x[:,j] = X**j\n",
    "\n",
    "        # get log marginal likelihoods\n",
    "        margs.append(lml(t, x, M))\n",
    "\n",
    "    return margs"
   ]
  },
  {
   "cell_type": "code",
   "execution_count": 29,
   "metadata": {
    "deletable": false,
    "editable": false,
    "nbgrader": {
     "cell_type": "code",
     "checksum": "cd8b3c94cc0fda8b7cb64e7d4a293f60",
     "grade": true,
     "grade_id": "cell-d78cc77a3b106231",
     "locked": true,
     "points": 4,
     "schema_version": 3,
     "solution": false,
     "task": false
    }
   },
   "outputs": [
    {
     "data": {
      "text/plain": [
       "'\\nTest for log_marginal_likelihood.\\n'"
      ]
     },
     "execution_count": 29,
     "metadata": {},
     "output_type": "execute_result"
    }
   ],
   "source": [
    "\"\"\"\n",
    "Test for log_marginal_likelihood.\n",
    "\"\"\"\n"
   ]
  },
  {
   "cell_type": "markdown",
   "metadata": {
    "deletable": false,
    "editable": false,
    "nbgrader": {
     "cell_type": "markdown",
     "checksum": "556a2ec64e11e892fefab07aab65cfac",
     "grade": false,
     "grade_id": "cell-1f442d34ca5e329e",
     "locked": true,
     "schema_version": 3,
     "solution": false,
     "task": false
    }
   },
   "source": [
    "Now plot the results with the help of `log_marginal_likelihood`. You can use `matplotlib.pyplot.bar` for making the bar plot.  \n",
    "\n",
    "_Hint_: You might want to normalize by computing the difference between the log marginal likelihood values and their maximum, and by then taking the exponent of these differences."
   ]
  },
  {
   "cell_type": "code",
   "execution_count": null,
   "metadata": {
    "deletable": false,
    "nbgrader": {
     "cell_type": "code",
     "checksum": "fa1c2a606aff57a09e9ccd7cfccd1248",
     "grade": true,
     "grade_id": "cell-8ecce257dda193fb",
     "locked": false,
     "points": 2,
     "schema_version": 3,
     "solution": true,
     "task": false
    }
   },
   "outputs": [],
   "source": [
    "\"\"\"\n",
    "Plot the marginal likelihood values for different polynomial orders.\n",
    "\"\"\"\n",
    "# YOUR CODE HERE\n",
    "raise NotImplementedError()"
   ]
  },
  {
   "cell_type": "markdown",
   "metadata": {
    "deletable": false,
    "editable": false,
    "nbgrader": {
     "cell_type": "markdown",
     "checksum": "e226b2513c6f81856187f2f883afa10e",
     "grade": false,
     "grade_id": "cell-9df069813f400546",
     "locked": true,
     "schema_version": 3,
     "solution": false,
     "task": false
    }
   },
   "source": [
    "Based on the plot, which model would you choose according to the marginal likelihood?  "
   ]
  },
  {
   "cell_type": "markdown",
   "metadata": {
    "deletable": false,
    "nbgrader": {
     "cell_type": "markdown",
     "checksum": "885d2a6cd882acee5263ad4e39d8d096",
     "grade": true,
     "grade_id": "cell-3f01a1d2ee023123",
     "locked": false,
     "points": 2,
     "schema_version": 3,
     "solution": true,
     "task": false
    }
   },
   "source": [
    "YOUR ANSWER HERE"
   ]
  },
  {
   "cell_type": "markdown",
   "metadata": {
    "deletable": false,
    "editable": false,
    "nbgrader": {
     "cell_type": "markdown",
     "checksum": "57ef369b4cb2c53907b5a2869407318a",
     "grade": false,
     "grade_id": "cell-6a4a4988e7332fb4",
     "locked": true,
     "schema_version": 3,
     "solution": false,
     "task": false
    }
   },
   "source": [
    "5. How would the prior affect the choice of polynomial using marginal likelihood? Let $\\boldsymbol{\\Sigma_{0}}=\\sigma_{0}^{2}\\boldsymbol{I}$ as before and vary $\\sigma_{0}^{2}$. What happens when you increase and decrease $\\sigma_{0}^{2}$? Plot the marginal likelihood for each polynomial order from 1 to 7, for the following hyperparameter values: $\\sigma_{0}^{2}=0.1$ , $\\sigma_{0}^{2}=0.3$, $\\sigma_{0}^{2}=0.4$, $\\sigma_{0}^{2}=0.7$, $\\sigma_{0}^{2}=1.3$, $\\sigma_{0}^{2}=1.4$, $\\sigma_{0}^{2}=1.7$."
   ]
  },
  {
   "cell_type": "code",
   "execution_count": null,
   "metadata": {
    "deletable": false,
    "nbgrader": {
     "cell_type": "code",
     "checksum": "c58084ddc2f8bcbd85637610976c326f",
     "grade": true,
     "grade_id": "cell-5a8f27b42908767d",
     "locked": false,
     "points": 5,
     "schema_version": 3,
     "solution": true,
     "task": false
    }
   },
   "outputs": [],
   "source": [
    "\"\"\"\n",
    "Plot the marginal likelihood values for different polynomial orders. We now consider different values for sigma_0.\n",
    "\"\"\"\n",
    "# YOUR CODE HERE\n",
    "\n",
    "hypersigmas = [0.1, 0.3, 0.4, 0.7, 1.3, 1.4, 1.7]\n",
    "raise NotImplementedError()"
   ]
  },
  {
   "cell_type": "markdown",
   "metadata": {
    "deletable": false,
    "editable": false,
    "nbgrader": {
     "cell_type": "markdown",
     "checksum": "fb47a4c8256b3535da9ade0b5702f1ac",
     "grade": false,
     "grade_id": "cell-9278e618c146a07f",
     "locked": true,
     "schema_version": 3,
     "solution": false,
     "task": false
    }
   },
   "source": [
    "Comment on the effect of changing $\\sigma_{0}^{2}$. What does it imply, in general, for such a modeling choice (i.e. for the _Bayesian_ way of estimation for the polynomial regression)?"
   ]
  },
  {
   "cell_type": "markdown",
   "metadata": {
    "deletable": false,
    "nbgrader": {
     "cell_type": "markdown",
     "checksum": "0a182b96796132e4977b8bedcb7ef214",
     "grade": true,
     "grade_id": "cell-e2e8c5e272656373",
     "locked": false,
     "points": 3,
     "schema_version": 3,
     "solution": true,
     "task": false
    }
   },
   "source": [
    "YOUR ANSWER HERE"
   ]
  }
 ],
 "metadata": {
  "kernelspec": {
   "display_name": "sml",
   "language": "python",
   "name": "python3"
  },
  "language_info": {
   "codemirror_mode": {
    "name": "ipython",
    "version": 3
   },
   "file_extension": ".py",
   "mimetype": "text/x-python",
   "name": "python",
   "nbconvert_exporter": "python",
   "pygments_lexer": "ipython3",
   "version": "3.12.5"
  }
 },
 "nbformat": 4,
 "nbformat_minor": 4
}
