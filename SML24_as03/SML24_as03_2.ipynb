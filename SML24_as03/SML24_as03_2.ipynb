{
 "cells": [
  {
   "cell_type": "markdown",
   "metadata": {
    "editable": false,
    "slideshow": {
     "slide_type": ""
    },
    "tags": []
   },
   "source": [
    "1. **Restart the kernel** (in the menubar, select Kernel$\\rightarrow$Restart)\n",
    "2. **Run all cells** (in the menubar, select Cell$\\rightarrow$Run All).\n",
    "3. __Use the__ `Validate` __button in the Assignments tab before submitting__.\n",
    "\n",
    "__Include comments, derivations, explanations, graphs, etc.__ \n",
    "\n",
    "You __work in groups__ (= 3 people). __Write the full name and S/U-number of all team members!__"
   ]
  },
  {
   "cell_type": "raw",
   "metadata": {
    "editable": true,
    "slideshow": {
     "slide_type": ""
    },
    "tags": [],
    "vscode": {
     "languageId": "raw"
    }
   },
   "source": [
    "GROUP NUMBER (brightspace): 13\n",
    "* Andrew Schroeder, s1111686\n",
    "* Stian Grønlund,   s1122151\n",
    "* Monika Kazlauskaite, s1126411"
   ]
  },
  {
   "cell_type": "markdown",
   "metadata": {
    "editable": true,
    "slideshow": {
     "slide_type": ""
    },
    "tags": []
   },
   "source": [
    "---"
   ]
  },
  {
   "cell_type": "markdown",
   "metadata": {
    "deletable": false,
    "editable": false,
    "nbgrader": {
     "cell_type": "markdown",
     "checksum": "252d084e0dfb2055d74d217c018b2ed3",
     "grade": false,
     "grade_id": "cell-e3a6a6b02afe0d83",
     "locked": true,
     "schema_version": 3,
     "solution": false,
     "task": false
    }
   },
   "source": [
    "# Assignment 3 (Statistical Machine Learning 2024)\n",
    "# **Deadline: 22 November 2024**\n",
    "\n",
    "## Instructions\n",
    "* Fill in any place that says `YOUR CODE HERE` or `YOUR ANSWER HERE` __including comments, derivations, explanations, graphs, etc.__ \n",
    "Elements and/or intermediate steps required to derive the answer have to be in the report. If an exercise requires coding, explain briefly what the code does (in comments). All figures should have titles (descriptions), axis labels, and legends.\n",
    "* __Please use LaTeX to write down equations/derivations/other math__! How to do that in Markdown cells can be found [here](https://www.fabriziomusacchio.com/blog/2021-08-10-How_to_use_LaTeX_in_Markdown/), a starting point for various symbols is [here](https://www.overleaf.com/learn/latex/Mathematical_expressions).\n",
    "* Please do __not add new cells__ to the notebook, try to write the answers only in the provided cells. Before you turn the assignment in, make sure everything runs as expected.\n",
    "* __Use the variable names given in the exercises__, do not assign your own variable names. \n",
    "* __Only one team member needs to upload the solutions__. This can be done under the Assignments tab, where you fetched the assignments, and where you can also validate your submissions. Please do not change the filenames of the individual Jupyter notebooks.\n",
    "\n",
    "For any problems or questions regarding the assignments, ask during the tutorial or send an email to charlotte.cambiervannooten@ru.nl and janneke.verbeek@ru.nl .\n",
    "\n",
    "## Introduction\n",
    "Assignment 3 consists of:\n",
    "1. The faulty lighthouse (30 points);\n",
    "2. __Gaussian processes (40 points)__;\n",
    "3. Bayesian polynomial regression (30 points).\n",
    "\n",
    "## Libraries\n",
    "\n",
    "Please __avoid installing new packages__, unless really necessary."
   ]
  },
  {
   "cell_type": "code",
   "execution_count": null,
   "metadata": {
    "deletable": false,
    "editable": false,
    "nbgrader": {
     "cell_type": "code",
     "checksum": "24e0fd13e7897df168b7db7fd7b8564b",
     "grade": false,
     "grade_id": "cell-57d156d70e92c9aa",
     "locked": true,
     "schema_version": 3,
     "solution": false,
     "task": false
    }
   },
   "outputs": [],
   "source": [
    "import IPython\n",
    "assert IPython.version_info[0] >= 3, \"Your version of IPython is too old, please update it to at least version 3.\"\n",
    "\n",
    "import numpy as np\n",
    "import matplotlib.pyplot as plt\n",
    "from mpl_toolkits.mplot3d import Axes3D\n",
    "\n",
    "# Set fixed random seed for reproducibility\n",
    "np.random.seed(2022)"
   ]
  },
  {
   "cell_type": "markdown",
   "metadata": {
    "deletable": false,
    "editable": false,
    "nbgrader": {
     "cell_type": "markdown",
     "checksum": "e7963d561574f7b0ef2a4a8cee9c2d40",
     "grade": false,
     "grade_id": "cell-52405a8ff5be4bd2",
     "locked": true,
     "schema_version": 3,
     "solution": false,
     "task": false
    }
   },
   "source": [
    "## Gaussian processes (40 points)\n",
    "### Part 1 - Sampling from Gaussian stochastic processes\n",
    "One widely used kernel function for Gaussian process regression is given by the exponential of a quadratic form, with the addition of constant and linear terms (eq. 6.63 Bishop):\n",
    "\\begin{equation}\n",
    "    k(\\mathbf{x}, \\mathbf{x'}) = \\theta_0 \\exp\\left( - \\frac{\\theta_1}{2} || \\mathbf{x} - \\mathbf{x'} ||^2 \\right) + \\theta_2 + \\theta_3 \\mathbf{x}^T \\mathbf{x'}\n",
    "    \\label{eqn:kernel}\n",
    "    \\tag{1}\n",
    "\\end{equation} \n",
    "We denote by $\\boldsymbol{\\theta} = (\\theta_0, \\theta_1, \\theta_2, \\theta_3)$ the hyperparameter vector governing the kernel function $k$. \n",
    "1. Implement the kernel given by equation \\eqref{eqn:kernel} as a function of $\\mathbf{x}$, $\\mathbf{x'}$ and $\\mathbf{\\theta}$. Note that $\\mathbf{x}$ can have any dimension."
   ]
  },
  {
   "cell_type": "code",
   "execution_count": null,
   "metadata": {
    "deletable": false,
    "nbgrader": {
     "cell_type": "code",
     "checksum": "d0e2bcf12bd558542ebf4dc9c4e863fb",
     "grade": false,
     "grade_id": "cell-244cdadcf850dd3a",
     "locked": false,
     "schema_version": 3,
     "solution": true,
     "task": false
    }
   },
   "outputs": [],
   "source": [
    "def kernel(x1, x2, theta):\n",
    "    \"\"\"\n",
    "    Define the multivariate kernel function.\n",
    "\n",
    "    Parameters\n",
    "    ----------\n",
    "    x1 : (D,) np.ndarray\n",
    "        A D-dimensional data point.\n",
    "    x2 : (D,) np.ndarray\n",
    "        Another D-dimensional data point.\n",
    "    theta : (4,) np.ndarray\n",
    "        The array containing the hyperparameters governing the kernel function.\n",
    "\n",
    "    Returns\n",
    "    -------\n",
    "    float\n",
    "        Value of the kernel function.\n",
    "    \"\"\"\n",
    "    # YOUR CODE HERE\n",
    "    raise NotImplementedError()"
   ]
  },
  {
   "cell_type": "code",
   "execution_count": null,
   "metadata": {
    "deletable": false,
    "editable": false,
    "nbgrader": {
     "cell_type": "code",
     "checksum": "131ebb0f0c30a4e292c6935080d49358",
     "grade": true,
     "grade_id": "cell-350de9922d852045",
     "locked": true,
     "points": 3,
     "schema_version": 3,
     "solution": false,
     "task": false
    }
   },
   "outputs": [],
   "source": [
    "\"\"\"\n",
    "Hidden test for the kernel function.\n",
    "\"\"\""
   ]
  },
  {
   "cell_type": "markdown",
   "metadata": {
    "deletable": false,
    "editable": false,
    "nbgrader": {
     "cell_type": "markdown",
     "checksum": "d06f8afb51930a721a4a775950e09b83",
     "grade": false,
     "grade_id": "cell-71bf6c73c61c8d2d",
     "locked": true,
     "schema_version": 3,
     "solution": false,
     "task": false
    }
   },
   "source": [
    "2. We first consider the univariate case, for the parameter values $\\mathbf{\\theta} = (1, 1, 1, 1)$ and $N = 101$ equally spaced points $\\mathbf{X}$ in the interval $[-1, 1]$. Compute the Gram matrix $\\mathbf{K}(\\mathbf{X}, \\mathbf{X})$ (eq. 6.54 Bishop).\n",
    "\n",
    "__Note:__ Even when $\\mathbf{K}$ is positive (semi)definite, some of its eigenvalues may be too small to accurately compute (same for the determinant). This may pose a problem when generating a multivariate Gaussian distribution using $\\mathbf{K}$ as its covariance matrix. You can alleviate this issue by adding a very small (negligible) diagonal term to $\\mathbf{K}$. "
   ]
  },
  {
   "cell_type": "code",
   "execution_count": null,
   "metadata": {
    "deletable": false,
    "nbgrader": {
     "cell_type": "code",
     "checksum": "bbdca576edc1554b412c12312cf15b6b",
     "grade": false,
     "grade_id": "cell-15b47d6adb1aa8cd",
     "locked": false,
     "schema_version": 3,
     "solution": true,
     "task": false
    }
   },
   "outputs": [],
   "source": [
    "\"\"\"\n",
    "Define the parameter values.\n",
    "\n",
    "Parameters\n",
    "----------\n",
    "theta : (4,) np.ndarray\n",
    "    Hyperparameters for the kernel function.\n",
    "X : (N,) np.ndarray\n",
    "    Array of equally spaced points.\n",
    "\"\"\"\n",
    "theta = np.array([1, 1, 1, 1])\n",
    "N = 101\n",
    "X = np.linspace(-1, 1, N)\n",
    "\n",
    "def compute_Gram_matrix(X, theta):\n",
    "    \"\"\"\n",
    "    Compute the Gram matrix.\n",
    "\n",
    "    Parameters\n",
    "    ----------\n",
    "    X : (N,D) np.ndarray\n",
    "        The array containing the data points.\n",
    "    theta : (4,) np.ndarray\n",
    "        The array containing the hyperparameters governing the kernel function.\n",
    "\n",
    "    Returns\n",
    "    -------\n",
    "    Gram matrix. (np.ndarray)\n",
    "    \"\"\"\n",
    "    # YOUR CODE HERE\n",
    "    raise NotImplementedError()"
   ]
  },
  {
   "cell_type": "code",
   "execution_count": null,
   "metadata": {
    "deletable": false,
    "editable": false,
    "nbgrader": {
     "cell_type": "code",
     "checksum": "d25e66ee5fdc220e18a8aca734017f55",
     "grade": true,
     "grade_id": "cell-de2dd2da1f174340",
     "locked": true,
     "points": 4,
     "schema_version": 3,
     "solution": false,
     "task": false
    }
   },
   "outputs": [],
   "source": [
    "\"\"\"\n",
    "Tests for compute_Gram_matrix.\n",
    "\"\"\"\n",
    "K = compute_Gram_matrix(X, theta)\n",
    "assert type(K) is np.ndarray"
   ]
  },
  {
   "cell_type": "markdown",
   "metadata": {
    "deletable": false,
    "editable": false,
    "nbgrader": {
     "cell_type": "markdown",
     "checksum": "b8d7faa9257273938aa15244c29d7109",
     "grade": false,
     "grade_id": "cell-c7c4f69841943dd7",
     "locked": true,
     "schema_version": 3,
     "solution": false,
     "task": false
    }
   },
   "source": [
    "What is the size of $\\mathbf{K}$?"
   ]
  },
  {
   "cell_type": "markdown",
   "metadata": {
    "deletable": false,
    "nbgrader": {
     "cell_type": "markdown",
     "checksum": "73ebbf619db54f2fe9f7400cba4fabb4",
     "grade": true,
     "grade_id": "cell-41b2b53ef1db9a09",
     "locked": false,
     "points": 1,
     "schema_version": 3,
     "solution": true,
     "task": false
    }
   },
   "source": [
    "YOUR ANSWER HERE"
   ]
  },
  {
   "cell_type": "markdown",
   "metadata": {
    "deletable": false,
    "editable": false,
    "nbgrader": {
     "cell_type": "markdown",
     "checksum": "4c4244f0f47084c9c41b00380681c155",
     "grade": false,
     "grade_id": "cell-df6c0716cb7c0f25",
     "locked": true,
     "schema_version": 3,
     "solution": false,
     "task": false
    }
   },
   "source": [
    "3. We will now use the previously computed matrix $\\mathbf{K}(\\mathbf{X}, \\mathbf{X})$ to produce samples from the Gaussian process prior $\\mathbf{y}(\\mathbf{X}) \\sim \\mathcal{N}(\\mathbf{0}, \\mathbf{K}(\\mathbf{X}, \\mathbf{X}))$, with $\\mathbf{X}$ being the previously determined $N$ equally spaced points. Generate five functions $\\mathbf{y}(\\mathbf{X})$ and plot them against the $N$ input values $\\mathbf{X}$. Repeat this process (remember to compute a new $\\mathbf{K}$ each time) for the hyperparameter configurations from Bishop, Figure 6.5:\n",
    "\\begin{equation}\n",
    "    \\mathbf{\\theta} \\in \\{ (1, 4, 0, 0), (9, 4, 0, 0), (1, 64, 0, 0), (1, 0.25, 0, 0), (1, 4, 10, 0), (1, 4, 0, 5) \\}.\n",
    "\\end{equation} "
   ]
  },
  {
   "cell_type": "code",
   "execution_count": null,
   "metadata": {
    "deletable": false,
    "nbgrader": {
     "cell_type": "code",
     "checksum": "6a77888792250ef4697abca39afedcfa",
     "grade": true,
     "grade_id": "cell-91a8983f8779941c",
     "locked": false,
     "points": 5,
     "schema_version": 3,
     "solution": true,
     "task": false
    }
   },
   "outputs": [],
   "source": [
    "def generate_curves_GP_prior(theta, num_samples = 5):\n",
    "    \"\"\"\n",
    "    Generate univariate function samples (curves) from the Gaussian process prior.\n",
    "\n",
    "    Parameters\n",
    "    ----------\n",
    "    theta : (4,) np.ndarray\n",
    "        The array containing the hyperparameters governing the kernel function.\n",
    "    num_samples : integer\n",
    "        The number of functions to plot.\n",
    "    \"\"\"\n",
    "    # YOUR CODE HERE\n",
    "    raise NotImplementedError()"
   ]
  },
  {
   "cell_type": "code",
   "execution_count": null,
   "metadata": {
    "deletable": false,
    "nbgrader": {
     "cell_type": "code",
     "checksum": "6b44804d07c8ecc11f4963a689cbccbe",
     "grade": true,
     "grade_id": "cell-7e568c52a1390551",
     "locked": false,
     "points": 2,
     "schema_version": 3,
     "solution": true,
     "task": false
    }
   },
   "outputs": [],
   "source": [
    "\"\"\"\n",
    "Plot curves with different values of theta.\n",
    "\"\"\"\n",
    "# YOUR CODE HERE\n",
    "raise NotImplementedError()"
   ]
  },
  {
   "cell_type": "markdown",
   "metadata": {
    "deletable": false,
    "editable": false,
    "nbgrader": {
     "cell_type": "markdown",
     "checksum": "14fba998f6ce850fddc215dec053c99a",
     "grade": false,
     "grade_id": "cell-4bb36aba746b5e23",
     "locked": true,
     "schema_version": 3,
     "solution": false,
     "task": false
    }
   },
   "source": [
    "Describe the differences between the plots. Explain in which way each of the kernel parameters affects the generated samples."
   ]
  },
  {
   "cell_type": "markdown",
   "metadata": {
    "deletable": false,
    "nbgrader": {
     "cell_type": "markdown",
     "checksum": "d2766b28a322320f8e5941fdeb34d97d",
     "grade": true,
     "grade_id": "cell-9bf4c95c7a2f9c37",
     "locked": false,
     "points": 3,
     "schema_version": 3,
     "solution": true,
     "task": false
    }
   },
   "source": [
    "YOUR ANSWER HERE"
   ]
  },
  {
   "cell_type": "markdown",
   "metadata": {
    "deletable": false,
    "editable": false,
    "nbgrader": {
     "cell_type": "markdown",
     "checksum": "b7da60816ad41419596d5aee34247f16",
     "grade": false,
     "grade_id": "cell-366044a1ee6f6dc8",
     "locked": true,
     "schema_version": 3,
     "solution": false,
     "task": false
    }
   },
   "source": [
    "4. We now move to the bivariate case. Instead of an interval, we now consider a 2-D grid of equally spaced points of size $N = 21 \\times 21$ in $[-1, 1] \\times [-1, 1]$. We collect all these grid points in a data matrix $\\mathbf{X}$, where each one of the 441 observations has two dimensions."
   ]
  },
  {
   "cell_type": "code",
   "execution_count": null,
   "metadata": {
    "deletable": false,
    "nbgrader": {
     "cell_type": "code",
     "checksum": "58bb88bff851a518112ef3085dfd9c91",
     "grade": false,
     "grade_id": "cell-b91ef28dcf1e7306",
     "locked": false,
     "schema_version": 3,
     "solution": true,
     "task": false
    }
   },
   "outputs": [],
   "source": [
    "\"\"\"\n",
    "Compute the Gram matrix in the bivariate case.\n",
    "\n",
    "Parameters\n",
    "----------\n",
    "K : np.ndarray\n",
    "    The Gram matrix.\n",
    "\"\"\"\n",
    "# YOUR CODE HERE\n",
    "raise NotImplementedError()"
   ]
  },
  {
   "cell_type": "code",
   "execution_count": null,
   "metadata": {
    "deletable": false,
    "editable": false,
    "nbgrader": {
     "cell_type": "code",
     "checksum": "cde111a5e1d44c76643751fd94d521e2",
     "grade": true,
     "grade_id": "cell-2f4ded17a4d217db",
     "locked": true,
     "points": 3,
     "schema_version": 3,
     "solution": false,
     "task": false
    }
   },
   "outputs": [],
   "source": [
    "\"\"\"\n",
    "Tests for bivariate Gram matrix.\n",
    "\"\"\""
   ]
  },
  {
   "cell_type": "markdown",
   "metadata": {
    "deletable": false,
    "editable": false,
    "nbgrader": {
     "cell_type": "markdown",
     "checksum": "5f5e8731e858b32af648d3324075bb0e",
     "grade": false,
     "grade_id": "cell-b159a220f9596db3",
     "locked": true,
     "schema_version": 3,
     "solution": false,
     "task": false
    }
   },
   "source": [
    "What is the size of $\\mathbf{K}$ now? What does this tell you about the scalability of sampling multivariate functions from Gaussian processes in higher dimensions?"
   ]
  },
  {
   "cell_type": "markdown",
   "metadata": {
    "deletable": false,
    "nbgrader": {
     "cell_type": "markdown",
     "checksum": "1a17e7a9c276226a36fda7cad5677a52",
     "grade": true,
     "grade_id": "cell-478c45187cb376ee",
     "locked": false,
     "points": 2,
     "schema_version": 3,
     "solution": true,
     "task": false
    }
   },
   "source": [
    "YOUR ANSWER HERE"
   ]
  },
  {
   "cell_type": "markdown",
   "metadata": {
    "deletable": false,
    "editable": false,
    "nbgrader": {
     "cell_type": "markdown",
     "checksum": "70e2d783744e753284df0072799a8848",
     "grade": false,
     "grade_id": "cell-2ae87a6452e46719",
     "locked": true,
     "schema_version": 3,
     "solution": false,
     "task": false
    }
   },
   "source": [
    "5. Using the same kernel from equation \\eqref{eqn:kernel}, compute the Gram matrix $\\mathbf{K}(\\mathbf{X}, \\mathbf{X})$ on the grid for each hyperparameter configuration $\\mathbf{\\theta} \\in \\{ (1, 1, 1, 1), (1, 10, 1, 1), (1, 1, 1, 10) \\}$. For each $\\mathbf{K}$, generate and plot five random surfaces from each Gaussian process prior  $\\mathbf{y}(\\mathbf{X}) \\sim \\mathcal{N}(\\mathbf{0}, \\mathbf{K}(\\mathbf{X}, \\mathbf{X}))$."
   ]
  },
  {
   "cell_type": "code",
   "execution_count": null,
   "metadata": {
    "deletable": false,
    "nbgrader": {
     "cell_type": "code",
     "checksum": "03c5e878caeb27a2a78e67465f85ee9a",
     "grade": true,
     "grade_id": "cell-e6b906b954c3a1c4",
     "locked": false,
     "points": 4,
     "schema_version": 3,
     "solution": true,
     "task": false
    }
   },
   "outputs": [],
   "source": [
    "def generate_surfaces_GP_prior(theta, num_samples = 5):\n",
    "    \"\"\"\n",
    "    Generate bivariate function samples (surfaces) from the Gaussian process prior.\n",
    "\n",
    "    Parameters\n",
    "    ----------\n",
    "    theta : (4, ) array\n",
    "        The array containing the hyperparameters governing the kernel function.\n",
    "    num_samples : integer\n",
    "        The number of functions to plot.\n",
    "\n",
    "    Returns\n",
    "    -------\n",
    "    \"\"\"\n",
    "    # YOUR CODE HERE\n",
    "    raise NotImplementedError()"
   ]
  },
  {
   "cell_type": "code",
   "execution_count": null,
   "metadata": {
    "deletable": false,
    "nbgrader": {
     "cell_type": "code",
     "checksum": "ce358dc2c9efad86086f09a3925467d1",
     "grade": true,
     "grade_id": "cell-fe6416cb0e5fdc58",
     "locked": false,
     "points": 2,
     "schema_version": 3,
     "solution": true,
     "task": false
    }
   },
   "outputs": [],
   "source": [
    "\"\"\"\n",
    "Plot curves with different values of theta.\n",
    "\"\"\"\n",
    "# YOUR CODE HERE\n",
    "raise NotImplementedError()"
   ]
  },
  {
   "cell_type": "markdown",
   "metadata": {
    "deletable": false,
    "editable": false,
    "nbgrader": {
     "cell_type": "markdown",
     "checksum": "0d81120d52113b1c3c3d227c3ece83a5",
     "grade": false,
     "grade_id": "cell-4259592810c38207",
     "locked": true,
     "schema_version": 3,
     "solution": false,
     "task": false
    }
   },
   "source": [
    "Compare the observed differences to the univariate case."
   ]
  },
  {
   "cell_type": "markdown",
   "metadata": {
    "deletable": false,
    "nbgrader": {
     "cell_type": "markdown",
     "checksum": "51501d9949db544ffa165b8d0709eb53",
     "grade": true,
     "grade_id": "cell-2c7643916c9f098c",
     "locked": false,
     "points": 1,
     "schema_version": 3,
     "solution": true,
     "task": false
    }
   },
   "source": [
    "YOUR ANSWER HERE"
   ]
  },
  {
   "cell_type": "markdown",
   "metadata": {
    "deletable": false,
    "editable": false,
    "nbgrader": {
     "cell_type": "markdown",
     "checksum": "9713e52ca05f04bab7509fca0fe40ef9",
     "grade": false,
     "grade_id": "cell-c73db8220296e2b1",
     "locked": true,
     "schema_version": 3,
     "solution": false,
     "task": false
    }
   },
   "source": [
    "### Part 2 - Gaussian processes for regression\n",
    "We would like to apply Gaussian process models to the problem of regression (Bishop 6.4.2). We consider a noisy model of the form:\n",
    "\\begin{equation*}\n",
    "t_n = y_n + \\epsilon_n,\n",
    "\\end{equation*}\n",
    "where $y_n = y(\\mathbf{x}_n)$ and $\\epsilon_n$ are i.i.d. samples from a random noise variable on the observed target values. Furthermore, we assume that the noise process has a Gaussian distribution given by:\n",
    "\\begin{equation}\n",
    "    p(t_n | y_n) = \\mathcal{N}(t_n | y_n, \\beta^{-1})\n",
    "    \\label{eqn:gp_noise_process}\n",
    "    \\tag{2}\n",
    "\\end{equation}\n",
    "\n",
    "Going back to a one-dimensional input space, we consider the following training data consisting of four data points:\n",
    "\\begin{equation*}\n",
    "\t\\mathcal{D} = \\{ (x_1 = -0.5, t_1 = 0.5), (x_2 = 0.2, t_2 = -1), (x_3 = 0.3, t_3 = 3), (x_4 = -0.1, t_4 = -2.5)\\}.\n",
    "\\end{equation*}\n",
    "1. Just as before, compute the Gram matrix of the training data for $\\mathbf{\\theta} = (1, 1, 1, 1)$. Then, taking $\\beta = 1$ in equation \\eqref{eqn:gp_noise_process}, compute the covariance matrix $\\mathbf{C}$ corresponding to the marginal distribution of the training target values: $p(\\mathbf{t}) = \\mathcal{N}(\\mathbf{t} | \\mathbf{0}, \\mathbf{C})$."
   ]
  },
  {
   "cell_type": "code",
   "execution_count": null,
   "metadata": {
    "deletable": false,
    "nbgrader": {
     "cell_type": "code",
     "checksum": "ed63a7e7600031baed87d9b415e36674",
     "grade": false,
     "grade_id": "cell-02cb6c94ecd75584",
     "locked": false,
     "schema_version": 3,
     "solution": true,
     "task": false
    }
   },
   "outputs": [],
   "source": [
    "\"\"\"\n",
    "Compute the marginal distribution covariance.\n",
    "\n",
    "Parameters\n",
    "----------\n",
    "C : (4,4) np.ndarray\n",
    "    The covariance matrix corresponding to the marginal distribution.\n",
    "\"\"\"\n",
    "# YOUR CODE HERE\n",
    "raise NotImplementedError()"
   ]
  },
  {
   "cell_type": "code",
   "execution_count": null,
   "metadata": {
    "deletable": false,
    "editable": false,
    "nbgrader": {
     "cell_type": "code",
     "checksum": "d4680846162f58d55b6e5f494242b5a3",
     "grade": true,
     "grade_id": "cell-8698de2d3e9b656a",
     "locked": true,
     "points": 3,
     "schema_version": 3,
     "solution": false,
     "task": false
    }
   },
   "outputs": [],
   "source": [
    "\"\"\"\n",
    "Tests to check the covariance matrix C.\n",
    "\"\"\"\n",
    "assert type(C) is np.ndarray\n",
    "assert C.shape == (4,4)"
   ]
  },
  {
   "cell_type": "markdown",
   "metadata": {
    "deletable": false,
    "editable": false,
    "nbgrader": {
     "cell_type": "markdown",
     "checksum": "0df2057e2498c6cbbea3effe9f927725",
     "grade": false,
     "grade_id": "cell-dd2a4570d8386393",
     "locked": true,
     "schema_version": 3,
     "solution": false,
     "task": false
    }
   },
   "source": [
    "2. Using the previous results, compute the mean and the covariance of the conditional distribution $p(t | \\mathbf{t})$ of a new target value $t$ corresponding to the input $x = 0$. Which equations from Bishop do you need? Write them down here."
   ]
  },
  {
   "cell_type": "markdown",
   "metadata": {
    "deletable": false,
    "nbgrader": {
     "cell_type": "markdown",
     "checksum": "8ea1a1140a43e7a62c0096d3a2fc024d",
     "grade": true,
     "grade_id": "cell-501fa135983664b3",
     "locked": false,
     "points": 3,
     "schema_version": 3,
     "solution": true,
     "task": false
    }
   },
   "source": [
    "YOUR ANSWER HERE"
   ]
  },
  {
   "cell_type": "markdown",
   "metadata": {
    "deletable": false,
    "editable": false,
    "nbgrader": {
     "cell_type": "markdown",
     "checksum": "a9a1e08285fb375b22b9482717aeb3ae",
     "grade": false,
     "grade_id": "cell-739c08fdb07ab083",
     "locked": true,
     "schema_version": 3,
     "solution": false,
     "task": false
    }
   },
   "source": [
    "Compute the mean and the covariance in the cell below. "
   ]
  },
  {
   "cell_type": "code",
   "execution_count": null,
   "metadata": {
    "deletable": false,
    "nbgrader": {
     "cell_type": "code",
     "checksum": "1413ea8f62a8a0279d2551e9bd004954",
     "grade": false,
     "grade_id": "cell-829193a0edec6858",
     "locked": false,
     "schema_version": 3,
     "solution": true,
     "task": false
    }
   },
   "outputs": [],
   "source": [
    "\"\"\"\n",
    "Compute the conditional predictive distribution.\n",
    "\n",
    "Parameters\n",
    "----------\n",
    "m : float\n",
    "    The mean of the conditional predictive distribution.\n",
    "s2 : float\n",
    "    The (co)variance of the conditional predictive distribution.\n",
    "\"\"\"\n",
    "# YOUR CODE HERE\n",
    "raise NotImplementedError()"
   ]
  },
  {
   "cell_type": "code",
   "execution_count": null,
   "metadata": {
    "deletable": false,
    "editable": false,
    "nbgrader": {
     "cell_type": "code",
     "checksum": "1321ae2819270149fd94739c51a2c5c9",
     "grade": true,
     "grade_id": "cell-03872a532232b313",
     "locked": true,
     "points": 2,
     "schema_version": 3,
     "solution": false,
     "task": false
    }
   },
   "outputs": [],
   "source": [
    "\"\"\"\n",
    "Tests to check the mean m and (co)variance s2.\n",
    "\"\"\"\n",
    "assert (type(m) is float) or (type(m) is np.float64)\n",
    "assert (type(s2) is float) or (type(s2) is np.float64)"
   ]
  },
  {
   "cell_type": "markdown",
   "metadata": {
    "deletable": false,
    "editable": false,
    "nbgrader": {
     "cell_type": "markdown",
     "checksum": "3acf3916d16ff31c2c94ed690c54e1e4",
     "grade": false,
     "grade_id": "cell-7865c15992467844",
     "locked": true,
     "schema_version": 3,
     "solution": false,
     "task": false
    }
   },
   "source": [
    "3. Does the mean of the conditional distribution $p(t | \\mathbf{t})$ go to zero in the limit $x \\rightarrow \\pm \\infty$? If so, explain why this happens. If not, how would you set the parameters $\\mathbf{\\theta}$ of the kernel function to make it happen?"
   ]
  },
  {
   "cell_type": "markdown",
   "metadata": {
    "deletable": false,
    "nbgrader": {
     "cell_type": "markdown",
     "checksum": "37b2597fc47fd6ee4b0040ed40f34db7",
     "grade": true,
     "grade_id": "cell-b5dd1f4b9613f281",
     "locked": false,
     "points": 2,
     "schema_version": 3,
     "solution": true,
     "task": false
    }
   },
   "source": [
    "YOUR ANSWER HERE"
   ]
  }
 ],
 "metadata": {
  "kernelspec": {
   "display_name": "Python 3 (ipykernel)",
   "language": "python",
   "name": "python3"
  },
  "language_info": {
   "codemirror_mode": {
    "name": "ipython",
    "version": 3
   },
   "file_extension": ".py",
   "mimetype": "text/x-python",
   "name": "python",
   "nbconvert_exporter": "python",
   "pygments_lexer": "ipython3",
   "version": "3.10.9"
  }
 },
 "nbformat": 4,
 "nbformat_minor": 4
}
